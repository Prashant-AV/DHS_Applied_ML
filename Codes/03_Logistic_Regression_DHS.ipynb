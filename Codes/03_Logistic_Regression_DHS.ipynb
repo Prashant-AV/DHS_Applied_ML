{
 "cells": [
  {
   "cell_type": "markdown",
   "metadata": {},
   "source": [
    "# Logistic Regression Model Development\n",
    "Trainer : - Rajesh Jakhtoia"
   ]
  },
  {
   "cell_type": "markdown",
   "metadata": {},
   "source": [
    "### Load packages"
   ]
  },
  {
   "cell_type": "code",
   "execution_count": 1,
   "metadata": {},
   "outputs": [],
   "source": [
    "##Import the packages\n",
    "import pandas as pd\n",
    "import numpy as np"
   ]
  },
  {
   "cell_type": "markdown",
   "metadata": {},
   "source": [
    "### Import Data"
   ]
  },
  {
   "cell_type": "code",
   "execution_count": 2,
   "metadata": {},
   "outputs": [],
   "source": [
    "LR_DF = pd.read_csv(\"LR_DF_V2.csv\")"
   ]
  },
  {
   "cell_type": "code",
   "execution_count": 3,
   "metadata": {},
   "outputs": [
    {
     "data": {
      "text/plain": [
       "(20000, 10)"
      ]
     },
     "execution_count": 3,
     "metadata": {},
     "output_type": "execute_result"
    }
   ],
   "source": [
    "LR_DF.shape"
   ]
  },
  {
   "cell_type": "code",
   "execution_count": 4,
   "metadata": {},
   "outputs": [
    {
     "data": {
      "text/html": [
       "<div>\n",
       "<style scoped>\n",
       "    .dataframe tbody tr th:only-of-type {\n",
       "        vertical-align: middle;\n",
       "    }\n",
       "\n",
       "    .dataframe tbody tr th {\n",
       "        vertical-align: top;\n",
       "    }\n",
       "\n",
       "    .dataframe thead th {\n",
       "        text-align: right;\n",
       "    }\n",
       "</style>\n",
       "<table border=\"1\" class=\"dataframe\">\n",
       "  <thead>\n",
       "    <tr style=\"text-align: right;\">\n",
       "      <th>col_0</th>\n",
       "      <th>count</th>\n",
       "      <th>prop</th>\n",
       "    </tr>\n",
       "    <tr>\n",
       "      <th>Target</th>\n",
       "      <th></th>\n",
       "      <th></th>\n",
       "    </tr>\n",
       "  </thead>\n",
       "  <tbody>\n",
       "    <tr>\n",
       "      <th>0</th>\n",
       "      <td>18267</td>\n",
       "      <td>0.91335</td>\n",
       "    </tr>\n",
       "    <tr>\n",
       "      <th>1</th>\n",
       "      <td>1733</td>\n",
       "      <td>0.08665</td>\n",
       "    </tr>\n",
       "  </tbody>\n",
       "</table>\n",
       "</div>"
      ],
      "text/plain": [
       "col_0   count     prop\n",
       "Target                \n",
       "0       18267  0.91335\n",
       "1        1733  0.08665"
      ]
     },
     "execution_count": 4,
     "metadata": {},
     "output_type": "execute_result"
    }
   ],
   "source": [
    "## Get Frequency of 0 and 1\n",
    "target_freq = pd.crosstab(index=LR_DF['Target'], \n",
    "                             columns=\"count\",\n",
    "                             )\n",
    "\n",
    "target_freq['prop'] = target_freq/target_freq.sum()\n",
    "target_freq"
   ]
  },
  {
   "cell_type": "code",
   "execution_count": 5,
   "metadata": {},
   "outputs": [
    {
     "data": {
      "text/html": [
       "<div>\n",
       "<style scoped>\n",
       "    .dataframe tbody tr th:only-of-type {\n",
       "        vertical-align: middle;\n",
       "    }\n",
       "\n",
       "    .dataframe tbody tr th {\n",
       "        vertical-align: top;\n",
       "    }\n",
       "\n",
       "    .dataframe thead th {\n",
       "        text-align: right;\n",
       "    }\n",
       "</style>\n",
       "<table border=\"1\" class=\"dataframe\">\n",
       "  <thead>\n",
       "    <tr style=\"text-align: right;\">\n",
       "      <th></th>\n",
       "      <th>Cust_ID</th>\n",
       "      <th>Target</th>\n",
       "      <th>Age</th>\n",
       "      <th>Gender</th>\n",
       "      <th>Balance</th>\n",
       "      <th>Occupation</th>\n",
       "      <th>No_OF_CR_TXNS</th>\n",
       "      <th>AGE_BKT</th>\n",
       "      <th>SCR</th>\n",
       "      <th>Holding_Period</th>\n",
       "    </tr>\n",
       "  </thead>\n",
       "  <tbody>\n",
       "    <tr>\n",
       "      <th>0</th>\n",
       "      <td>C16505</td>\n",
       "      <td>0</td>\n",
       "      <td>41</td>\n",
       "      <td>M</td>\n",
       "      <td>91519.92</td>\n",
       "      <td>SELF-EMP</td>\n",
       "      <td>38</td>\n",
       "      <td>41-45</td>\n",
       "      <td>926</td>\n",
       "      <td>15</td>\n",
       "    </tr>\n",
       "    <tr>\n",
       "      <th>1</th>\n",
       "      <td>C17241</td>\n",
       "      <td>0</td>\n",
       "      <td>52</td>\n",
       "      <td>M</td>\n",
       "      <td>117288.96</td>\n",
       "      <td>SAL</td>\n",
       "      <td>17</td>\n",
       "      <td>&gt;50</td>\n",
       "      <td>768</td>\n",
       "      <td>13</td>\n",
       "    </tr>\n",
       "    <tr>\n",
       "      <th>2</th>\n",
       "      <td>C18802</td>\n",
       "      <td>0</td>\n",
       "      <td>31</td>\n",
       "      <td>F</td>\n",
       "      <td>259827.44</td>\n",
       "      <td>SENP</td>\n",
       "      <td>8</td>\n",
       "      <td>31-35</td>\n",
       "      <td>816</td>\n",
       "      <td>5</td>\n",
       "    </tr>\n",
       "    <tr>\n",
       "      <th>3</th>\n",
       "      <td>C19289</td>\n",
       "      <td>0</td>\n",
       "      <td>45</td>\n",
       "      <td>F</td>\n",
       "      <td>26677.55</td>\n",
       "      <td>PROF</td>\n",
       "      <td>14</td>\n",
       "      <td>41-45</td>\n",
       "      <td>353</td>\n",
       "      <td>18</td>\n",
       "    </tr>\n",
       "    <tr>\n",
       "      <th>4</th>\n",
       "      <td>C14028</td>\n",
       "      <td>0</td>\n",
       "      <td>39</td>\n",
       "      <td>F</td>\n",
       "      <td>43440.31</td>\n",
       "      <td>SENP</td>\n",
       "      <td>1</td>\n",
       "      <td>36-40</td>\n",
       "      <td>751</td>\n",
       "      <td>31</td>\n",
       "    </tr>\n",
       "    <tr>\n",
       "      <th>5</th>\n",
       "      <td>C17960</td>\n",
       "      <td>0</td>\n",
       "      <td>45</td>\n",
       "      <td>M</td>\n",
       "      <td>403324.49</td>\n",
       "      <td>SENP</td>\n",
       "      <td>11</td>\n",
       "      <td>41-45</td>\n",
       "      <td>364</td>\n",
       "      <td>2</td>\n",
       "    </tr>\n",
       "    <tr>\n",
       "      <th>6</th>\n",
       "      <td>C10216</td>\n",
       "      <td>1</td>\n",
       "      <td>33</td>\n",
       "      <td>M</td>\n",
       "      <td>245500.00</td>\n",
       "      <td>SAL</td>\n",
       "      <td>24</td>\n",
       "      <td>31-35</td>\n",
       "      <td>166</td>\n",
       "      <td>9</td>\n",
       "    </tr>\n",
       "    <tr>\n",
       "      <th>7</th>\n",
       "      <td>C4575</td>\n",
       "      <td>0</td>\n",
       "      <td>26</td>\n",
       "      <td>F</td>\n",
       "      <td>464931.92</td>\n",
       "      <td>SELF-EMP</td>\n",
       "      <td>18</td>\n",
       "      <td>26-30</td>\n",
       "      <td>448</td>\n",
       "      <td>28</td>\n",
       "    </tr>\n",
       "    <tr>\n",
       "      <th>8</th>\n",
       "      <td>C6171</td>\n",
       "      <td>0</td>\n",
       "      <td>38</td>\n",
       "      <td>M</td>\n",
       "      <td>49257.03</td>\n",
       "      <td>SAL</td>\n",
       "      <td>19</td>\n",
       "      <td>36-40</td>\n",
       "      <td>237</td>\n",
       "      <td>5</td>\n",
       "    </tr>\n",
       "    <tr>\n",
       "      <th>9</th>\n",
       "      <td>C484</td>\n",
       "      <td>1</td>\n",
       "      <td>44</td>\n",
       "      <td>M</td>\n",
       "      <td>10791.71</td>\n",
       "      <td>SELF-EMP</td>\n",
       "      <td>17</td>\n",
       "      <td>41-45</td>\n",
       "      <td>678</td>\n",
       "      <td>3</td>\n",
       "    </tr>\n",
       "  </tbody>\n",
       "</table>\n",
       "</div>"
      ],
      "text/plain": [
       "  Cust_ID  Target  Age Gender    Balance Occupation  No_OF_CR_TXNS AGE_BKT  \\\n",
       "0  C16505       0   41      M   91519.92   SELF-EMP             38   41-45   \n",
       "1  C17241       0   52      M  117288.96        SAL             17     >50   \n",
       "2  C18802       0   31      F  259827.44       SENP              8   31-35   \n",
       "3  C19289       0   45      F   26677.55       PROF             14   41-45   \n",
       "4  C14028       0   39      F   43440.31       SENP              1   36-40   \n",
       "5  C17960       0   45      M  403324.49       SENP             11   41-45   \n",
       "6  C10216       1   33      M  245500.00        SAL             24   31-35   \n",
       "7   C4575       0   26      F  464931.92   SELF-EMP             18   26-30   \n",
       "8   C6171       0   38      M   49257.03        SAL             19   36-40   \n",
       "9    C484       1   44      M   10791.71   SELF-EMP             17   41-45   \n",
       "\n",
       "   SCR  Holding_Period  \n",
       "0  926              15  \n",
       "1  768              13  \n",
       "2  816               5  \n",
       "3  353              18  \n",
       "4  751              31  \n",
       "5  364               2  \n",
       "6  166               9  \n",
       "7  448              28  \n",
       "8  237               5  \n",
       "9  678               3  "
      ]
     },
     "execution_count": 5,
     "metadata": {},
     "output_type": "execute_result"
    }
   ],
   "source": [
    "LR_DF.head(10)"
   ]
  },
  {
   "cell_type": "markdown",
   "metadata": {},
   "source": [
    "## Profiling"
   ]
  },
  {
   "cell_type": "code",
   "execution_count": 6,
   "metadata": {},
   "outputs": [
    {
     "data": {
      "text/html": [
       "<div>\n",
       "<style scoped>\n",
       "    .dataframe tbody tr th:only-of-type {\n",
       "        vertical-align: middle;\n",
       "    }\n",
       "\n",
       "    .dataframe tbody tr th {\n",
       "        vertical-align: top;\n",
       "    }\n",
       "\n",
       "    .dataframe thead th {\n",
       "        text-align: right;\n",
       "    }\n",
       "</style>\n",
       "<table border=\"1\" class=\"dataframe\">\n",
       "  <thead>\n",
       "    <tr style=\"text-align: right;\">\n",
       "      <th></th>\n",
       "      <th>Cust_ID</th>\n",
       "      <th>Target</th>\n",
       "      <th>Age</th>\n",
       "      <th>Gender</th>\n",
       "      <th>Balance</th>\n",
       "      <th>Occupation</th>\n",
       "      <th>No_OF_CR_TXNS</th>\n",
       "      <th>AGE_BKT</th>\n",
       "      <th>SCR</th>\n",
       "      <th>Holding_Period</th>\n",
       "    </tr>\n",
       "  </thead>\n",
       "  <tbody>\n",
       "    <tr>\n",
       "      <th>count</th>\n",
       "      <td>20000</td>\n",
       "      <td>20000.000000</td>\n",
       "      <td>20000.000000</td>\n",
       "      <td>20000</td>\n",
       "      <td>2.000000e+04</td>\n",
       "      <td>20000</td>\n",
       "      <td>20000.000000</td>\n",
       "      <td>20000</td>\n",
       "      <td>20000.000000</td>\n",
       "      <td>20000.000000</td>\n",
       "    </tr>\n",
       "    <tr>\n",
       "      <th>unique</th>\n",
       "      <td>20000</td>\n",
       "      <td>NaN</td>\n",
       "      <td>NaN</td>\n",
       "      <td>3</td>\n",
       "      <td>NaN</td>\n",
       "      <td>4</td>\n",
       "      <td>NaN</td>\n",
       "      <td>7</td>\n",
       "      <td>NaN</td>\n",
       "      <td>NaN</td>\n",
       "    </tr>\n",
       "    <tr>\n",
       "      <th>top</th>\n",
       "      <td>C16505</td>\n",
       "      <td>NaN</td>\n",
       "      <td>NaN</td>\n",
       "      <td>M</td>\n",
       "      <td>NaN</td>\n",
       "      <td>SAL</td>\n",
       "      <td>NaN</td>\n",
       "      <td>31-35</td>\n",
       "      <td>NaN</td>\n",
       "      <td>NaN</td>\n",
       "    </tr>\n",
       "    <tr>\n",
       "      <th>freq</th>\n",
       "      <td>1</td>\n",
       "      <td>NaN</td>\n",
       "      <td>NaN</td>\n",
       "      <td>14279</td>\n",
       "      <td>NaN</td>\n",
       "      <td>5839</td>\n",
       "      <td>NaN</td>\n",
       "      <td>3488</td>\n",
       "      <td>NaN</td>\n",
       "      <td>NaN</td>\n",
       "    </tr>\n",
       "    <tr>\n",
       "      <th>mean</th>\n",
       "      <td>NaN</td>\n",
       "      <td>0.086650</td>\n",
       "      <td>38.396200</td>\n",
       "      <td>NaN</td>\n",
       "      <td>1.461813e+05</td>\n",
       "      <td>NaN</td>\n",
       "      <td>16.653050</td>\n",
       "      <td>NaN</td>\n",
       "      <td>557.136050</td>\n",
       "      <td>15.344100</td>\n",
       "    </tr>\n",
       "    <tr>\n",
       "      <th>std</th>\n",
       "      <td>NaN</td>\n",
       "      <td>0.281329</td>\n",
       "      <td>9.600179</td>\n",
       "      <td>NaN</td>\n",
       "      <td>1.698125e+05</td>\n",
       "      <td>NaN</td>\n",
       "      <td>12.977704</td>\n",
       "      <td>NaN</td>\n",
       "      <td>260.521453</td>\n",
       "      <td>8.952128</td>\n",
       "    </tr>\n",
       "    <tr>\n",
       "      <th>min</th>\n",
       "      <td>NaN</td>\n",
       "      <td>0.000000</td>\n",
       "      <td>21.000000</td>\n",
       "      <td>NaN</td>\n",
       "      <td>0.000000e+00</td>\n",
       "      <td>NaN</td>\n",
       "      <td>0.000000</td>\n",
       "      <td>NaN</td>\n",
       "      <td>100.000000</td>\n",
       "      <td>1.000000</td>\n",
       "    </tr>\n",
       "    <tr>\n",
       "      <th>25%</th>\n",
       "      <td>NaN</td>\n",
       "      <td>0.000000</td>\n",
       "      <td>30.000000</td>\n",
       "      <td>NaN</td>\n",
       "      <td>2.373692e+04</td>\n",
       "      <td>NaN</td>\n",
       "      <td>7.000000</td>\n",
       "      <td>NaN</td>\n",
       "      <td>333.000000</td>\n",
       "      <td>8.000000</td>\n",
       "    </tr>\n",
       "    <tr>\n",
       "      <th>50%</th>\n",
       "      <td>NaN</td>\n",
       "      <td>0.000000</td>\n",
       "      <td>38.000000</td>\n",
       "      <td>NaN</td>\n",
       "      <td>7.975574e+04</td>\n",
       "      <td>NaN</td>\n",
       "      <td>13.000000</td>\n",
       "      <td>NaN</td>\n",
       "      <td>560.000000</td>\n",
       "      <td>16.000000</td>\n",
       "    </tr>\n",
       "    <tr>\n",
       "      <th>75%</th>\n",
       "      <td>NaN</td>\n",
       "      <td>0.000000</td>\n",
       "      <td>47.000000</td>\n",
       "      <td>NaN</td>\n",
       "      <td>2.173106e+05</td>\n",
       "      <td>NaN</td>\n",
       "      <td>22.000000</td>\n",
       "      <td>NaN</td>\n",
       "      <td>784.000000</td>\n",
       "      <td>23.000000</td>\n",
       "    </tr>\n",
       "    <tr>\n",
       "      <th>max</th>\n",
       "      <td>NaN</td>\n",
       "      <td>1.000000</td>\n",
       "      <td>55.000000</td>\n",
       "      <td>NaN</td>\n",
       "      <td>1.246967e+06</td>\n",
       "      <td>NaN</td>\n",
       "      <td>50.000000</td>\n",
       "      <td>NaN</td>\n",
       "      <td>999.000000</td>\n",
       "      <td>31.000000</td>\n",
       "    </tr>\n",
       "  </tbody>\n",
       "</table>\n",
       "</div>"
      ],
      "text/plain": [
       "       Cust_ID        Target           Age Gender       Balance Occupation  \\\n",
       "count    20000  20000.000000  20000.000000  20000  2.000000e+04      20000   \n",
       "unique   20000           NaN           NaN      3           NaN          4   \n",
       "top     C16505           NaN           NaN      M           NaN        SAL   \n",
       "freq         1           NaN           NaN  14279           NaN       5839   \n",
       "mean       NaN      0.086650     38.396200    NaN  1.461813e+05        NaN   \n",
       "std        NaN      0.281329      9.600179    NaN  1.698125e+05        NaN   \n",
       "min        NaN      0.000000     21.000000    NaN  0.000000e+00        NaN   \n",
       "25%        NaN      0.000000     30.000000    NaN  2.373692e+04        NaN   \n",
       "50%        NaN      0.000000     38.000000    NaN  7.975574e+04        NaN   \n",
       "75%        NaN      0.000000     47.000000    NaN  2.173106e+05        NaN   \n",
       "max        NaN      1.000000     55.000000    NaN  1.246967e+06        NaN   \n",
       "\n",
       "        No_OF_CR_TXNS AGE_BKT           SCR  Holding_Period  \n",
       "count    20000.000000   20000  20000.000000    20000.000000  \n",
       "unique            NaN       7           NaN             NaN  \n",
       "top               NaN   31-35           NaN             NaN  \n",
       "freq              NaN    3488           NaN             NaN  \n",
       "mean        16.653050     NaN    557.136050       15.344100  \n",
       "std         12.977704     NaN    260.521453        8.952128  \n",
       "min          0.000000     NaN    100.000000        1.000000  \n",
       "25%          7.000000     NaN    333.000000        8.000000  \n",
       "50%         13.000000     NaN    560.000000       16.000000  \n",
       "75%         22.000000     NaN    784.000000       23.000000  \n",
       "max         50.000000     NaN    999.000000       31.000000  "
      ]
     },
     "execution_count": 6,
     "metadata": {},
     "output_type": "execute_result"
    }
   ],
   "source": [
    "#Summary statistics\n",
    "LR_DF.describe(include = \"all\")\n",
    "##LR_DF.dropna().describe()"
   ]
  },
  {
   "cell_type": "markdown",
   "metadata": {},
   "source": [
    "## Single Variable Logistic Regression Model"
   ]
  },
  {
   "cell_type": "code",
   "execution_count": 7,
   "metadata": {},
   "outputs": [
    {
     "data": {
      "text/html": [
       "<table class=\"simpletable\">\n",
       "<caption>Generalized Linear Model Regression Results</caption>\n",
       "<tr>\n",
       "  <th>Dep. Variable:</th>        <td>Target</td>      <th>  No. Observations:  </th>  <td> 20000</td>  \n",
       "</tr>\n",
       "<tr>\n",
       "  <th>Model:</th>                  <td>GLM</td>       <th>  Df Residuals:      </th>  <td> 19997</td>  \n",
       "</tr>\n",
       "<tr>\n",
       "  <th>Model Family:</th>        <td>Binomial</td>     <th>  Df Model:          </th>  <td>     2</td>  \n",
       "</tr>\n",
       "<tr>\n",
       "  <th>Link Function:</th>         <td>Logit</td>      <th>  Scale:             </th> <td>  1.0000</td> \n",
       "</tr>\n",
       "<tr>\n",
       "  <th>Method:</th>                <td>IRLS</td>       <th>  Log-Likelihood:    </th> <td> -5886.3</td> \n",
       "</tr>\n",
       "<tr>\n",
       "  <th>Date:</th>            <td>Thu, 20 Jun 2024</td> <th>  Deviance:          </th> <td>  11773.</td> \n",
       "</tr>\n",
       "<tr>\n",
       "  <th>Time:</th>                <td>22:41:47</td>     <th>  Pearson chi2:      </th> <td>2.00e+04</td> \n",
       "</tr>\n",
       "<tr>\n",
       "  <th>No. Iterations:</th>          <td>5</td>        <th>  Pseudo R-squ. (CS):</th> <td>0.0008086</td>\n",
       "</tr>\n",
       "<tr>\n",
       "  <th>Covariance Type:</th>     <td>nonrobust</td>    <th>                     </th>     <td> </td>    \n",
       "</tr>\n",
       "</table>\n",
       "<table class=\"simpletable\">\n",
       "<tr>\n",
       "       <td></td>          <th>coef</th>     <th>std err</th>      <th>z</th>      <th>P>|z|</th>  <th>[0.025</th>    <th>0.975]</th>  \n",
       "</tr>\n",
       "<tr>\n",
       "  <th>Intercept</th>   <td>   -2.5159</td> <td>    0.051</td> <td>  -49.181</td> <td> 0.000</td> <td>   -2.616</td> <td>   -2.416</td>\n",
       "</tr>\n",
       "<tr>\n",
       "  <th>Gender[T.M]</th> <td>    0.2115</td> <td>    0.059</td> <td>    3.593</td> <td> 0.000</td> <td>    0.096</td> <td>    0.327</td>\n",
       "</tr>\n",
       "<tr>\n",
       "  <th>Gender[T.O]</th> <td>    0.5465</td> <td>    0.224</td> <td>    2.441</td> <td> 0.015</td> <td>    0.108</td> <td>    0.985</td>\n",
       "</tr>\n",
       "</table>"
      ],
      "text/latex": [
       "\\begin{center}\n",
       "\\begin{tabular}{lclc}\n",
       "\\toprule\n",
       "\\textbf{Dep. Variable:}   &      Target      & \\textbf{  No. Observations:  } &    20000    \\\\\n",
       "\\textbf{Model:}           &       GLM        & \\textbf{  Df Residuals:      } &    19997    \\\\\n",
       "\\textbf{Model Family:}    &     Binomial     & \\textbf{  Df Model:          } &        2    \\\\\n",
       "\\textbf{Link Function:}   &      Logit       & \\textbf{  Scale:             } &    1.0000   \\\\\n",
       "\\textbf{Method:}          &       IRLS       & \\textbf{  Log-Likelihood:    } &   -5886.3   \\\\\n",
       "\\textbf{Date:}            & Thu, 20 Jun 2024 & \\textbf{  Deviance:          } &    11773.   \\\\\n",
       "\\textbf{Time:}            &     22:41:47     & \\textbf{  Pearson chi2:      } &  2.00e+04   \\\\\n",
       "\\textbf{No. Iterations:}  &        5         & \\textbf{  Pseudo R-squ. (CS):} & 0.0008086   \\\\\n",
       "\\textbf{Covariance Type:} &    nonrobust     & \\textbf{                     } &             \\\\\n",
       "\\bottomrule\n",
       "\\end{tabular}\n",
       "\\begin{tabular}{lcccccc}\n",
       "                     & \\textbf{coef} & \\textbf{std err} & \\textbf{z} & \\textbf{P$> |$z$|$} & \\textbf{[0.025} & \\textbf{0.975]}  \\\\\n",
       "\\midrule\n",
       "\\textbf{Intercept}   &      -2.5159  &        0.051     &   -49.181  &         0.000        &       -2.616    &       -2.416     \\\\\n",
       "\\textbf{Gender[T.M]} &       0.2115  &        0.059     &     3.593  &         0.000        &        0.096    &        0.327     \\\\\n",
       "\\textbf{Gender[T.O]} &       0.5465  &        0.224     &     2.441  &         0.015        &        0.108    &        0.985     \\\\\n",
       "\\bottomrule\n",
       "\\end{tabular}\n",
       "%\\caption{Generalized Linear Model Regression Results}\n",
       "\\end{center}"
      ],
      "text/plain": [
       "<class 'statsmodels.iolib.summary.Summary'>\n",
       "\"\"\"\n",
       "                 Generalized Linear Model Regression Results                  \n",
       "==============================================================================\n",
       "Dep. Variable:                 Target   No. Observations:                20000\n",
       "Model:                            GLM   Df Residuals:                    19997\n",
       "Model Family:                Binomial   Df Model:                            2\n",
       "Link Function:                  Logit   Scale:                          1.0000\n",
       "Method:                          IRLS   Log-Likelihood:                -5886.3\n",
       "Date:                Thu, 20 Jun 2024   Deviance:                       11773.\n",
       "Time:                        22:41:47   Pearson chi2:                 2.00e+04\n",
       "No. Iterations:                     5   Pseudo R-squ. (CS):          0.0008086\n",
       "Covariance Type:            nonrobust                                         \n",
       "===============================================================================\n",
       "                  coef    std err          z      P>|z|      [0.025      0.975]\n",
       "-------------------------------------------------------------------------------\n",
       "Intercept      -2.5159      0.051    -49.181      0.000      -2.616      -2.416\n",
       "Gender[T.M]     0.2115      0.059      3.593      0.000       0.096       0.327\n",
       "Gender[T.O]     0.5465      0.224      2.441      0.015       0.108       0.985\n",
       "===============================================================================\n",
       "\"\"\""
      ]
     },
     "execution_count": 7,
     "metadata": {},
     "output_type": "execute_result"
    }
   ],
   "source": [
    "import statsmodels.formula.api as sm\n",
    "import statsmodels.api as sma\n",
    "## Running one variable Logistic Regression\n",
    "## glm stands for Generalized Linear Model  \n",
    "mylogit = sm.glm(\n",
    "    formula = \"Target ~ Gender\", data = LR_DF,\n",
    "    family = sma.families.Binomial()\n",
    ").fit()\n",
    "\n",
    "mylogit.summary()"
   ]
  },
  {
   "cell_type": "code",
   "execution_count": 8,
   "metadata": {},
   "outputs": [],
   "source": [
    "# z = -2.5159 + 0.2115 (if Gender is Male) + 0.5465\t(if Gender is Others) + 0 (if Gender is F)"
   ]
  },
  {
   "cell_type": "code",
   "execution_count": 9,
   "metadata": {},
   "outputs": [
    {
     "data": {
      "text/html": [
       "<div>\n",
       "<style scoped>\n",
       "    .dataframe tbody tr th:only-of-type {\n",
       "        vertical-align: middle;\n",
       "    }\n",
       "\n",
       "    .dataframe tbody tr th {\n",
       "        vertical-align: top;\n",
       "    }\n",
       "\n",
       "    .dataframe thead th {\n",
       "        text-align: right;\n",
       "    }\n",
       "</style>\n",
       "<table border=\"1\" class=\"dataframe\">\n",
       "  <thead>\n",
       "    <tr style=\"text-align: right;\">\n",
       "      <th>Target</th>\n",
       "      <th>0</th>\n",
       "      <th>1</th>\n",
       "    </tr>\n",
       "    <tr>\n",
       "      <th>Gender</th>\n",
       "      <th></th>\n",
       "      <th></th>\n",
       "    </tr>\n",
       "  </thead>\n",
       "  <tbody>\n",
       "    <tr>\n",
       "      <th>F</th>\n",
       "      <td>5112</td>\n",
       "      <td>413</td>\n",
       "    </tr>\n",
       "    <tr>\n",
       "      <th>M</th>\n",
       "      <td>12983</td>\n",
       "      <td>1296</td>\n",
       "    </tr>\n",
       "    <tr>\n",
       "      <th>O</th>\n",
       "      <td>172</td>\n",
       "      <td>24</td>\n",
       "    </tr>\n",
       "  </tbody>\n",
       "</table>\n",
       "</div>"
      ],
      "text/plain": [
       "Target      0     1\n",
       "Gender             \n",
       "F        5112   413\n",
       "M       12983  1296\n",
       "O         172    24"
      ]
     },
     "execution_count": 9,
     "metadata": {},
     "output_type": "execute_result"
    }
   ],
   "source": [
    "pd.crosstab(LR_DF [\"Gender\"], LR_DF[\"Target\"])"
   ]
  },
  {
   "cell_type": "code",
   "execution_count": 10,
   "metadata": {},
   "outputs": [
    {
     "data": {
      "text/html": [
       "<div>\n",
       "<style scoped>\n",
       "    .dataframe tbody tr th:only-of-type {\n",
       "        vertical-align: middle;\n",
       "    }\n",
       "\n",
       "    .dataframe tbody tr th {\n",
       "        vertical-align: top;\n",
       "    }\n",
       "\n",
       "    .dataframe thead th {\n",
       "        text-align: right;\n",
       "    }\n",
       "</style>\n",
       "<table border=\"1\" class=\"dataframe\">\n",
       "  <thead>\n",
       "    <tr style=\"text-align: right;\">\n",
       "      <th>Target</th>\n",
       "      <th>0</th>\n",
       "      <th>1</th>\n",
       "    </tr>\n",
       "    <tr>\n",
       "      <th>Gender</th>\n",
       "      <th></th>\n",
       "      <th></th>\n",
       "    </tr>\n",
       "  </thead>\n",
       "  <tbody>\n",
       "    <tr>\n",
       "      <th>F</th>\n",
       "      <td>0.925249</td>\n",
       "      <td>0.074751</td>\n",
       "    </tr>\n",
       "    <tr>\n",
       "      <th>M</th>\n",
       "      <td>0.909237</td>\n",
       "      <td>0.090763</td>\n",
       "    </tr>\n",
       "    <tr>\n",
       "      <th>O</th>\n",
       "      <td>0.877551</td>\n",
       "      <td>0.122449</td>\n",
       "    </tr>\n",
       "  </tbody>\n",
       "</table>\n",
       "</div>"
      ],
      "text/plain": [
       "Target         0         1\n",
       "Gender                    \n",
       "F       0.925249  0.074751\n",
       "M       0.909237  0.090763\n",
       "O       0.877551  0.122449"
      ]
     },
     "execution_count": 10,
     "metadata": {},
     "output_type": "execute_result"
    }
   ],
   "source": [
    "pd.crosstab(LR_DF [\"Gender\"], LR_DF[\"Target\"], normalize='index')"
   ]
  },
  {
   "cell_type": "code",
   "execution_count": 11,
   "metadata": {},
   "outputs": [
    {
     "data": {
      "text/plain": [
       "0.09075920991662516"
      ]
     },
     "execution_count": 11,
     "metadata": {},
     "output_type": "execute_result"
    }
   ],
   "source": [
    "z = -2.5159 + 0.2115 * 1  + 0.5465\t* 0 \n",
    "p = 1 / ( 1 + np.exp(-z))\n",
    "p"
   ]
  },
  {
   "cell_type": "markdown",
   "metadata": {},
   "source": [
    "## Train-Test Split"
   ]
  },
  {
   "cell_type": "code",
   "execution_count": 12,
   "metadata": {},
   "outputs": [
    {
     "name": "stderr",
     "output_type": "stream",
     "text": [
      "C:\\Users\\rjakh\\anaconda3\\envs\\PyEnv3117\\Lib\\site-packages\\numpy\\core\\fromnumeric.py:59: FutureWarning: 'DataFrame.swapaxes' is deprecated and will be removed in a future version. Please use 'DataFrame.transpose' instead.\n",
      "  return bound(*args, **kwds)\n"
     ]
    },
    {
     "data": {
      "text/plain": [
       "(10000, 6000, 4000)"
      ]
     },
     "execution_count": 12,
     "metadata": {},
     "output_type": "execute_result"
    }
   ],
   "source": [
    "#spliting into development, validation and hold-out sample\n",
    "dev, val, holdout = np.split(\n",
    "        LR_DF.sample(frac=1, random_state=1212), \n",
    "        [int(.5*len(LR_DF)), \n",
    "         int(.8*len(LR_DF))]\n",
    "        )\n",
    "\n",
    "(len(dev), len(val), len(holdout))"
   ]
  },
  {
   "cell_type": "code",
   "execution_count": 13,
   "metadata": {},
   "outputs": [
    {
     "name": "stdout",
     "output_type": "stream",
     "text": [
      "Population Response Rate : 8.66 %\n",
      "Development Sample Resp. Rate : 8.7 %\n",
      "Validation Sample Resp. Rate : 8.52 %\n",
      "Hold-out Sample Resp. Rate : 8.8 %\n"
     ]
    }
   ],
   "source": [
    "print(\"Population Response Rate :\", \n",
    "      round(sum(LR_DF.Target)*100/len(LR_DF),2),\"%\")\n",
    "print(\"Development Sample Resp. Rate :\", \n",
    "      round(sum(dev.Target)*100/len(dev),2),\"%\")\n",
    "print(\"Validation Sample Resp. Rate :\", \n",
    "      round(sum(val.Target)*100/len(val),2),\"%\")\n",
    "print(\"Hold-out Sample Resp. Rate :\", \n",
    "      round(sum(holdout.Target)*100/len(holdout),2),\"%\")"
   ]
  },
  {
   "cell_type": "markdown",
   "metadata": {},
   "source": [
    "## Information Value\n",
    "https://www.analyticsvidhya.com/blog/2021/06/understand-weight-of-evidence-and-information-value/"
   ]
  },
  {
   "cell_type": "code",
   "execution_count": 14,
   "metadata": {},
   "outputs": [
    {
     "name": "stdout",
     "output_type": "stream",
     "text": [
      "Variable being processed is Age\n",
      "Variable being processed is Gender\n",
      "Variable being processed is Balance\n",
      "Variable being processed is Occupation\n",
      "Variable being processed is No_OF_CR_TXNS\n",
      "Variable being processed is AGE_BKT\n",
      "Variable being processed is SCR\n",
      "Variable being processed is Holding_Period\n"
     ]
    },
    {
     "data": {
      "text/plain": [
       "(              Var        IV\n",
       " 0  Holding_Period  0.606219\n",
       " 1   No_OF_CR_TXNS  0.203380\n",
       " 2         Balance  0.156230\n",
       " 3      Occupation  0.119472\n",
       " 4             SCR  0.090668\n",
       " 5             Age  0.054707\n",
       " 6         AGE_BKT  0.038208\n",
       " 7          Gender  0.005747,\n",
       " {})"
      ]
     },
     "execution_count": 14,
     "metadata": {},
     "output_type": "execute_result"
    }
   ],
   "source": [
    "## Information Value\n",
    "exec(open(\"k2_iv_woe_function.py\").read())\n",
    "info_val = iv(df = dev.iloc[:,1:],target = \"Target\")\n",
    "info_val"
   ]
  },
  {
   "cell_type": "markdown",
   "metadata": {},
   "source": [
    "## Outlier Treatment"
   ]
  },
  {
   "cell_type": "markdown",
   "metadata": {},
   "source": [
    "### Box Plot"
   ]
  },
  {
   "cell_type": "code",
   "execution_count": 15,
   "metadata": {},
   "outputs": [
    {
     "data": {
      "text/plain": [
       "Text(0.5, 0, 'Balance')"
      ]
     },
     "execution_count": 15,
     "metadata": {},
     "output_type": "execute_result"
    },
    {
     "data": {
      "image/png": "[encoded data removed]",
      "text/plain": [
       "<Figure size 900x500 with 1 Axes>"
      ]
     },
     "metadata": {},
     "output_type": "display_data"
    }
   ],
   "source": [
    "import matplotlib.pyplot as plt\n",
    "import seaborn as sns\n",
    "%matplotlib inline\n",
    "plt.figure(figsize=(9,5))\n",
    "boxplot = sns.boxplot(\n",
    "    x=\"Balance\",\n",
    "    data=dev, showmeans=True,\n",
    "    width=0.5, \n",
    "    palette=\"colorblind\"\n",
    "    )\n",
    "plt.title(\"Box Plot of Balance\", fontsize=20)\n",
    "plt.xlabel(\"Balance\", fontsize=15)"
   ]
  },
  {
   "cell_type": "code",
   "execution_count": 16,
   "metadata": {},
   "outputs": [
    {
     "name": "stdout",
     "output_type": "stream",
     "text": [
      "UCL =  506082\n"
     ]
    }
   ],
   "source": [
    "#Getting Upper Control Limit value for Balance\n",
    "Q1, Q3 = dev[\"Balance\"].quantile([0.25,0.75])\n",
    "UCL = Q3 + 1.5 * (Q3 - Q1)\n",
    "print(\"UCL = \",  round(UCL))"
   ]
  },
  {
   "cell_type": "code",
   "execution_count": 17,
   "metadata": {},
   "outputs": [],
   "source": [
    "dev[\"Bal_cap\"]=dev[\"Balance\"].map(\n",
    "    lambda x: 500000 if x > 500000 else x\n",
    ")\n"
   ]
  },
  {
   "cell_type": "markdown",
   "metadata": {},
   "source": [
    "## Missing Value Imputation\n",
    "\n",
    "https://www.analyticsvidhya.com/blog/2021/10/handling-missing-value/\n",
    "### In our dataset there is no missing value"
   ]
  },
  {
   "cell_type": "markdown",
   "metadata": {},
   "source": [
    "## Visualization and Pattern Detection"
   ]
  },
  {
   "cell_type": "code",
   "execution_count": 18,
   "metadata": {},
   "outputs": [
    {
     "data": {
      "application/vnd.jupyter.widget-view+json": {
       "model_id": "62f2a0491e73473dac260497b3bf291a",
       "version_major": 2,
       "version_minor": 0
      },
      "text/plain": [
       "                                             |                                             | [  0%]   00:00 ->…"
      ]
     },
     "metadata": {},
     "output_type": "display_data"
    }
   ],
   "source": [
    "# pip install sweetviz\n",
    "import sweetviz as sv\n",
    "report = sv.analyze([dev, 'Train'], target_feat='Target')"
   ]
  },
  {
   "cell_type": "code",
   "execution_count": 19,
   "metadata": {},
   "outputs": [
    {
     "name": "stdout",
     "output_type": "stream",
     "text": [
      "Report Visualization.html was generated! NOTEBOOK/COLAB USERS: the web browser MAY not pop up, regardless, the report IS saved in your notebook/colab files.\n"
     ]
    }
   ],
   "source": [
    "#display the report\n",
    "report.show_html('Visualization.html')"
   ]
  },
  {
   "cell_type": "markdown",
   "metadata": {},
   "source": [
    "## Variable Transformation"
   ]
  },
  {
   "cell_type": "code",
   "execution_count": 20,
   "metadata": {},
   "outputs": [
    {
     "data": {
      "text/html": [
       "<table class=\"simpletable\">\n",
       "<caption>Generalized Linear Model Regression Results</caption>\n",
       "<tr>\n",
       "  <th>Dep. Variable:</th>        <td>Target</td>      <th>  No. Observations:  </th>  <td> 10000</td>  \n",
       "</tr>\n",
       "<tr>\n",
       "  <th>Model:</th>                  <td>GLM</td>       <th>  Df Residuals:      </th>  <td>  9998</td>  \n",
       "</tr>\n",
       "<tr>\n",
       "  <th>Model Family:</th>        <td>Binomial</td>     <th>  Df Model:          </th>  <td>     1</td>  \n",
       "</tr>\n",
       "<tr>\n",
       "  <th>Link Function:</th>         <td>Logit</td>      <th>  Scale:             </th> <td>  1.0000</td> \n",
       "</tr>\n",
       "<tr>\n",
       "  <th>Method:</th>                <td>IRLS</td>       <th>  Log-Likelihood:    </th> <td> -2954.4</td> \n",
       "</tr>\n",
       "<tr>\n",
       "  <th>Date:</th>            <td>Thu, 20 Jun 2024</td> <th>  Deviance:          </th> <td>  5908.8</td> \n",
       "</tr>\n",
       "<tr>\n",
       "  <th>Time:</th>                <td>22:41:54</td>     <th>  Pearson chi2:      </th> <td>1.00e+04</td> \n",
       "</tr>\n",
       "<tr>\n",
       "  <th>No. Iterations:</th>          <td>5</td>        <th>  Pseudo R-squ. (CS):</th> <td>0.0001995</td>\n",
       "</tr>\n",
       "<tr>\n",
       "  <th>Covariance Type:</th>     <td>nonrobust</td>    <th>                     </th>     <td> </td>    \n",
       "</tr>\n",
       "</table>\n",
       "<table class=\"simpletable\">\n",
       "<tr>\n",
       "      <td></td>         <th>coef</th>     <th>std err</th>      <th>z</th>      <th>P>|z|</th>  <th>[0.025</th>    <th>0.975]</th>  \n",
       "</tr>\n",
       "<tr>\n",
       "  <th>Intercept</th> <td>   -2.5531</td> <td>    0.148</td> <td>  -17.225</td> <td> 0.000</td> <td>   -2.844</td> <td>   -2.263</td>\n",
       "</tr>\n",
       "<tr>\n",
       "  <th>Age</th>       <td>    0.0052</td> <td>    0.004</td> <td>    1.413</td> <td> 0.158</td> <td>   -0.002</td> <td>    0.012</td>\n",
       "</tr>\n",
       "</table>"
      ],
      "text/latex": [
       "\\begin{center}\n",
       "\\begin{tabular}{lclc}\n",
       "\\toprule\n",
       "\\textbf{Dep. Variable:}   &      Target      & \\textbf{  No. Observations:  } &    10000    \\\\\n",
       "\\textbf{Model:}           &       GLM        & \\textbf{  Df Residuals:      } &     9998    \\\\\n",
       "\\textbf{Model Family:}    &     Binomial     & \\textbf{  Df Model:          } &        1    \\\\\n",
       "\\textbf{Link Function:}   &      Logit       & \\textbf{  Scale:             } &    1.0000   \\\\\n",
       "\\textbf{Method:}          &       IRLS       & \\textbf{  Log-Likelihood:    } &   -2954.4   \\\\\n",
       "\\textbf{Date:}            & Thu, 20 Jun 2024 & \\textbf{  Deviance:          } &    5908.8   \\\\\n",
       "\\textbf{Time:}            &     22:41:54     & \\textbf{  Pearson chi2:      } &  1.00e+04   \\\\\n",
       "\\textbf{No. Iterations:}  &        5         & \\textbf{  Pseudo R-squ. (CS):} & 0.0001995   \\\\\n",
       "\\textbf{Covariance Type:} &    nonrobust     & \\textbf{                     } &             \\\\\n",
       "\\bottomrule\n",
       "\\end{tabular}\n",
       "\\begin{tabular}{lcccccc}\n",
       "                   & \\textbf{coef} & \\textbf{std err} & \\textbf{z} & \\textbf{P$> |$z$|$} & \\textbf{[0.025} & \\textbf{0.975]}  \\\\\n",
       "\\midrule\n",
       "\\textbf{Intercept} &      -2.5531  &        0.148     &   -17.225  &         0.000        &       -2.844    &       -2.263     \\\\\n",
       "\\textbf{Age}       &       0.0052  &        0.004     &     1.413  &         0.158        &       -0.002    &        0.012     \\\\\n",
       "\\bottomrule\n",
       "\\end{tabular}\n",
       "%\\caption{Generalized Linear Model Regression Results}\n",
       "\\end{center}"
      ],
      "text/plain": [
       "<class 'statsmodels.iolib.summary.Summary'>\n",
       "\"\"\"\n",
       "                 Generalized Linear Model Regression Results                  \n",
       "==============================================================================\n",
       "Dep. Variable:                 Target   No. Observations:                10000\n",
       "Model:                            GLM   Df Residuals:                     9998\n",
       "Model Family:                Binomial   Df Model:                            1\n",
       "Link Function:                  Logit   Scale:                          1.0000\n",
       "Method:                          IRLS   Log-Likelihood:                -2954.4\n",
       "Date:                Thu, 20 Jun 2024   Deviance:                       5908.8\n",
       "Time:                        22:41:54   Pearson chi2:                 1.00e+04\n",
       "No. Iterations:                     5   Pseudo R-squ. (CS):          0.0001995\n",
       "Covariance Type:            nonrobust                                         \n",
       "==============================================================================\n",
       "                 coef    std err          z      P>|z|      [0.025      0.975]\n",
       "------------------------------------------------------------------------------\n",
       "Intercept     -2.5531      0.148    -17.225      0.000      -2.844      -2.263\n",
       "Age            0.0052      0.004      1.413      0.158      -0.002       0.012\n",
       "==============================================================================\n",
       "\"\"\""
      ]
     },
     "execution_count": 20,
     "metadata": {},
     "output_type": "execute_result"
    }
   ],
   "source": [
    "import statsmodels.formula.api as sm\n",
    "import statsmodels.api as sma\n",
    "\n",
    "mylogit = sm.glm(\n",
    "    formula = \"Target ~ Age\", data = dev,\n",
    "    family = sma.families.Binomial()\n",
    ").fit()\n",
    "\n",
    "mylogit.summary()"
   ]
  },
  {
   "cell_type": "code",
   "execution_count": 21,
   "metadata": {},
   "outputs": [],
   "source": [
    "## Transforming Age Variable\n",
    "dev[\"DV_Age\"]=dev[\"Age\"].map(lambda\n",
    "         x: 43-(x-43) if x>43 else x)"
   ]
  },
  {
   "cell_type": "code",
   "execution_count": 22,
   "metadata": {},
   "outputs": [
    {
     "data": {
      "text/html": [
       "<table class=\"simpletable\">\n",
       "<caption>Generalized Linear Model Regression Results</caption>\n",
       "<tr>\n",
       "  <th>Dep. Variable:</th>        <td>Target</td>      <th>  No. Observations:  </th>  <td> 10000</td> \n",
       "</tr>\n",
       "<tr>\n",
       "  <th>Model:</th>                  <td>GLM</td>       <th>  Df Residuals:      </th>  <td>  9998</td> \n",
       "</tr>\n",
       "<tr>\n",
       "  <th>Model Family:</th>        <td>Binomial</td>     <th>  Df Model:          </th>  <td>     1</td> \n",
       "</tr>\n",
       "<tr>\n",
       "  <th>Link Function:</th>         <td>Logit</td>      <th>  Scale:             </th> <td>  1.0000</td>\n",
       "</tr>\n",
       "<tr>\n",
       "  <th>Method:</th>                <td>IRLS</td>       <th>  Log-Likelihood:    </th> <td> -2942.2</td>\n",
       "</tr>\n",
       "<tr>\n",
       "  <th>Date:</th>            <td>Thu, 20 Jun 2024</td> <th>  Deviance:          </th> <td>  5884.3</td>\n",
       "</tr>\n",
       "<tr>\n",
       "  <th>Time:</th>                <td>22:41:54</td>     <th>  Pearson chi2:      </th> <td>1.00e+04</td>\n",
       "</tr>\n",
       "<tr>\n",
       "  <th>No. Iterations:</th>          <td>5</td>        <th>  Pseudo R-squ. (CS):</th> <td>0.002648</td>\n",
       "</tr>\n",
       "<tr>\n",
       "  <th>Covariance Type:</th>     <td>nonrobust</td>    <th>                     </th>     <td> </td>   \n",
       "</tr>\n",
       "</table>\n",
       "<table class=\"simpletable\">\n",
       "<tr>\n",
       "      <td></td>         <th>coef</th>     <th>std err</th>      <th>z</th>      <th>P>|z|</th>  <th>[0.025</th>    <th>0.975]</th>  \n",
       "</tr>\n",
       "<tr>\n",
       "  <th>Intercept</th> <td>   -3.5005</td> <td>    0.231</td> <td>  -15.129</td> <td> 0.000</td> <td>   -3.954</td> <td>   -3.047</td>\n",
       "</tr>\n",
       "<tr>\n",
       "  <th>DV_Age</th>    <td>    0.0334</td> <td>    0.007</td> <td>    5.089</td> <td> 0.000</td> <td>    0.021</td> <td>    0.046</td>\n",
       "</tr>\n",
       "</table>"
      ],
      "text/latex": [
       "\\begin{center}\n",
       "\\begin{tabular}{lclc}\n",
       "\\toprule\n",
       "\\textbf{Dep. Variable:}   &      Target      & \\textbf{  No. Observations:  } &    10000    \\\\\n",
       "\\textbf{Model:}           &       GLM        & \\textbf{  Df Residuals:      } &     9998    \\\\\n",
       "\\textbf{Model Family:}    &     Binomial     & \\textbf{  Df Model:          } &        1    \\\\\n",
       "\\textbf{Link Function:}   &      Logit       & \\textbf{  Scale:             } &    1.0000   \\\\\n",
       "\\textbf{Method:}          &       IRLS       & \\textbf{  Log-Likelihood:    } &   -2942.2   \\\\\n",
       "\\textbf{Date:}            & Thu, 20 Jun 2024 & \\textbf{  Deviance:          } &    5884.3   \\\\\n",
       "\\textbf{Time:}            &     22:41:54     & \\textbf{  Pearson chi2:      } &  1.00e+04   \\\\\n",
       "\\textbf{No. Iterations:}  &        5         & \\textbf{  Pseudo R-squ. (CS):} &  0.002648   \\\\\n",
       "\\textbf{Covariance Type:} &    nonrobust     & \\textbf{                     } &             \\\\\n",
       "\\bottomrule\n",
       "\\end{tabular}\n",
       "\\begin{tabular}{lcccccc}\n",
       "                   & \\textbf{coef} & \\textbf{std err} & \\textbf{z} & \\textbf{P$> |$z$|$} & \\textbf{[0.025} & \\textbf{0.975]}  \\\\\n",
       "\\midrule\n",
       "\\textbf{Intercept} &      -3.5005  &        0.231     &   -15.129  &         0.000        &       -3.954    &       -3.047     \\\\\n",
       "\\textbf{DV\\_Age}   &       0.0334  &        0.007     &     5.089  &         0.000        &        0.021    &        0.046     \\\\\n",
       "\\bottomrule\n",
       "\\end{tabular}\n",
       "%\\caption{Generalized Linear Model Regression Results}\n",
       "\\end{center}"
      ],
      "text/plain": [
       "<class 'statsmodels.iolib.summary.Summary'>\n",
       "\"\"\"\n",
       "                 Generalized Linear Model Regression Results                  \n",
       "==============================================================================\n",
       "Dep. Variable:                 Target   No. Observations:                10000\n",
       "Model:                            GLM   Df Residuals:                     9998\n",
       "Model Family:                Binomial   Df Model:                            1\n",
       "Link Function:                  Logit   Scale:                          1.0000\n",
       "Method:                          IRLS   Log-Likelihood:                -2942.2\n",
       "Date:                Thu, 20 Jun 2024   Deviance:                       5884.3\n",
       "Time:                        22:41:54   Pearson chi2:                 1.00e+04\n",
       "No. Iterations:                     5   Pseudo R-squ. (CS):           0.002648\n",
       "Covariance Type:            nonrobust                                         \n",
       "==============================================================================\n",
       "                 coef    std err          z      P>|z|      [0.025      0.975]\n",
       "------------------------------------------------------------------------------\n",
       "Intercept     -3.5005      0.231    -15.129      0.000      -3.954      -3.047\n",
       "DV_Age         0.0334      0.007      5.089      0.000       0.021       0.046\n",
       "==============================================================================\n",
       "\"\"\""
      ]
     },
     "execution_count": 22,
     "metadata": {},
     "output_type": "execute_result"
    }
   ],
   "source": [
    "\n",
    "mylogit = sm.glm(\n",
    "    formula = \"Target ~ DV_Age\", data = dev,\n",
    "    family = sma.families.Binomial()\n",
    ").fit()\n",
    "\n",
    "mylogit.summary()"
   ]
  },
  {
   "cell_type": "markdown",
   "metadata": {},
   "source": [
    "## Multiple Logistic Regression"
   ]
  },
  {
   "cell_type": "code",
   "execution_count": 23,
   "metadata": {},
   "outputs": [
    {
     "data": {
      "text/plain": [
       "Index(['Cust_ID', 'Target', 'Age', 'Gender', 'Balance', 'Occupation',\n",
       "       'No_OF_CR_TXNS', 'AGE_BKT', 'SCR', 'Holding_Period', 'Bal_cap',\n",
       "       'DV_Age'],\n",
       "      dtype='object')"
      ]
     },
     "execution_count": 23,
     "metadata": {},
     "output_type": "execute_result"
    }
   ],
   "source": [
    "dev.columns"
   ]
  },
  {
   "cell_type": "code",
   "execution_count": 24,
   "metadata": {},
   "outputs": [
    {
     "data": {
      "text/html": [
       "<table class=\"simpletable\">\n",
       "<caption>Generalized Linear Model Regression Results</caption>\n",
       "<tr>\n",
       "  <th>Dep. Variable:</th>        <td>Target</td>      <th>  No. Observations:  </th>  <td> 10000</td> \n",
       "</tr>\n",
       "<tr>\n",
       "  <th>Model:</th>                  <td>GLM</td>       <th>  Df Residuals:      </th>  <td>  9989</td> \n",
       "</tr>\n",
       "<tr>\n",
       "  <th>Model Family:</th>        <td>Binomial</td>     <th>  Df Model:          </th>  <td>    10</td> \n",
       "</tr>\n",
       "<tr>\n",
       "  <th>Link Function:</th>         <td>Logit</td>      <th>  Scale:             </th> <td>  1.0000</td>\n",
       "</tr>\n",
       "<tr>\n",
       "  <th>Method:</th>                <td>IRLS</td>       <th>  Log-Likelihood:    </th> <td> -2548.6</td>\n",
       "</tr>\n",
       "<tr>\n",
       "  <th>Date:</th>            <td>Thu, 20 Jun 2024</td> <th>  Deviance:          </th> <td>  5097.1</td>\n",
       "</tr>\n",
       "<tr>\n",
       "  <th>Time:</th>                <td>22:41:54</td>     <th>  Pearson chi2:      </th> <td>1.00e+04</td>\n",
       "</tr>\n",
       "<tr>\n",
       "  <th>No. Iterations:</th>          <td>6</td>        <th>  Pseudo R-squ. (CS):</th>  <td>0.07815</td>\n",
       "</tr>\n",
       "<tr>\n",
       "  <th>Covariance Type:</th>     <td>nonrobust</td>    <th>                     </th>     <td> </td>   \n",
       "</tr>\n",
       "</table>\n",
       "<table class=\"simpletable\">\n",
       "<tr>\n",
       "             <td></td>               <th>coef</th>     <th>std err</th>      <th>z</th>      <th>P>|z|</th>  <th>[0.025</th>    <th>0.975]</th>  \n",
       "</tr>\n",
       "<tr>\n",
       "  <th>Intercept</th>              <td>   -2.8723</td> <td>    0.290</td> <td>   -9.888</td> <td> 0.000</td> <td>   -3.442</td> <td>   -2.303</td>\n",
       "</tr>\n",
       "<tr>\n",
       "  <th>Gender[T.M]</th>            <td>   -0.2590</td> <td>    0.092</td> <td>   -2.811</td> <td> 0.005</td> <td>   -0.440</td> <td>   -0.078</td>\n",
       "</tr>\n",
       "<tr>\n",
       "  <th>Gender[T.O]</th>            <td>   -0.2779</td> <td>    0.361</td> <td>   -0.770</td> <td> 0.441</td> <td>   -0.986</td> <td>    0.430</td>\n",
       "</tr>\n",
       "<tr>\n",
       "  <th>Occupation[T.SAL]</th>      <td>   -0.2590</td> <td>    0.107</td> <td>   -2.428</td> <td> 0.015</td> <td>   -0.468</td> <td>   -0.050</td>\n",
       "</tr>\n",
       "<tr>\n",
       "  <th>Occupation[T.SELF-EMP]</th> <td>    0.7955</td> <td>    0.104</td> <td>    7.632</td> <td> 0.000</td> <td>    0.591</td> <td>    1.000</td>\n",
       "</tr>\n",
       "<tr>\n",
       "  <th>Occupation[T.SENP]</th>     <td>    0.1344</td> <td>    0.111</td> <td>    1.211</td> <td> 0.226</td> <td>   -0.083</td> <td>    0.352</td>\n",
       "</tr>\n",
       "<tr>\n",
       "  <th>Bal_cap</th>                <td>-2.076e-06</td> <td> 3.19e-07</td> <td>   -6.501</td> <td> 0.000</td> <td> -2.7e-06</td> <td>-1.45e-06</td>\n",
       "</tr>\n",
       "<tr>\n",
       "  <th>No_OF_CR_TXNS</th>          <td>    0.0338</td> <td>    0.003</td> <td>   11.842</td> <td> 0.000</td> <td>    0.028</td> <td>    0.039</td>\n",
       "</tr>\n",
       "<tr>\n",
       "  <th>SCR</th>                    <td>    0.0010</td> <td>    0.000</td> <td>    7.142</td> <td> 0.000</td> <td>    0.001</td> <td>    0.001</td>\n",
       "</tr>\n",
       "<tr>\n",
       "  <th>Holding_Period</th>         <td>   -0.0908</td> <td>    0.005</td> <td>  -18.825</td> <td> 0.000</td> <td>   -0.100</td> <td>   -0.081</td>\n",
       "</tr>\n",
       "<tr>\n",
       "  <th>DV_Age</th>                 <td>    0.0204</td> <td>    0.007</td> <td>    2.902</td> <td> 0.004</td> <td>    0.007</td> <td>    0.034</td>\n",
       "</tr>\n",
       "</table>"
      ],
      "text/latex": [
       "\\begin{center}\n",
       "\\begin{tabular}{lclc}\n",
       "\\toprule\n",
       "\\textbf{Dep. Variable:}         &      Target      & \\textbf{  No. Observations:  } &    10000    \\\\\n",
       "\\textbf{Model:}                 &       GLM        & \\textbf{  Df Residuals:      } &     9989    \\\\\n",
       "\\textbf{Model Family:}          &     Binomial     & \\textbf{  Df Model:          } &       10    \\\\\n",
       "\\textbf{Link Function:}         &      Logit       & \\textbf{  Scale:             } &    1.0000   \\\\\n",
       "\\textbf{Method:}                &       IRLS       & \\textbf{  Log-Likelihood:    } &   -2548.6   \\\\\n",
       "\\textbf{Date:}                  & Thu, 20 Jun 2024 & \\textbf{  Deviance:          } &    5097.1   \\\\\n",
       "\\textbf{Time:}                  &     22:41:54     & \\textbf{  Pearson chi2:      } &  1.00e+04   \\\\\n",
       "\\textbf{No. Iterations:}        &        6         & \\textbf{  Pseudo R-squ. (CS):} &  0.07815    \\\\\n",
       "\\textbf{Covariance Type:}       &    nonrobust     & \\textbf{                     } &             \\\\\n",
       "\\bottomrule\n",
       "\\end{tabular}\n",
       "\\begin{tabular}{lcccccc}\n",
       "                                & \\textbf{coef} & \\textbf{std err} & \\textbf{z} & \\textbf{P$> |$z$|$} & \\textbf{[0.025} & \\textbf{0.975]}  \\\\\n",
       "\\midrule\n",
       "\\textbf{Intercept}              &      -2.8723  &        0.290     &    -9.888  &         0.000        &       -3.442    &       -2.303     \\\\\n",
       "\\textbf{Gender[T.M]}            &      -0.2590  &        0.092     &    -2.811  &         0.005        &       -0.440    &       -0.078     \\\\\n",
       "\\textbf{Gender[T.O]}            &      -0.2779  &        0.361     &    -0.770  &         0.441        &       -0.986    &        0.430     \\\\\n",
       "\\textbf{Occupation[T.SAL]}      &      -0.2590  &        0.107     &    -2.428  &         0.015        &       -0.468    &       -0.050     \\\\\n",
       "\\textbf{Occupation[T.SELF-EMP]} &       0.7955  &        0.104     &     7.632  &         0.000        &        0.591    &        1.000     \\\\\n",
       "\\textbf{Occupation[T.SENP]}     &       0.1344  &        0.111     &     1.211  &         0.226        &       -0.083    &        0.352     \\\\\n",
       "\\textbf{Bal\\_cap}               &   -2.076e-06  &     3.19e-07     &    -6.501  &         0.000        &     -2.7e-06    &    -1.45e-06     \\\\\n",
       "\\textbf{No\\_OF\\_CR\\_TXNS}       &       0.0338  &        0.003     &    11.842  &         0.000        &        0.028    &        0.039     \\\\\n",
       "\\textbf{SCR}                    &       0.0010  &        0.000     &     7.142  &         0.000        &        0.001    &        0.001     \\\\\n",
       "\\textbf{Holding\\_Period}        &      -0.0908  &        0.005     &   -18.825  &         0.000        &       -0.100    &       -0.081     \\\\\n",
       "\\textbf{DV\\_Age}                &       0.0204  &        0.007     &     2.902  &         0.004        &        0.007    &        0.034     \\\\\n",
       "\\bottomrule\n",
       "\\end{tabular}\n",
       "%\\caption{Generalized Linear Model Regression Results}\n",
       "\\end{center}"
      ],
      "text/plain": [
       "<class 'statsmodels.iolib.summary.Summary'>\n",
       "\"\"\"\n",
       "                 Generalized Linear Model Regression Results                  \n",
       "==============================================================================\n",
       "Dep. Variable:                 Target   No. Observations:                10000\n",
       "Model:                            GLM   Df Residuals:                     9989\n",
       "Model Family:                Binomial   Df Model:                           10\n",
       "Link Function:                  Logit   Scale:                          1.0000\n",
       "Method:                          IRLS   Log-Likelihood:                -2548.6\n",
       "Date:                Thu, 20 Jun 2024   Deviance:                       5097.1\n",
       "Time:                        22:41:54   Pearson chi2:                 1.00e+04\n",
       "No. Iterations:                     6   Pseudo R-squ. (CS):            0.07815\n",
       "Covariance Type:            nonrobust                                         \n",
       "==========================================================================================\n",
       "                             coef    std err          z      P>|z|      [0.025      0.975]\n",
       "------------------------------------------------------------------------------------------\n",
       "Intercept                 -2.8723      0.290     -9.888      0.000      -3.442      -2.303\n",
       "Gender[T.M]               -0.2590      0.092     -2.811      0.005      -0.440      -0.078\n",
       "Gender[T.O]               -0.2779      0.361     -0.770      0.441      -0.986       0.430\n",
       "Occupation[T.SAL]         -0.2590      0.107     -2.428      0.015      -0.468      -0.050\n",
       "Occupation[T.SELF-EMP]     0.7955      0.104      7.632      0.000       0.591       1.000\n",
       "Occupation[T.SENP]         0.1344      0.111      1.211      0.226      -0.083       0.352\n",
       "Bal_cap                -2.076e-06   3.19e-07     -6.501      0.000    -2.7e-06   -1.45e-06\n",
       "No_OF_CR_TXNS              0.0338      0.003     11.842      0.000       0.028       0.039\n",
       "SCR                        0.0010      0.000      7.142      0.000       0.001       0.001\n",
       "Holding_Period            -0.0908      0.005    -18.825      0.000      -0.100      -0.081\n",
       "DV_Age                     0.0204      0.007      2.902      0.004       0.007       0.034\n",
       "==========================================================================================\n",
       "\"\"\""
      ]
     },
     "execution_count": 24,
     "metadata": {},
     "output_type": "execute_result"
    }
   ],
   "source": [
    "import statsmodels.formula.api as sm\n",
    "import statsmodels.api as sma\n",
    "\n",
    "f = \"Target ~  Gender + Bal_cap + Occupation + No_OF_CR_TXNS +  SCR + Holding_Period + DV_Age\"\n",
    "mylogit = sm.glm(\n",
    "    formula = f, \n",
    "    data = dev, family = sma.families.Binomial()\n",
    ").fit()\n",
    "\n",
    "mylogit.summary()"
   ]
  },
  {
   "cell_type": "code",
   "execution_count": 25,
   "metadata": {},
   "outputs": [
    {
     "data": {
      "text/html": [
       "<div>\n",
       "<style scoped>\n",
       "    .dataframe tbody tr th:only-of-type {\n",
       "        vertical-align: middle;\n",
       "    }\n",
       "\n",
       "    .dataframe tbody tr th {\n",
       "        vertical-align: top;\n",
       "    }\n",
       "\n",
       "    .dataframe thead th {\n",
       "        text-align: right;\n",
       "    }\n",
       "</style>\n",
       "<table border=\"1\" class=\"dataframe\">\n",
       "  <thead>\n",
       "    <tr style=\"text-align: right;\">\n",
       "      <th></th>\n",
       "      <th>Var_Name</th>\n",
       "      <th>VIF</th>\n",
       "    </tr>\n",
       "  </thead>\n",
       "  <tbody>\n",
       "    <tr>\n",
       "      <th>0</th>\n",
       "      <td>Intercept</td>\n",
       "      <td>56.58</td>\n",
       "    </tr>\n",
       "    <tr>\n",
       "      <th>1</th>\n",
       "      <td>Gender[T.M]</td>\n",
       "      <td>1.18</td>\n",
       "    </tr>\n",
       "    <tr>\n",
       "      <th>2</th>\n",
       "      <td>Gender[T.O]</td>\n",
       "      <td>1.05</td>\n",
       "    </tr>\n",
       "    <tr>\n",
       "      <th>3</th>\n",
       "      <td>Occupation[T.SAL]</td>\n",
       "      <td>1.52</td>\n",
       "    </tr>\n",
       "    <tr>\n",
       "      <th>4</th>\n",
       "      <td>Occupation[T.SELF-EMP]</td>\n",
       "      <td>1.35</td>\n",
       "    </tr>\n",
       "    <tr>\n",
       "      <th>5</th>\n",
       "      <td>Occupation[T.SENP]</td>\n",
       "      <td>1.51</td>\n",
       "    </tr>\n",
       "    <tr>\n",
       "      <th>6</th>\n",
       "      <td>Bal_cap</td>\n",
       "      <td>1.09</td>\n",
       "    </tr>\n",
       "    <tr>\n",
       "      <th>7</th>\n",
       "      <td>No_OF_CR_TXNS</td>\n",
       "      <td>1.14</td>\n",
       "    </tr>\n",
       "    <tr>\n",
       "      <th>8</th>\n",
       "      <td>SCR</td>\n",
       "      <td>1.00</td>\n",
       "    </tr>\n",
       "    <tr>\n",
       "      <th>9</th>\n",
       "      <td>Holding_Period</td>\n",
       "      <td>1.00</td>\n",
       "    </tr>\n",
       "    <tr>\n",
       "      <th>10</th>\n",
       "      <td>DV_Age</td>\n",
       "      <td>1.03</td>\n",
       "    </tr>\n",
       "  </tbody>\n",
       "</table>\n",
       "</div>"
      ],
      "text/plain": [
       "                  Var_Name    VIF\n",
       "0                Intercept  56.58\n",
       "1              Gender[T.M]   1.18\n",
       "2              Gender[T.O]   1.05\n",
       "3        Occupation[T.SAL]   1.52\n",
       "4   Occupation[T.SELF-EMP]   1.35\n",
       "5       Occupation[T.SENP]   1.51\n",
       "6                  Bal_cap   1.09\n",
       "7            No_OF_CR_TXNS   1.14\n",
       "8                      SCR   1.00\n",
       "9           Holding_Period   1.00\n",
       "10                  DV_Age   1.03"
      ]
     },
     "execution_count": 25,
     "metadata": {},
     "output_type": "execute_result"
    }
   ],
   "source": [
    "## Variance Inflation Factor (VIF) for Multi-Collinearity Check\n",
    "from patsy import dmatrices\n",
    "from statsmodels.stats.outliers_influence import variance_inflation_factor\n",
    "\n",
    "def VIF(formula,data):\n",
    "    y , X = dmatrices(formula,data = data,return_type=\"dataframe\")\n",
    "    vif = pd.DataFrame()\n",
    "    vif[\"Var_Name\"] = X.columns\n",
    "    vif[\"VIF\"] = [variance_inflation_factor(X.values, i) \\\n",
    "       for i in range(X.shape[1])]\n",
    "    return(vif.round(2))\n",
    "\n",
    "vif_check =VIF(f ,\n",
    "               data = dev)\n",
    "vif_check "
   ]
  },
  {
   "cell_type": "markdown",
   "metadata": {},
   "source": [
    "#### Gender variable is insignificant. \n",
    "#### Re-run after dropping the Gender variable"
   ]
  },
  {
   "cell_type": "code",
   "execution_count": 26,
   "metadata": {},
   "outputs": [
    {
     "data": {
      "text/plain": [
       "Index(['Cust_ID', 'Target', 'Age', 'Gender', 'Balance', 'Occupation',\n",
       "       'No_OF_CR_TXNS', 'AGE_BKT', 'SCR', 'Holding_Period', 'Bal_cap',\n",
       "       'DV_Age'],\n",
       "      dtype='object')"
      ]
     },
     "execution_count": 26,
     "metadata": {},
     "output_type": "execute_result"
    }
   ],
   "source": [
    "dev.columns"
   ]
  },
  {
   "cell_type": "code",
   "execution_count": 27,
   "metadata": {},
   "outputs": [
    {
     "data": {
      "text/html": [
       "<table class=\"simpletable\">\n",
       "<caption>Generalized Linear Model Regression Results</caption>\n",
       "<tr>\n",
       "  <th>Dep. Variable:</th>        <td>Target</td>      <th>  No. Observations:  </th>  <td> 10000</td> \n",
       "</tr>\n",
       "<tr>\n",
       "  <th>Model:</th>                  <td>GLM</td>       <th>  Df Residuals:      </th>  <td>  9991</td> \n",
       "</tr>\n",
       "<tr>\n",
       "  <th>Model Family:</th>        <td>Binomial</td>     <th>  Df Model:          </th>  <td>     8</td> \n",
       "</tr>\n",
       "<tr>\n",
       "  <th>Link Function:</th>         <td>Logit</td>      <th>  Scale:             </th> <td>  1.0000</td>\n",
       "</tr>\n",
       "<tr>\n",
       "  <th>Method:</th>                <td>IRLS</td>       <th>  Log-Likelihood:    </th> <td> -2552.4</td>\n",
       "</tr>\n",
       "<tr>\n",
       "  <th>Date:</th>            <td>Thu, 20 Jun 2024</td> <th>  Deviance:          </th> <td>  5104.9</td>\n",
       "</tr>\n",
       "<tr>\n",
       "  <th>Time:</th>                <td>22:41:54</td>     <th>  Pearson chi2:      </th> <td>1.01e+04</td>\n",
       "</tr>\n",
       "<tr>\n",
       "  <th>No. Iterations:</th>          <td>6</td>        <th>  Pseudo R-squ. (CS):</th>  <td>0.07743</td>\n",
       "</tr>\n",
       "<tr>\n",
       "  <th>Covariance Type:</th>     <td>nonrobust</td>    <th>                     </th>     <td> </td>   \n",
       "</tr>\n",
       "</table>\n",
       "<table class=\"simpletable\">\n",
       "<tr>\n",
       "             <td></td>               <th>coef</th>     <th>std err</th>      <th>z</th>      <th>P>|z|</th>  <th>[0.025</th>    <th>0.975]</th>  \n",
       "</tr>\n",
       "<tr>\n",
       "  <th>Intercept</th>              <td>   -3.0183</td> <td>    0.287</td> <td>  -10.529</td> <td> 0.000</td> <td>   -3.580</td> <td>   -2.456</td>\n",
       "</tr>\n",
       "<tr>\n",
       "  <th>Occupation[T.SAL]</th>      <td>   -0.2837</td> <td>    0.106</td> <td>   -2.675</td> <td> 0.007</td> <td>   -0.492</td> <td>   -0.076</td>\n",
       "</tr>\n",
       "<tr>\n",
       "  <th>Occupation[T.SELF-EMP]</th> <td>    0.7883</td> <td>    0.104</td> <td>    7.570</td> <td> 0.000</td> <td>    0.584</td> <td>    0.992</td>\n",
       "</tr>\n",
       "<tr>\n",
       "  <th>Occupation[T.SENP]</th>     <td>    0.1692</td> <td>    0.110</td> <td>    1.536</td> <td> 0.125</td> <td>   -0.047</td> <td>    0.385</td>\n",
       "</tr>\n",
       "<tr>\n",
       "  <th>Bal_cap</th>                <td>-1.973e-06</td> <td> 3.17e-07</td> <td>   -6.216</td> <td> 0.000</td> <td> -2.6e-06</td> <td>-1.35e-06</td>\n",
       "</tr>\n",
       "<tr>\n",
       "  <th>No_OF_CR_TXNS</th>          <td>    0.0321</td> <td>    0.003</td> <td>   11.600</td> <td> 0.000</td> <td>    0.027</td> <td>    0.037</td>\n",
       "</tr>\n",
       "<tr>\n",
       "  <th>SCR</th>                    <td>    0.0010</td> <td>    0.000</td> <td>    7.155</td> <td> 0.000</td> <td>    0.001</td> <td>    0.001</td>\n",
       "</tr>\n",
       "<tr>\n",
       "  <th>Holding_Period</th>         <td>   -0.0902</td> <td>    0.005</td> <td>  -18.768</td> <td> 0.000</td> <td>   -0.100</td> <td>   -0.081</td>\n",
       "</tr>\n",
       "<tr>\n",
       "  <th>DV_Age</th>                 <td>    0.0195</td> <td>    0.007</td> <td>    2.776</td> <td> 0.006</td> <td>    0.006</td> <td>    0.033</td>\n",
       "</tr>\n",
       "</table>"
      ],
      "text/latex": [
       "\\begin{center}\n",
       "\\begin{tabular}{lclc}\n",
       "\\toprule\n",
       "\\textbf{Dep. Variable:}         &      Target      & \\textbf{  No. Observations:  } &    10000    \\\\\n",
       "\\textbf{Model:}                 &       GLM        & \\textbf{  Df Residuals:      } &     9991    \\\\\n",
       "\\textbf{Model Family:}          &     Binomial     & \\textbf{  Df Model:          } &        8    \\\\\n",
       "\\textbf{Link Function:}         &      Logit       & \\textbf{  Scale:             } &    1.0000   \\\\\n",
       "\\textbf{Method:}                &       IRLS       & \\textbf{  Log-Likelihood:    } &   -2552.4   \\\\\n",
       "\\textbf{Date:}                  & Thu, 20 Jun 2024 & \\textbf{  Deviance:          } &    5104.9   \\\\\n",
       "\\textbf{Time:}                  &     22:41:54     & \\textbf{  Pearson chi2:      } &  1.01e+04   \\\\\n",
       "\\textbf{No. Iterations:}        &        6         & \\textbf{  Pseudo R-squ. (CS):} &  0.07743    \\\\\n",
       "\\textbf{Covariance Type:}       &    nonrobust     & \\textbf{                     } &             \\\\\n",
       "\\bottomrule\n",
       "\\end{tabular}\n",
       "\\begin{tabular}{lcccccc}\n",
       "                                & \\textbf{coef} & \\textbf{std err} & \\textbf{z} & \\textbf{P$> |$z$|$} & \\textbf{[0.025} & \\textbf{0.975]}  \\\\\n",
       "\\midrule\n",
       "\\textbf{Intercept}              &      -3.0183  &        0.287     &   -10.529  &         0.000        &       -3.580    &       -2.456     \\\\\n",
       "\\textbf{Occupation[T.SAL]}      &      -0.2837  &        0.106     &    -2.675  &         0.007        &       -0.492    &       -0.076     \\\\\n",
       "\\textbf{Occupation[T.SELF-EMP]} &       0.7883  &        0.104     &     7.570  &         0.000        &        0.584    &        0.992     \\\\\n",
       "\\textbf{Occupation[T.SENP]}     &       0.1692  &        0.110     &     1.536  &         0.125        &       -0.047    &        0.385     \\\\\n",
       "\\textbf{Bal\\_cap}               &   -1.973e-06  &     3.17e-07     &    -6.216  &         0.000        &     -2.6e-06    &    -1.35e-06     \\\\\n",
       "\\textbf{No\\_OF\\_CR\\_TXNS}       &       0.0321  &        0.003     &    11.600  &         0.000        &        0.027    &        0.037     \\\\\n",
       "\\textbf{SCR}                    &       0.0010  &        0.000     &     7.155  &         0.000        &        0.001    &        0.001     \\\\\n",
       "\\textbf{Holding\\_Period}        &      -0.0902  &        0.005     &   -18.768  &         0.000        &       -0.100    &       -0.081     \\\\\n",
       "\\textbf{DV\\_Age}                &       0.0195  &        0.007     &     2.776  &         0.006        &        0.006    &        0.033     \\\\\n",
       "\\bottomrule\n",
       "\\end{tabular}\n",
       "%\\caption{Generalized Linear Model Regression Results}\n",
       "\\end{center}"
      ],
      "text/plain": [
       "<class 'statsmodels.iolib.summary.Summary'>\n",
       "\"\"\"\n",
       "                 Generalized Linear Model Regression Results                  \n",
       "==============================================================================\n",
       "Dep. Variable:                 Target   No. Observations:                10000\n",
       "Model:                            GLM   Df Residuals:                     9991\n",
       "Model Family:                Binomial   Df Model:                            8\n",
       "Link Function:                  Logit   Scale:                          1.0000\n",
       "Method:                          IRLS   Log-Likelihood:                -2552.4\n",
       "Date:                Thu, 20 Jun 2024   Deviance:                       5104.9\n",
       "Time:                        22:41:54   Pearson chi2:                 1.01e+04\n",
       "No. Iterations:                     6   Pseudo R-squ. (CS):            0.07743\n",
       "Covariance Type:            nonrobust                                         \n",
       "==========================================================================================\n",
       "                             coef    std err          z      P>|z|      [0.025      0.975]\n",
       "------------------------------------------------------------------------------------------\n",
       "Intercept                 -3.0183      0.287    -10.529      0.000      -3.580      -2.456\n",
       "Occupation[T.SAL]         -0.2837      0.106     -2.675      0.007      -0.492      -0.076\n",
       "Occupation[T.SELF-EMP]     0.7883      0.104      7.570      0.000       0.584       0.992\n",
       "Occupation[T.SENP]         0.1692      0.110      1.536      0.125      -0.047       0.385\n",
       "Bal_cap                -1.973e-06   3.17e-07     -6.216      0.000    -2.6e-06   -1.35e-06\n",
       "No_OF_CR_TXNS              0.0321      0.003     11.600      0.000       0.027       0.037\n",
       "SCR                        0.0010      0.000      7.155      0.000       0.001       0.001\n",
       "Holding_Period            -0.0902      0.005    -18.768      0.000      -0.100      -0.081\n",
       "DV_Age                     0.0195      0.007      2.776      0.006       0.006       0.033\n",
       "==========================================================================================\n",
       "\"\"\""
      ]
     },
     "execution_count": 27,
     "metadata": {},
     "output_type": "execute_result"
    }
   ],
   "source": [
    "f = \"Target ~  Bal_cap + Occupation + No_OF_CR_TXNS +  SCR + Holding_Period + DV_Age\"\n",
    "mylogit = sm.glm(\n",
    "    formula = f, \n",
    "    data = dev, family = sma.families.Binomial()\n",
    ").fit()\n",
    "\n",
    "mylogit.summary()"
   ]
  },
  {
   "cell_type": "markdown",
   "metadata": {},
   "source": [
    "## Predict Probabilities"
   ]
  },
  {
   "cell_type": "code",
   "execution_count": 28,
   "metadata": {},
   "outputs": [],
   "source": [
    "## Predicting Probabilities\n",
    "dev[\"prob\"] = mylogit.predict(dev)"
   ]
  },
  {
   "cell_type": "code",
   "execution_count": 29,
   "metadata": {},
   "outputs": [
    {
     "data": {
      "text/plain": [
       "0.6567685341179567"
      ]
     },
     "execution_count": 29,
     "metadata": {},
     "output_type": "execute_result"
    }
   ],
   "source": [
    "max(dev[\"prob\"])"
   ]
  },
  {
   "cell_type": "code",
   "execution_count": 30,
   "metadata": {},
   "outputs": [
    {
     "data": {
      "text/plain": [
       "0.002962665050176091"
      ]
     },
     "execution_count": 30,
     "metadata": {},
     "output_type": "execute_result"
    }
   ],
   "source": [
    "min(dev[\"prob\"])"
   ]
  },
  {
   "cell_type": "code",
   "execution_count": 31,
   "metadata": {},
   "outputs": [
    {
     "data": {
      "text/plain": [
       "0.046"
      ]
     },
     "execution_count": 31,
     "metadata": {},
     "output_type": "execute_result"
    }
   ],
   "source": [
    "460/10000"
   ]
  },
  {
   "cell_type": "code",
   "execution_count": 32,
   "metadata": {},
   "outputs": [
    {
     "data": {
      "text/html": [
       "<div>\n",
       "<style scoped>\n",
       "    .dataframe tbody tr th:only-of-type {\n",
       "        vertical-align: middle;\n",
       "    }\n",
       "\n",
       "    .dataframe tbody tr th {\n",
       "        vertical-align: top;\n",
       "    }\n",
       "\n",
       "    .dataframe thead th {\n",
       "        text-align: right;\n",
       "    }\n",
       "</style>\n",
       "<table border=\"1\" class=\"dataframe\">\n",
       "  <thead>\n",
       "    <tr style=\"text-align: right;\">\n",
       "      <th></th>\n",
       "      <th>Cust_ID</th>\n",
       "      <th>Target</th>\n",
       "      <th>Age</th>\n",
       "      <th>Gender</th>\n",
       "      <th>Balance</th>\n",
       "      <th>Occupation</th>\n",
       "      <th>No_OF_CR_TXNS</th>\n",
       "      <th>AGE_BKT</th>\n",
       "      <th>SCR</th>\n",
       "      <th>Holding_Period</th>\n",
       "      <th>Bal_cap</th>\n",
       "      <th>DV_Age</th>\n",
       "      <th>prob</th>\n",
       "    </tr>\n",
       "  </thead>\n",
       "  <tbody>\n",
       "    <tr>\n",
       "      <th>15453</th>\n",
       "      <td>C15310</td>\n",
       "      <td>0</td>\n",
       "      <td>26</td>\n",
       "      <td>M</td>\n",
       "      <td>245500.00</td>\n",
       "      <td>SAL</td>\n",
       "      <td>5</td>\n",
       "      <td>26-30</td>\n",
       "      <td>230</td>\n",
       "      <td>10</td>\n",
       "      <td>245500.00</td>\n",
       "      <td>26</td>\n",
       "      <td>0.022284</td>\n",
       "    </tr>\n",
       "    <tr>\n",
       "      <th>19694</th>\n",
       "      <td>C13835</td>\n",
       "      <td>0</td>\n",
       "      <td>35</td>\n",
       "      <td>F</td>\n",
       "      <td>176040.94</td>\n",
       "      <td>SENP</td>\n",
       "      <td>2</td>\n",
       "      <td>31-35</td>\n",
       "      <td>465</td>\n",
       "      <td>26</td>\n",
       "      <td>176040.94</td>\n",
       "      <td>35</td>\n",
       "      <td>0.013243</td>\n",
       "    </tr>\n",
       "    <tr>\n",
       "      <th>16097</th>\n",
       "      <td>C8103</td>\n",
       "      <td>0</td>\n",
       "      <td>25</td>\n",
       "      <td>M</td>\n",
       "      <td>147725.39</td>\n",
       "      <td>SELF-EMP</td>\n",
       "      <td>8</td>\n",
       "      <td>&lt;25</td>\n",
       "      <td>365</td>\n",
       "      <td>29</td>\n",
       "      <td>147725.39</td>\n",
       "      <td>25</td>\n",
       "      <td>0.017750</td>\n",
       "    </tr>\n",
       "    <tr>\n",
       "      <th>18828</th>\n",
       "      <td>C17384</td>\n",
       "      <td>0</td>\n",
       "      <td>31</td>\n",
       "      <td>M</td>\n",
       "      <td>878550.06</td>\n",
       "      <td>PROF</td>\n",
       "      <td>11</td>\n",
       "      <td>31-35</td>\n",
       "      <td>970</td>\n",
       "      <td>8</td>\n",
       "      <td>500000.00</td>\n",
       "      <td>31</td>\n",
       "      <td>0.059480</td>\n",
       "    </tr>\n",
       "    <tr>\n",
       "      <th>3011</th>\n",
       "      <td>C10748</td>\n",
       "      <td>0</td>\n",
       "      <td>38</td>\n",
       "      <td>M</td>\n",
       "      <td>9158.51</td>\n",
       "      <td>PROF</td>\n",
       "      <td>50</td>\n",
       "      <td>36-40</td>\n",
       "      <td>204</td>\n",
       "      <td>14</td>\n",
       "      <td>9158.51</td>\n",
       "      <td>38</td>\n",
       "      <td>0.149089</td>\n",
       "    </tr>\n",
       "  </tbody>\n",
       "</table>\n",
       "</div>"
      ],
      "text/plain": [
       "      Cust_ID  Target  Age Gender    Balance Occupation  No_OF_CR_TXNS  \\\n",
       "15453  C15310       0   26      M  245500.00        SAL              5   \n",
       "19694  C13835       0   35      F  176040.94       SENP              2   \n",
       "16097   C8103       0   25      M  147725.39   SELF-EMP              8   \n",
       "18828  C17384       0   31      M  878550.06       PROF             11   \n",
       "3011   C10748       0   38      M    9158.51       PROF             50   \n",
       "\n",
       "      AGE_BKT  SCR  Holding_Period    Bal_cap  DV_Age      prob  \n",
       "15453   26-30  230              10  245500.00      26  0.022284  \n",
       "19694   31-35  465              26  176040.94      35  0.013243  \n",
       "16097     <25  365              29  147725.39      25  0.017750  \n",
       "18828   31-35  970               8  500000.00      31  0.059480  \n",
       "3011    36-40  204              14    9158.51      38  0.149089  "
      ]
     },
     "execution_count": 32,
     "metadata": {},
     "output_type": "execute_result"
    }
   ],
   "source": [
    "dev.head()"
   ]
  },
  {
   "cell_type": "markdown",
   "metadata": {},
   "source": [
    "## Model Performance Measure"
   ]
  },
  {
   "cell_type": "markdown",
   "metadata": {},
   "source": [
    "### Rank Order Table, K-S Statistic, Gains Table & Lift Chart"
   ]
  },
  {
   "cell_type": "code",
   "execution_count": 33,
   "metadata": {},
   "outputs": [
    {
     "data": {
      "text/html": [
       "<div>\n",
       "<style scoped>\n",
       "    .dataframe tbody tr th:only-of-type {\n",
       "        vertical-align: middle;\n",
       "    }\n",
       "\n",
       "    .dataframe tbody tr th {\n",
       "        vertical-align: top;\n",
       "    }\n",
       "\n",
       "    .dataframe thead th {\n",
       "        text-align: right;\n",
       "    }\n",
       "</style>\n",
       "<table border=\"1\" class=\"dataframe\">\n",
       "  <thead>\n",
       "    <tr style=\"text-align: right;\">\n",
       "      <th></th>\n",
       "      <th>decile</th>\n",
       "      <th>min_prob</th>\n",
       "      <th>max_prob</th>\n",
       "      <th>avg_prob</th>\n",
       "      <th>cnt_cust</th>\n",
       "      <th>cnt_resp</th>\n",
       "      <th>cnt_non_resp</th>\n",
       "      <th>rrate</th>\n",
       "      <th>cum_cust</th>\n",
       "      <th>cum_resp</th>\n",
       "      <th>cum_non_resp</th>\n",
       "      <th>cum_cust_pct</th>\n",
       "      <th>cum_resp_pct</th>\n",
       "      <th>cum_non_resp_pct</th>\n",
       "      <th>KS</th>\n",
       "      <th>Lift</th>\n",
       "    </tr>\n",
       "  </thead>\n",
       "  <tbody>\n",
       "    <tr>\n",
       "      <th>9</th>\n",
       "      <td>9</td>\n",
       "      <td>0.200049</td>\n",
       "      <td>0.656769</td>\n",
       "      <td>0.295953</td>\n",
       "      <td>1000.0</td>\n",
       "      <td>297.0</td>\n",
       "      <td>703.0</td>\n",
       "      <td>29.7</td>\n",
       "      <td>1000.0</td>\n",
       "      <td>297.0</td>\n",
       "      <td>703.0</td>\n",
       "      <td>10.0</td>\n",
       "      <td>34.14</td>\n",
       "      <td>7.70</td>\n",
       "      <td>26.44</td>\n",
       "      <td>3.41</td>\n",
       "    </tr>\n",
       "    <tr>\n",
       "      <th>8</th>\n",
       "      <td>8</td>\n",
       "      <td>0.136886</td>\n",
       "      <td>0.200047</td>\n",
       "      <td>0.166176</td>\n",
       "      <td>1000.0</td>\n",
       "      <td>162.0</td>\n",
       "      <td>838.0</td>\n",
       "      <td>16.2</td>\n",
       "      <td>2000.0</td>\n",
       "      <td>459.0</td>\n",
       "      <td>1541.0</td>\n",
       "      <td>20.0</td>\n",
       "      <td>52.76</td>\n",
       "      <td>16.88</td>\n",
       "      <td>35.88</td>\n",
       "      <td>2.64</td>\n",
       "    </tr>\n",
       "    <tr>\n",
       "      <th>7</th>\n",
       "      <td>7</td>\n",
       "      <td>0.099149</td>\n",
       "      <td>0.136865</td>\n",
       "      <td>0.116680</td>\n",
       "      <td>1000.0</td>\n",
       "      <td>107.0</td>\n",
       "      <td>893.0</td>\n",
       "      <td>10.7</td>\n",
       "      <td>3000.0</td>\n",
       "      <td>566.0</td>\n",
       "      <td>2434.0</td>\n",
       "      <td>30.0</td>\n",
       "      <td>65.06</td>\n",
       "      <td>26.66</td>\n",
       "      <td>38.40</td>\n",
       "      <td>2.17</td>\n",
       "    </tr>\n",
       "    <tr>\n",
       "      <th>6</th>\n",
       "      <td>6</td>\n",
       "      <td>0.074532</td>\n",
       "      <td>0.099087</td>\n",
       "      <td>0.085745</td>\n",
       "      <td>1000.0</td>\n",
       "      <td>90.0</td>\n",
       "      <td>910.0</td>\n",
       "      <td>9.0</td>\n",
       "      <td>4000.0</td>\n",
       "      <td>656.0</td>\n",
       "      <td>3344.0</td>\n",
       "      <td>40.0</td>\n",
       "      <td>75.40</td>\n",
       "      <td>36.63</td>\n",
       "      <td>38.77</td>\n",
       "      <td>1.89</td>\n",
       "    </tr>\n",
       "    <tr>\n",
       "      <th>5</th>\n",
       "      <td>5</td>\n",
       "      <td>0.055776</td>\n",
       "      <td>0.074504</td>\n",
       "      <td>0.064560</td>\n",
       "      <td>1000.0</td>\n",
       "      <td>64.0</td>\n",
       "      <td>936.0</td>\n",
       "      <td>6.4</td>\n",
       "      <td>5000.0</td>\n",
       "      <td>720.0</td>\n",
       "      <td>4280.0</td>\n",
       "      <td>50.0</td>\n",
       "      <td>82.76</td>\n",
       "      <td>46.88</td>\n",
       "      <td>35.88</td>\n",
       "      <td>1.66</td>\n",
       "    </tr>\n",
       "    <tr>\n",
       "      <th>4</th>\n",
       "      <td>4</td>\n",
       "      <td>0.042511</td>\n",
       "      <td>0.055768</td>\n",
       "      <td>0.049066</td>\n",
       "      <td>1000.0</td>\n",
       "      <td>49.0</td>\n",
       "      <td>951.0</td>\n",
       "      <td>4.9</td>\n",
       "      <td>6000.0</td>\n",
       "      <td>769.0</td>\n",
       "      <td>5231.0</td>\n",
       "      <td>60.0</td>\n",
       "      <td>88.39</td>\n",
       "      <td>57.29</td>\n",
       "      <td>31.10</td>\n",
       "      <td>1.47</td>\n",
       "    </tr>\n",
       "    <tr>\n",
       "      <th>3</th>\n",
       "      <td>3</td>\n",
       "      <td>0.031076</td>\n",
       "      <td>0.042510</td>\n",
       "      <td>0.036702</td>\n",
       "      <td>1000.0</td>\n",
       "      <td>43.0</td>\n",
       "      <td>957.0</td>\n",
       "      <td>4.3</td>\n",
       "      <td>7000.0</td>\n",
       "      <td>812.0</td>\n",
       "      <td>6188.0</td>\n",
       "      <td>70.0</td>\n",
       "      <td>93.33</td>\n",
       "      <td>67.78</td>\n",
       "      <td>25.55</td>\n",
       "      <td>1.33</td>\n",
       "    </tr>\n",
       "    <tr>\n",
       "      <th>2</th>\n",
       "      <td>2</td>\n",
       "      <td>0.022287</td>\n",
       "      <td>0.031071</td>\n",
       "      <td>0.026696</td>\n",
       "      <td>1000.0</td>\n",
       "      <td>28.0</td>\n",
       "      <td>972.0</td>\n",
       "      <td>2.8</td>\n",
       "      <td>8000.0</td>\n",
       "      <td>840.0</td>\n",
       "      <td>7160.0</td>\n",
       "      <td>80.0</td>\n",
       "      <td>96.55</td>\n",
       "      <td>78.42</td>\n",
       "      <td>18.13</td>\n",
       "      <td>1.21</td>\n",
       "    </tr>\n",
       "    <tr>\n",
       "      <th>1</th>\n",
       "      <td>1</td>\n",
       "      <td>0.014357</td>\n",
       "      <td>0.022286</td>\n",
       "      <td>0.018296</td>\n",
       "      <td>1000.0</td>\n",
       "      <td>22.0</td>\n",
       "      <td>978.0</td>\n",
       "      <td>2.2</td>\n",
       "      <td>9000.0</td>\n",
       "      <td>862.0</td>\n",
       "      <td>8138.0</td>\n",
       "      <td>90.0</td>\n",
       "      <td>99.08</td>\n",
       "      <td>89.13</td>\n",
       "      <td>9.95</td>\n",
       "      <td>1.10</td>\n",
       "    </tr>\n",
       "    <tr>\n",
       "      <th>0</th>\n",
       "      <td>0</td>\n",
       "      <td>0.002963</td>\n",
       "      <td>0.014340</td>\n",
       "      <td>0.010124</td>\n",
       "      <td>1000.0</td>\n",
       "      <td>8.0</td>\n",
       "      <td>992.0</td>\n",
       "      <td>0.8</td>\n",
       "      <td>10000.0</td>\n",
       "      <td>870.0</td>\n",
       "      <td>9130.0</td>\n",
       "      <td>100.0</td>\n",
       "      <td>100.00</td>\n",
       "      <td>100.00</td>\n",
       "      <td>0.00</td>\n",
       "      <td>1.00</td>\n",
       "    </tr>\n",
       "  </tbody>\n",
       "</table>\n",
       "</div>"
      ],
      "text/plain": [
       "   decile  min_prob  max_prob  avg_prob  cnt_cust  cnt_resp  cnt_non_resp  \\\n",
       "9       9  0.200049  0.656769  0.295953    1000.0     297.0         703.0   \n",
       "8       8  0.136886  0.200047  0.166176    1000.0     162.0         838.0   \n",
       "7       7  0.099149  0.136865  0.116680    1000.0     107.0         893.0   \n",
       "6       6  0.074532  0.099087  0.085745    1000.0      90.0         910.0   \n",
       "5       5  0.055776  0.074504  0.064560    1000.0      64.0         936.0   \n",
       "4       4  0.042511  0.055768  0.049066    1000.0      49.0         951.0   \n",
       "3       3  0.031076  0.042510  0.036702    1000.0      43.0         957.0   \n",
       "2       2  0.022287  0.031071  0.026696    1000.0      28.0         972.0   \n",
       "1       1  0.014357  0.022286  0.018296    1000.0      22.0         978.0   \n",
       "0       0  0.002963  0.014340  0.010124    1000.0       8.0         992.0   \n",
       "\n",
       "   rrate  cum_cust  cum_resp  cum_non_resp  cum_cust_pct  cum_resp_pct  \\\n",
       "9   29.7    1000.0     297.0         703.0          10.0         34.14   \n",
       "8   16.2    2000.0     459.0        1541.0          20.0         52.76   \n",
       "7   10.7    3000.0     566.0        2434.0          30.0         65.06   \n",
       "6    9.0    4000.0     656.0        3344.0          40.0         75.40   \n",
       "5    6.4    5000.0     720.0        4280.0          50.0         82.76   \n",
       "4    4.9    6000.0     769.0        5231.0          60.0         88.39   \n",
       "3    4.3    7000.0     812.0        6188.0          70.0         93.33   \n",
       "2    2.8    8000.0     840.0        7160.0          80.0         96.55   \n",
       "1    2.2    9000.0     862.0        8138.0          90.0         99.08   \n",
       "0    0.8   10000.0     870.0        9130.0         100.0        100.00   \n",
       "\n",
       "   cum_non_resp_pct     KS  Lift  \n",
       "9              7.70  26.44  3.41  \n",
       "8             16.88  35.88  2.64  \n",
       "7             26.66  38.40  2.17  \n",
       "6             36.63  38.77  1.89  \n",
       "5             46.88  35.88  1.66  \n",
       "4             57.29  31.10  1.47  \n",
       "3             67.78  25.55  1.33  \n",
       "2             78.42  18.13  1.21  \n",
       "1             89.13   9.95  1.10  \n",
       "0            100.00   0.00  1.00  "
      ]
     },
     "execution_count": 33,
     "metadata": {},
     "output_type": "execute_result"
    }
   ],
   "source": [
    "dev['decile']=pd.qcut(dev.prob, 10, labels=False)\n",
    "\n",
    "def Rank_Order(X,y,Target):\n",
    "    \n",
    "    Rank=X.groupby('decile').apply(lambda x: pd.Series([\n",
    "        np.min(x[y]),\n",
    "        np.max(x[y]),\n",
    "        np.mean(x[y]),\n",
    "        np.size(x[y]),\n",
    "        np.sum(x[Target]),\n",
    "        np.size(x[Target][x[Target]==0]),\n",
    "        ],\n",
    "        index=([\"min_prob\",\"max_prob\",\"avg_prob\",\n",
    "                \"cnt_cust\",\"cnt_resp\",\"cnt_non_resp\"])\n",
    "        )).reset_index()\n",
    "    Rank=Rank.sort_values(by='decile',ascending=False)\n",
    "    Rank[\"rrate\"]=round(Rank[\"cnt_resp\"]*100/Rank[\"cnt_cust\"],2)\n",
    "    Rank[\"cum_cust\"]=np.cumsum(Rank[\"cnt_cust\"])\n",
    "    Rank[\"cum_resp\"]=np.cumsum(Rank[\"cnt_resp\"])\n",
    "    Rank[\"cum_non_resp\"]=np.cumsum(Rank[\"cnt_non_resp\"])\n",
    "    Rank[\"cum_cust_pct\"]=round(Rank[\"cum_cust\"]*100/np.sum(Rank[\"cnt_cust\"]),2)\n",
    "    Rank[\"cum_resp_pct\"]=round(Rank[\"cum_resp\"]*100/np.sum(Rank[\"cnt_resp\"]),2)\n",
    "    Rank[\"cum_non_resp_pct\"]=round(\n",
    "            Rank[\"cum_non_resp\"]*100/np.sum(Rank[\"cnt_non_resp\"]),2)\n",
    "    Rank[\"KS\"] = round(Rank[\"cum_resp_pct\"] - Rank[\"cum_non_resp_pct\"],2)\n",
    "    Rank[\"Lift\"] = round(Rank[\"cum_resp_pct\"] / Rank[\"cum_cust_pct\"],2)\n",
    "    Rank\n",
    "    return(Rank)\n",
    "\n",
    "\n",
    "Gains_Table = Rank_Order(dev,\"prob\",\"Target\")\n",
    "Gains_Table\n",
    "\n"
   ]
  },
  {
   "cell_type": "markdown",
   "metadata": {},
   "source": [
    "### AUC-ROC Curve"
   ]
  },
  {
   "cell_type": "code",
   "execution_count": 34,
   "metadata": {},
   "outputs": [
    {
     "data": {
      "image/png": "[encoded data removed]",
      "text/plain": [
       "<Figure size 900x500 with 1 Axes>"
      ]
     },
     "metadata": {},
     "output_type": "display_data"
    }
   ],
   "source": [
    "# Plot AUC-ROC curve\n",
    "\n",
    "from sklearn.metrics import roc_curve\n",
    "import matplotlib.pyplot as plt\n",
    "%matplotlib inline\n",
    "\n",
    "fpr, tpr, thresholds = roc_curve(dev[\"Target\"],dev[\"prob\"] )\n",
    "\n",
    "plt.figure(figsize=(9,5))\n",
    "plt.plot([0, 1], [0, 1], \"k--\", label='Random')\n",
    "plt.plot(fpr, tpr, color='blue', label='ROC')\n",
    "plt.xlabel('False Positive Rate', fontsize=15)\n",
    "plt.ylabel('True Positive Rate', fontsize=15)\n",
    "plt.title('ROC Curve', fontsize=20)\n",
    "plt.legend(fontsize=10, loc='best')\n",
    "plt.show()"
   ]
  },
  {
   "cell_type": "code",
   "execution_count": 35,
   "metadata": {},
   "outputs": [
    {
     "name": "stdout",
     "output_type": "stream",
     "text": [
      "AUC of the model is: 0.765\n",
      "KS of the model is: 0.39297\n"
     ]
    }
   ],
   "source": [
    "from sklearn.metrics import  auc\n",
    "roc_auc = round(auc(fpr, tpr), 3)\n",
    "\n",
    "KS = round((tpr - fpr).max(), 5)\n",
    "\n",
    "\n",
    "print(\"AUC of the model is:\", roc_auc)\n",
    "print(\"KS of the model is:\", KS)"
   ]
  },
  {
   "cell_type": "markdown",
   "metadata": {},
   "source": [
    "### Gini Coefficient"
   ]
  },
  {
   "cell_type": "code",
   "execution_count": 36,
   "metadata": {},
   "outputs": [
    {
     "name": "stdout",
     "output_type": "stream",
     "text": [
      "Gini Coefficient of the model is: 0.53\n"
     ]
    }
   ],
   "source": [
    "gini_coeff = 2 * roc_auc - 1\n",
    "print(\"Gini Coefficient of the model is:\", round(gini_coeff,3))"
   ]
  },
  {
   "cell_type": "markdown",
   "metadata": {},
   "source": [
    "### Confusion Matrix and Classification Accuracy"
   ]
  },
  {
   "cell_type": "code",
   "execution_count": 37,
   "metadata": {},
   "outputs": [
    {
     "data": {
      "text/plain": [
       "Target\n",
       "0    0.913\n",
       "1    0.087\n",
       "Name: proportion, dtype: float64"
      ]
     },
     "execution_count": 37,
     "metadata": {},
     "output_type": "execute_result"
    }
   ],
   "source": [
    "dev.Target.value_counts(normalize = True)"
   ]
  },
  {
   "cell_type": "code",
   "execution_count": 38,
   "metadata": {},
   "outputs": [
    {
     "data": {
      "text/plain": [
       "0.0000    0.002963\n",
       "0.0100    0.006105\n",
       "0.0500    0.010623\n",
       "0.1000    0.014355\n",
       "0.2500    0.026773\n",
       "0.5000    0.055772\n",
       "0.7500    0.116113\n",
       "0.9000    0.200047\n",
       "0.9130    0.212752\n",
       "0.9500    0.269623\n",
       "0.9540    0.278730\n",
       "0.9900    0.423914\n",
       "0.9990    0.550135\n",
       "0.9999    0.656582\n",
       "1.0000    0.656769\n",
       "Name: prob, dtype: float64"
      ]
     },
     "execution_count": 38,
     "metadata": {},
     "output_type": "execute_result"
    }
   ],
   "source": [
    "## Classification\n",
    "dev.prob.quantile(\n",
    "  [0,0.01,0.05,0.1,0.25,0.5,0.75,0.9,0.913,0.95,0.954, 0.99,0.999, 0.9999,1])"
   ]
  },
  {
   "cell_type": "code",
   "execution_count": 39,
   "metadata": {},
   "outputs": [
    {
     "data": {
      "text/plain": [
       "0.21275183739535183"
      ]
     },
     "execution_count": 39,
     "metadata": {},
     "output_type": "execute_result"
    }
   ],
   "source": [
    "dev.prob.quantile(0.913)"
   ]
  },
  {
   "cell_type": "code",
   "execution_count": 40,
   "metadata": {},
   "outputs": [],
   "source": [
    "dev[\"class\"] = dev[\"prob\"].map(\n",
    "        lambda x: 1 if x > dev.prob.quantile(0.91) else 0)"
   ]
  },
  {
   "cell_type": "code",
   "execution_count": 41,
   "metadata": {},
   "outputs": [
    {
     "data": {
      "text/plain": [
       "870.0000000055591"
      ]
     },
     "execution_count": 41,
     "metadata": {},
     "output_type": "execute_result"
    }
   ],
   "source": [
    "dev[\"prob\"].sum()"
   ]
  },
  {
   "cell_type": "code",
   "execution_count": 42,
   "metadata": {},
   "outputs": [
    {
     "data": {
      "text/plain": [
       "class\n",
       "0    9100\n",
       "1     900\n",
       "Name: count, dtype: int64"
      ]
     },
     "execution_count": 42,
     "metadata": {},
     "output_type": "execute_result"
    }
   ],
   "source": [
    "dev[\"class\"].value_counts()"
   ]
  },
  {
   "cell_type": "code",
   "execution_count": 43,
   "metadata": {},
   "outputs": [
    {
     "name": "stdout",
     "output_type": "stream",
     "text": [
      "confusion matrix \n",
      " [[8510  620]\n",
      " [ 590  280]] \n",
      "\n",
      "classification accuracy  0.879\n"
     ]
    }
   ],
   "source": [
    "#Confusion Matrix and Classification Accuracy\n",
    "from sklearn.metrics import confusion_matrix, accuracy_score   \n",
    "confusion_matrix = (\n",
    "    {\"conf_matx\": confusion_matrix(dev.Target,dev[\"class\"]),\n",
    "     \"accuracy\": accuracy_score(dev.Target,dev[\"class\"])\n",
    "    })\n",
    "\n",
    "print(\"confusion matrix \\n\" , confusion_matrix[\"conf_matx\"], \n",
    "      \"\\n\\nclassification accuracy \", confusion_matrix[\"accuracy\"]\n",
    "      )\n"
   ]
  },
  {
   "cell_type": "markdown",
   "metadata": {},
   "source": [
    "## Model Validation"
   ]
  },
  {
   "cell_type": "code",
   "execution_count": 44,
   "metadata": {},
   "outputs": [
    {
     "ename": "PatsyError",
     "evalue": "Error evaluating factor: NameError: name 'DV_Age' is not defined\n    Target ~  Bal_cap + Occupation + No_OF_CR_TXNS +  SCR + Holding_Period + DV_Age\n                                                                             ^^^^^^",
     "output_type": "error",
     "traceback": [
      "\u001b[1;31m---------------------------------------------------------------------------\u001b[0m",
      "\u001b[1;31mNameError\u001b[0m                                 Traceback (most recent call last)",
      "File \u001b[1;32m~\\anaconda3\\envs\\PyEnv3117\\Lib\\site-packages\\patsy\\compat.py:36\u001b[0m, in \u001b[0;36mcall_and_wrap_exc\u001b[1;34m(msg, origin, f, *args, **kwargs)\u001b[0m\n\u001b[0;32m     35\u001b[0m \u001b[38;5;28;01mtry\u001b[39;00m:\n\u001b[1;32m---> 36\u001b[0m     \u001b[38;5;28;01mreturn\u001b[39;00m f(\u001b[38;5;241m*\u001b[39margs, \u001b[38;5;241m*\u001b[39m\u001b[38;5;241m*\u001b[39mkwargs)\n\u001b[0;32m     37\u001b[0m \u001b[38;5;28;01mexcept\u001b[39;00m \u001b[38;5;167;01mException\u001b[39;00m \u001b[38;5;28;01mas\u001b[39;00m e:\n",
      "File \u001b[1;32m~\\anaconda3\\envs\\PyEnv3117\\Lib\\site-packages\\patsy\\eval.py:169\u001b[0m, in \u001b[0;36mEvalEnvironment.eval\u001b[1;34m(self, expr, source_name, inner_namespace)\u001b[0m\n\u001b[0;32m    168\u001b[0m code \u001b[38;5;241m=\u001b[39m \u001b[38;5;28mcompile\u001b[39m(expr, source_name, \u001b[38;5;124m\"\u001b[39m\u001b[38;5;124meval\u001b[39m\u001b[38;5;124m\"\u001b[39m, \u001b[38;5;28mself\u001b[39m\u001b[38;5;241m.\u001b[39mflags, \u001b[38;5;28;01mFalse\u001b[39;00m)\n\u001b[1;32m--> 169\u001b[0m \u001b[38;5;28;01mreturn\u001b[39;00m \u001b[38;5;28meval\u001b[39m(code, {}, VarLookupDict([inner_namespace]\n\u001b[0;32m    170\u001b[0m                                     \u001b[38;5;241m+\u001b[39m \u001b[38;5;28mself\u001b[39m\u001b[38;5;241m.\u001b[39m_namespaces))\n",
      "File \u001b[1;32m<string>:1\u001b[0m\n",
      "\u001b[1;31mNameError\u001b[0m: name 'DV_Age' is not defined",
      "\nThe above exception was the direct cause of the following exception:\n",
      "\u001b[1;31mPatsyError\u001b[0m                                Traceback (most recent call last)",
      "Cell \u001b[1;32mIn[44], line 1\u001b[0m\n\u001b[1;32m----> 1\u001b[0m mylogit_val \u001b[38;5;241m=\u001b[39m sm\u001b[38;5;241m.\u001b[39mglm(\n\u001b[0;32m      2\u001b[0m     formula \u001b[38;5;241m=\u001b[39m f, \n\u001b[0;32m      3\u001b[0m     data \u001b[38;5;241m=\u001b[39m val, family \u001b[38;5;241m=\u001b[39m sma\u001b[38;5;241m.\u001b[39mfamilies\u001b[38;5;241m.\u001b[39mBinomial()\n\u001b[0;32m      4\u001b[0m )\u001b[38;5;241m.\u001b[39mfit()\n\u001b[0;32m      6\u001b[0m mylogit_val\u001b[38;5;241m.\u001b[39msummary()\n",
      "File \u001b[1;32m~\\anaconda3\\envs\\PyEnv3117\\Lib\\site-packages\\statsmodels\\base\\model.py:203\u001b[0m, in \u001b[0;36mModel.from_formula\u001b[1;34m(cls, formula, data, subset, drop_cols, *args, **kwargs)\u001b[0m\n\u001b[0;32m    200\u001b[0m \u001b[38;5;28;01mif\u001b[39;00m missing \u001b[38;5;241m==\u001b[39m \u001b[38;5;124m'\u001b[39m\u001b[38;5;124mnone\u001b[39m\u001b[38;5;124m'\u001b[39m:  \u001b[38;5;66;03m# with patsy it's drop or raise. let's raise.\u001b[39;00m\n\u001b[0;32m    201\u001b[0m     missing \u001b[38;5;241m=\u001b[39m \u001b[38;5;124m'\u001b[39m\u001b[38;5;124mraise\u001b[39m\u001b[38;5;124m'\u001b[39m\n\u001b[1;32m--> 203\u001b[0m tmp \u001b[38;5;241m=\u001b[39m handle_formula_data(data, \u001b[38;5;28;01mNone\u001b[39;00m, formula, depth\u001b[38;5;241m=\u001b[39meval_env,\n\u001b[0;32m    204\u001b[0m                           missing\u001b[38;5;241m=\u001b[39mmissing)\n\u001b[0;32m    205\u001b[0m ((endog, exog), missing_idx, design_info) \u001b[38;5;241m=\u001b[39m tmp\n\u001b[0;32m    206\u001b[0m max_endog \u001b[38;5;241m=\u001b[39m \u001b[38;5;28mcls\u001b[39m\u001b[38;5;241m.\u001b[39m_formula_max_endog\n",
      "File \u001b[1;32m~\\anaconda3\\envs\\PyEnv3117\\Lib\\site-packages\\statsmodels\\formula\\formulatools.py:63\u001b[0m, in \u001b[0;36mhandle_formula_data\u001b[1;34m(Y, X, formula, depth, missing)\u001b[0m\n\u001b[0;32m     61\u001b[0m \u001b[38;5;28;01melse\u001b[39;00m:\n\u001b[0;32m     62\u001b[0m     \u001b[38;5;28;01mif\u001b[39;00m data_util\u001b[38;5;241m.\u001b[39m_is_using_pandas(Y, \u001b[38;5;28;01mNone\u001b[39;00m):\n\u001b[1;32m---> 63\u001b[0m         result \u001b[38;5;241m=\u001b[39m dmatrices(formula, Y, depth, return_type\u001b[38;5;241m=\u001b[39m\u001b[38;5;124m'\u001b[39m\u001b[38;5;124mdataframe\u001b[39m\u001b[38;5;124m'\u001b[39m,\n\u001b[0;32m     64\u001b[0m                            NA_action\u001b[38;5;241m=\u001b[39mna_action)\n\u001b[0;32m     65\u001b[0m     \u001b[38;5;28;01melse\u001b[39;00m:\n\u001b[0;32m     66\u001b[0m         result \u001b[38;5;241m=\u001b[39m dmatrices(formula, Y, depth, return_type\u001b[38;5;241m=\u001b[39m\u001b[38;5;124m'\u001b[39m\u001b[38;5;124mdataframe\u001b[39m\u001b[38;5;124m'\u001b[39m,\n\u001b[0;32m     67\u001b[0m                            NA_action\u001b[38;5;241m=\u001b[39mna_action)\n",
      "File \u001b[1;32m~\\anaconda3\\envs\\PyEnv3117\\Lib\\site-packages\\patsy\\highlevel.py:309\u001b[0m, in \u001b[0;36mdmatrices\u001b[1;34m(formula_like, data, eval_env, NA_action, return_type)\u001b[0m\n\u001b[0;32m    299\u001b[0m \u001b[38;5;250m\u001b[39m\u001b[38;5;124;03m\"\"\"Construct two design matrices given a formula_like and data.\u001b[39;00m\n\u001b[0;32m    300\u001b[0m \n\u001b[0;32m    301\u001b[0m \u001b[38;5;124;03mThis function is identical to :func:`dmatrix`, except that it requires\u001b[39;00m\n\u001b[1;32m   (...)\u001b[0m\n\u001b[0;32m    306\u001b[0m \u001b[38;5;124;03mSee :func:`dmatrix` for details.\u001b[39;00m\n\u001b[0;32m    307\u001b[0m \u001b[38;5;124;03m\"\"\"\u001b[39;00m\n\u001b[0;32m    308\u001b[0m eval_env \u001b[38;5;241m=\u001b[39m EvalEnvironment\u001b[38;5;241m.\u001b[39mcapture(eval_env, reference\u001b[38;5;241m=\u001b[39m\u001b[38;5;241m1\u001b[39m)\n\u001b[1;32m--> 309\u001b[0m (lhs, rhs) \u001b[38;5;241m=\u001b[39m _do_highlevel_design(formula_like, data, eval_env,\n\u001b[0;32m    310\u001b[0m                                   NA_action, return_type)\n\u001b[0;32m    311\u001b[0m \u001b[38;5;28;01mif\u001b[39;00m lhs\u001b[38;5;241m.\u001b[39mshape[\u001b[38;5;241m1\u001b[39m] \u001b[38;5;241m==\u001b[39m \u001b[38;5;241m0\u001b[39m:\n\u001b[0;32m    312\u001b[0m     \u001b[38;5;28;01mraise\u001b[39;00m PatsyError(\u001b[38;5;124m\"\u001b[39m\u001b[38;5;124mmodel is missing required outcome variables\u001b[39m\u001b[38;5;124m\"\u001b[39m)\n",
      "File \u001b[1;32m~\\anaconda3\\envs\\PyEnv3117\\Lib\\site-packages\\patsy\\highlevel.py:164\u001b[0m, in \u001b[0;36m_do_highlevel_design\u001b[1;34m(formula_like, data, eval_env, NA_action, return_type)\u001b[0m\n\u001b[0;32m    162\u001b[0m \u001b[38;5;28;01mdef\u001b[39;00m \u001b[38;5;21mdata_iter_maker\u001b[39m():\n\u001b[0;32m    163\u001b[0m     \u001b[38;5;28;01mreturn\u001b[39;00m \u001b[38;5;28miter\u001b[39m([data])\n\u001b[1;32m--> 164\u001b[0m design_infos \u001b[38;5;241m=\u001b[39m _try_incr_builders(formula_like, data_iter_maker, eval_env,\n\u001b[0;32m    165\u001b[0m                                   NA_action)\n\u001b[0;32m    166\u001b[0m \u001b[38;5;28;01mif\u001b[39;00m design_infos \u001b[38;5;129;01mis\u001b[39;00m \u001b[38;5;129;01mnot\u001b[39;00m \u001b[38;5;28;01mNone\u001b[39;00m:\n\u001b[0;32m    167\u001b[0m     \u001b[38;5;28;01mreturn\u001b[39;00m build_design_matrices(design_infos, data,\n\u001b[0;32m    168\u001b[0m                                  NA_action\u001b[38;5;241m=\u001b[39mNA_action,\n\u001b[0;32m    169\u001b[0m                                  return_type\u001b[38;5;241m=\u001b[39mreturn_type)\n",
      "File \u001b[1;32m~\\anaconda3\\envs\\PyEnv3117\\Lib\\site-packages\\patsy\\highlevel.py:66\u001b[0m, in \u001b[0;36m_try_incr_builders\u001b[1;34m(formula_like, data_iter_maker, eval_env, NA_action)\u001b[0m\n\u001b[0;32m     64\u001b[0m \u001b[38;5;28;01mif\u001b[39;00m \u001b[38;5;28misinstance\u001b[39m(formula_like, ModelDesc):\n\u001b[0;32m     65\u001b[0m     \u001b[38;5;28;01massert\u001b[39;00m \u001b[38;5;28misinstance\u001b[39m(eval_env, EvalEnvironment)\n\u001b[1;32m---> 66\u001b[0m     \u001b[38;5;28;01mreturn\u001b[39;00m design_matrix_builders([formula_like\u001b[38;5;241m.\u001b[39mlhs_termlist,\n\u001b[0;32m     67\u001b[0m                                    formula_like\u001b[38;5;241m.\u001b[39mrhs_termlist],\n\u001b[0;32m     68\u001b[0m                                   data_iter_maker,\n\u001b[0;32m     69\u001b[0m                                   eval_env,\n\u001b[0;32m     70\u001b[0m                                   NA_action)\n\u001b[0;32m     71\u001b[0m \u001b[38;5;28;01melse\u001b[39;00m:\n\u001b[0;32m     72\u001b[0m     \u001b[38;5;28;01mreturn\u001b[39;00m \u001b[38;5;28;01mNone\u001b[39;00m\n",
      "File \u001b[1;32m~\\anaconda3\\envs\\PyEnv3117\\Lib\\site-packages\\patsy\\build.py:693\u001b[0m, in \u001b[0;36mdesign_matrix_builders\u001b[1;34m(termlists, data_iter_maker, eval_env, NA_action)\u001b[0m\n\u001b[0;32m    689\u001b[0m factor_states \u001b[38;5;241m=\u001b[39m _factors_memorize(all_factors, data_iter_maker, eval_env)\n\u001b[0;32m    690\u001b[0m \u001b[38;5;66;03m# Now all the factors have working eval methods, so we can evaluate them\u001b[39;00m\n\u001b[0;32m    691\u001b[0m \u001b[38;5;66;03m# on some data to find out what type of data they return.\u001b[39;00m\n\u001b[0;32m    692\u001b[0m (num_column_counts,\n\u001b[1;32m--> 693\u001b[0m  cat_levels_contrasts) \u001b[38;5;241m=\u001b[39m _examine_factor_types(all_factors,\n\u001b[0;32m    694\u001b[0m                                                factor_states,\n\u001b[0;32m    695\u001b[0m                                                data_iter_maker,\n\u001b[0;32m    696\u001b[0m                                                NA_action)\n\u001b[0;32m    697\u001b[0m \u001b[38;5;66;03m# Now we need the factor infos, which encapsulate the knowledge of\u001b[39;00m\n\u001b[0;32m    698\u001b[0m \u001b[38;5;66;03m# how to turn any given factor into a chunk of data:\u001b[39;00m\n\u001b[0;32m    699\u001b[0m factor_infos \u001b[38;5;241m=\u001b[39m {}\n",
      "File \u001b[1;32m~\\anaconda3\\envs\\PyEnv3117\\Lib\\site-packages\\patsy\\build.py:443\u001b[0m, in \u001b[0;36m_examine_factor_types\u001b[1;34m(factors, factor_states, data_iter_maker, NA_action)\u001b[0m\n\u001b[0;32m    441\u001b[0m \u001b[38;5;28;01mfor\u001b[39;00m data \u001b[38;5;129;01min\u001b[39;00m data_iter_maker():\n\u001b[0;32m    442\u001b[0m     \u001b[38;5;28;01mfor\u001b[39;00m factor \u001b[38;5;129;01min\u001b[39;00m \u001b[38;5;28mlist\u001b[39m(examine_needed):\n\u001b[1;32m--> 443\u001b[0m         value \u001b[38;5;241m=\u001b[39m factor\u001b[38;5;241m.\u001b[39meval(factor_states[factor], data)\n\u001b[0;32m    444\u001b[0m         \u001b[38;5;28;01mif\u001b[39;00m factor \u001b[38;5;129;01min\u001b[39;00m cat_sniffers \u001b[38;5;129;01mor\u001b[39;00m guess_categorical(value):\n\u001b[0;32m    445\u001b[0m             \u001b[38;5;28;01mif\u001b[39;00m factor \u001b[38;5;129;01mnot\u001b[39;00m \u001b[38;5;129;01min\u001b[39;00m cat_sniffers:\n",
      "File \u001b[1;32m~\\anaconda3\\envs\\PyEnv3117\\Lib\\site-packages\\patsy\\eval.py:568\u001b[0m, in \u001b[0;36mEvalFactor.eval\u001b[1;34m(self, memorize_state, data)\u001b[0m\n\u001b[0;32m    567\u001b[0m \u001b[38;5;28;01mdef\u001b[39;00m \u001b[38;5;21meval\u001b[39m(\u001b[38;5;28mself\u001b[39m, memorize_state, data):\n\u001b[1;32m--> 568\u001b[0m     \u001b[38;5;28;01mreturn\u001b[39;00m \u001b[38;5;28mself\u001b[39m\u001b[38;5;241m.\u001b[39m_eval(memorize_state[\u001b[38;5;124m\"\u001b[39m\u001b[38;5;124meval_code\u001b[39m\u001b[38;5;124m\"\u001b[39m],\n\u001b[0;32m    569\u001b[0m                       memorize_state,\n\u001b[0;32m    570\u001b[0m                       data)\n",
      "File \u001b[1;32m~\\anaconda3\\envs\\PyEnv3117\\Lib\\site-packages\\patsy\\eval.py:551\u001b[0m, in \u001b[0;36mEvalFactor._eval\u001b[1;34m(self, code, memorize_state, data)\u001b[0m\n\u001b[0;32m    549\u001b[0m \u001b[38;5;28;01mdef\u001b[39;00m \u001b[38;5;21m_eval\u001b[39m(\u001b[38;5;28mself\u001b[39m, code, memorize_state, data):\n\u001b[0;32m    550\u001b[0m     inner_namespace \u001b[38;5;241m=\u001b[39m VarLookupDict([data, memorize_state[\u001b[38;5;124m\"\u001b[39m\u001b[38;5;124mtransforms\u001b[39m\u001b[38;5;124m\"\u001b[39m]])\n\u001b[1;32m--> 551\u001b[0m     \u001b[38;5;28;01mreturn\u001b[39;00m call_and_wrap_exc(\u001b[38;5;124m\"\u001b[39m\u001b[38;5;124mError evaluating factor\u001b[39m\u001b[38;5;124m\"\u001b[39m,\n\u001b[0;32m    552\u001b[0m                              \u001b[38;5;28mself\u001b[39m,\n\u001b[0;32m    553\u001b[0m                              memorize_state[\u001b[38;5;124m\"\u001b[39m\u001b[38;5;124meval_env\u001b[39m\u001b[38;5;124m\"\u001b[39m]\u001b[38;5;241m.\u001b[39meval,\n\u001b[0;32m    554\u001b[0m                              code,\n\u001b[0;32m    555\u001b[0m                              inner_namespace\u001b[38;5;241m=\u001b[39minner_namespace)\n",
      "File \u001b[1;32m~\\anaconda3\\envs\\PyEnv3117\\Lib\\site-packages\\patsy\\compat.py:43\u001b[0m, in \u001b[0;36mcall_and_wrap_exc\u001b[1;34m(msg, origin, f, *args, **kwargs)\u001b[0m\n\u001b[0;32m     39\u001b[0m     new_exc \u001b[38;5;241m=\u001b[39m PatsyError(\u001b[38;5;124m\"\u001b[39m\u001b[38;5;132;01m%s\u001b[39;00m\u001b[38;5;124m: \u001b[39m\u001b[38;5;132;01m%s\u001b[39;00m\u001b[38;5;124m: \u001b[39m\u001b[38;5;132;01m%s\u001b[39;00m\u001b[38;5;124m\"\u001b[39m\n\u001b[0;32m     40\u001b[0m                          \u001b[38;5;241m%\u001b[39m (msg, e\u001b[38;5;241m.\u001b[39m\u001b[38;5;18m__class__\u001b[39m\u001b[38;5;241m.\u001b[39m\u001b[38;5;18m__name__\u001b[39m, e),\n\u001b[0;32m     41\u001b[0m                          origin)\n\u001b[0;32m     42\u001b[0m     \u001b[38;5;66;03m# Use 'exec' to hide this syntax from the Python 2 parser:\u001b[39;00m\n\u001b[1;32m---> 43\u001b[0m     exec(\u001b[38;5;124m\"\u001b[39m\u001b[38;5;124mraise new_exc from e\u001b[39m\u001b[38;5;124m\"\u001b[39m)\n\u001b[0;32m     44\u001b[0m \u001b[38;5;28;01melse\u001b[39;00m:\n\u001b[0;32m     45\u001b[0m     \u001b[38;5;66;03m# In python 2, we just let the original exception escape -- better\u001b[39;00m\n\u001b[0;32m     46\u001b[0m     \u001b[38;5;66;03m# than destroying the traceback. But if it's a PatsyError, we can\u001b[39;00m\n\u001b[0;32m     47\u001b[0m     \u001b[38;5;66;03m# at least set the origin properly.\u001b[39;00m\n\u001b[0;32m     48\u001b[0m     \u001b[38;5;28;01mif\u001b[39;00m \u001b[38;5;28misinstance\u001b[39m(e, PatsyError):\n",
      "File \u001b[1;32m<string>:1\u001b[0m\n",
      "\u001b[1;31mPatsyError\u001b[0m: Error evaluating factor: NameError: name 'DV_Age' is not defined\n    Target ~  Bal_cap + Occupation + No_OF_CR_TXNS +  SCR + Holding_Period + DV_Age\n                                                                             ^^^^^^"
     ]
    }
   ],
   "source": [
    "mylogit_val = sm.glm(\n",
    "    formula = f, \n",
    "    data = val, family = sma.families.Binomial()\n",
    ").fit()\n",
    "\n",
    "mylogit_val.summary()"
   ]
  },
  {
   "cell_type": "code",
   "execution_count": 45,
   "metadata": {},
   "outputs": [],
   "source": [
    "## Transforming Age Variable\n",
    "val[\"DV_Age\"]=val[\"Age\"].map(lambda\n",
    "         x: 43-(x-43) if x>43 else x)\n",
    "\n",
    "val[\"Bal_cap\"]=val[\"Balance\"].map(\n",
    "    lambda x: 500000 if x > 500000 else x\n",
    ")\n",
    "\n",
    "val[\"Bal_cap2\"]=val[\"Bal_cap\"] / 1000"
   ]
  },
  {
   "cell_type": "code",
   "execution_count": 46,
   "metadata": {},
   "outputs": [
    {
     "data": {
      "text/html": [
       "<table class=\"simpletable\">\n",
       "<caption>Generalized Linear Model Regression Results</caption>\n",
       "<tr>\n",
       "  <th>Dep. Variable:</th>        <td>Target</td>      <th>  No. Observations:  </th>  <td>  6000</td> \n",
       "</tr>\n",
       "<tr>\n",
       "  <th>Model:</th>                  <td>GLM</td>       <th>  Df Residuals:      </th>  <td>  5991</td> \n",
       "</tr>\n",
       "<tr>\n",
       "  <th>Model Family:</th>        <td>Binomial</td>     <th>  Df Model:          </th>  <td>     8</td> \n",
       "</tr>\n",
       "<tr>\n",
       "  <th>Link Function:</th>         <td>Logit</td>      <th>  Scale:             </th> <td>  1.0000</td>\n",
       "</tr>\n",
       "<tr>\n",
       "  <th>Method:</th>                <td>IRLS</td>       <th>  Log-Likelihood:    </th> <td> -1529.9</td>\n",
       "</tr>\n",
       "<tr>\n",
       "  <th>Date:</th>            <td>Thu, 20 Jun 2024</td> <th>  Deviance:          </th> <td>  3059.8</td>\n",
       "</tr>\n",
       "<tr>\n",
       "  <th>Time:</th>                <td>22:42:10</td>     <th>  Pearson chi2:      </th> <td>6.03e+03</td>\n",
       "</tr>\n",
       "<tr>\n",
       "  <th>No. Iterations:</th>          <td>6</td>        <th>  Pseudo R-squ. (CS):</th>  <td>0.06989</td>\n",
       "</tr>\n",
       "<tr>\n",
       "  <th>Covariance Type:</th>     <td>nonrobust</td>    <th>                     </th>     <td> </td>   \n",
       "</tr>\n",
       "</table>\n",
       "<table class=\"simpletable\">\n",
       "<tr>\n",
       "             <td></td>               <th>coef</th>     <th>std err</th>      <th>z</th>      <th>P>|z|</th>  <th>[0.025</th>    <th>0.975]</th>  \n",
       "</tr>\n",
       "<tr>\n",
       "  <th>Intercept</th>              <td>   -3.1704</td> <td>    0.371</td> <td>   -8.540</td> <td> 0.000</td> <td>   -3.898</td> <td>   -2.443</td>\n",
       "</tr>\n",
       "<tr>\n",
       "  <th>Occupation[T.SAL]</th>      <td>   -0.2377</td> <td>    0.137</td> <td>   -1.734</td> <td> 0.083</td> <td>   -0.506</td> <td>    0.031</td>\n",
       "</tr>\n",
       "<tr>\n",
       "  <th>Occupation[T.SELF-EMP]</th> <td>    0.6567</td> <td>    0.136</td> <td>    4.819</td> <td> 0.000</td> <td>    0.390</td> <td>    0.924</td>\n",
       "</tr>\n",
       "<tr>\n",
       "  <th>Occupation[T.SENP]</th>     <td>    0.2297</td> <td>    0.140</td> <td>    1.639</td> <td> 0.101</td> <td>   -0.045</td> <td>    0.504</td>\n",
       "</tr>\n",
       "<tr>\n",
       "  <th>Bal_cap</th>                <td>-1.026e-06</td> <td> 3.78e-07</td> <td>   -2.711</td> <td> 0.007</td> <td>-1.77e-06</td> <td>-2.84e-07</td>\n",
       "</tr>\n",
       "<tr>\n",
       "  <th>No_OF_CR_TXNS</th>          <td>    0.0285</td> <td>    0.004</td> <td>    7.923</td> <td> 0.000</td> <td>    0.021</td> <td>    0.036</td>\n",
       "</tr>\n",
       "<tr>\n",
       "  <th>SCR</th>                    <td>    0.0009</td> <td>    0.000</td> <td>    4.542</td> <td> 0.000</td> <td>    0.000</td> <td>    0.001</td>\n",
       "</tr>\n",
       "<tr>\n",
       "  <th>Holding_Period</th>         <td>   -0.0927</td> <td>    0.006</td> <td>  -14.760</td> <td> 0.000</td> <td>   -0.105</td> <td>   -0.080</td>\n",
       "</tr>\n",
       "<tr>\n",
       "  <th>DV_Age</th>                 <td>    0.0261</td> <td>    0.009</td> <td>    2.870</td> <td> 0.004</td> <td>    0.008</td> <td>    0.044</td>\n",
       "</tr>\n",
       "</table>"
      ],
      "text/latex": [
       "\\begin{center}\n",
       "\\begin{tabular}{lclc}\n",
       "\\toprule\n",
       "\\textbf{Dep. Variable:}         &      Target      & \\textbf{  No. Observations:  } &     6000    \\\\\n",
       "\\textbf{Model:}                 &       GLM        & \\textbf{  Df Residuals:      } &     5991    \\\\\n",
       "\\textbf{Model Family:}          &     Binomial     & \\textbf{  Df Model:          } &        8    \\\\\n",
       "\\textbf{Link Function:}         &      Logit       & \\textbf{  Scale:             } &    1.0000   \\\\\n",
       "\\textbf{Method:}                &       IRLS       & \\textbf{  Log-Likelihood:    } &   -1529.9   \\\\\n",
       "\\textbf{Date:}                  & Thu, 20 Jun 2024 & \\textbf{  Deviance:          } &    3059.8   \\\\\n",
       "\\textbf{Time:}                  &     22:42:10     & \\textbf{  Pearson chi2:      } &  6.03e+03   \\\\\n",
       "\\textbf{No. Iterations:}        &        6         & \\textbf{  Pseudo R-squ. (CS):} &  0.06989    \\\\\n",
       "\\textbf{Covariance Type:}       &    nonrobust     & \\textbf{                     } &             \\\\\n",
       "\\bottomrule\n",
       "\\end{tabular}\n",
       "\\begin{tabular}{lcccccc}\n",
       "                                & \\textbf{coef} & \\textbf{std err} & \\textbf{z} & \\textbf{P$> |$z$|$} & \\textbf{[0.025} & \\textbf{0.975]}  \\\\\n",
       "\\midrule\n",
       "\\textbf{Intercept}              &      -3.1704  &        0.371     &    -8.540  &         0.000        &       -3.898    &       -2.443     \\\\\n",
       "\\textbf{Occupation[T.SAL]}      &      -0.2377  &        0.137     &    -1.734  &         0.083        &       -0.506    &        0.031     \\\\\n",
       "\\textbf{Occupation[T.SELF-EMP]} &       0.6567  &        0.136     &     4.819  &         0.000        &        0.390    &        0.924     \\\\\n",
       "\\textbf{Occupation[T.SENP]}     &       0.2297  &        0.140     &     1.639  &         0.101        &       -0.045    &        0.504     \\\\\n",
       "\\textbf{Bal\\_cap}               &   -1.026e-06  &     3.78e-07     &    -2.711  &         0.007        &    -1.77e-06    &    -2.84e-07     \\\\\n",
       "\\textbf{No\\_OF\\_CR\\_TXNS}       &       0.0285  &        0.004     &     7.923  &         0.000        &        0.021    &        0.036     \\\\\n",
       "\\textbf{SCR}                    &       0.0009  &        0.000     &     4.542  &         0.000        &        0.000    &        0.001     \\\\\n",
       "\\textbf{Holding\\_Period}        &      -0.0927  &        0.006     &   -14.760  &         0.000        &       -0.105    &       -0.080     \\\\\n",
       "\\textbf{DV\\_Age}                &       0.0261  &        0.009     &     2.870  &         0.004        &        0.008    &        0.044     \\\\\n",
       "\\bottomrule\n",
       "\\end{tabular}\n",
       "%\\caption{Generalized Linear Model Regression Results}\n",
       "\\end{center}"
      ],
      "text/plain": [
       "<class 'statsmodels.iolib.summary.Summary'>\n",
       "\"\"\"\n",
       "                 Generalized Linear Model Regression Results                  \n",
       "==============================================================================\n",
       "Dep. Variable:                 Target   No. Observations:                 6000\n",
       "Model:                            GLM   Df Residuals:                     5991\n",
       "Model Family:                Binomial   Df Model:                            8\n",
       "Link Function:                  Logit   Scale:                          1.0000\n",
       "Method:                          IRLS   Log-Likelihood:                -1529.9\n",
       "Date:                Thu, 20 Jun 2024   Deviance:                       3059.8\n",
       "Time:                        22:42:10   Pearson chi2:                 6.03e+03\n",
       "No. Iterations:                     6   Pseudo R-squ. (CS):            0.06989\n",
       "Covariance Type:            nonrobust                                         \n",
       "==========================================================================================\n",
       "                             coef    std err          z      P>|z|      [0.025      0.975]\n",
       "------------------------------------------------------------------------------------------\n",
       "Intercept                 -3.1704      0.371     -8.540      0.000      -3.898      -2.443\n",
       "Occupation[T.SAL]         -0.2377      0.137     -1.734      0.083      -0.506       0.031\n",
       "Occupation[T.SELF-EMP]     0.6567      0.136      4.819      0.000       0.390       0.924\n",
       "Occupation[T.SENP]         0.2297      0.140      1.639      0.101      -0.045       0.504\n",
       "Bal_cap                -1.026e-06   3.78e-07     -2.711      0.007   -1.77e-06   -2.84e-07\n",
       "No_OF_CR_TXNS              0.0285      0.004      7.923      0.000       0.021       0.036\n",
       "SCR                        0.0009      0.000      4.542      0.000       0.000       0.001\n",
       "Holding_Period            -0.0927      0.006    -14.760      0.000      -0.105      -0.080\n",
       "DV_Age                     0.0261      0.009      2.870      0.004       0.008       0.044\n",
       "==========================================================================================\n",
       "\"\"\""
      ]
     },
     "execution_count": 46,
     "metadata": {},
     "output_type": "execute_result"
    }
   ],
   "source": [
    "mylogit_val = sm.glm(\n",
    "    formula = f, \n",
    "    data = val, family = sma.families.Binomial()\n",
    ").fit()\n",
    "\n",
    "mylogit_val.summary()"
   ]
  },
  {
   "cell_type": "code",
   "execution_count": 47,
   "metadata": {},
   "outputs": [
    {
     "data": {
      "text/html": [
       "<table class=\"simpletable\">\n",
       "<caption>Generalized Linear Model Regression Results</caption>\n",
       "<tr>\n",
       "  <th>Dep. Variable:</th>        <td>Target</td>      <th>  No. Observations:  </th>  <td> 10000</td> \n",
       "</tr>\n",
       "<tr>\n",
       "  <th>Model:</th>                  <td>GLM</td>       <th>  Df Residuals:      </th>  <td>  9991</td> \n",
       "</tr>\n",
       "<tr>\n",
       "  <th>Model Family:</th>        <td>Binomial</td>     <th>  Df Model:          </th>  <td>     8</td> \n",
       "</tr>\n",
       "<tr>\n",
       "  <th>Link Function:</th>         <td>Logit</td>      <th>  Scale:             </th> <td>  1.0000</td>\n",
       "</tr>\n",
       "<tr>\n",
       "  <th>Method:</th>                <td>IRLS</td>       <th>  Log-Likelihood:    </th> <td> -2552.4</td>\n",
       "</tr>\n",
       "<tr>\n",
       "  <th>Date:</th>            <td>Thu, 20 Jun 2024</td> <th>  Deviance:          </th> <td>  5104.9</td>\n",
       "</tr>\n",
       "<tr>\n",
       "  <th>Time:</th>                <td>22:42:10</td>     <th>  Pearson chi2:      </th> <td>1.01e+04</td>\n",
       "</tr>\n",
       "<tr>\n",
       "  <th>No. Iterations:</th>          <td>6</td>        <th>  Pseudo R-squ. (CS):</th>  <td>0.07743</td>\n",
       "</tr>\n",
       "<tr>\n",
       "  <th>Covariance Type:</th>     <td>nonrobust</td>    <th>                     </th>     <td> </td>   \n",
       "</tr>\n",
       "</table>\n",
       "<table class=\"simpletable\">\n",
       "<tr>\n",
       "             <td></td>               <th>coef</th>     <th>std err</th>      <th>z</th>      <th>P>|z|</th>  <th>[0.025</th>    <th>0.975]</th>  \n",
       "</tr>\n",
       "<tr>\n",
       "  <th>Intercept</th>              <td>   -3.0183</td> <td>    0.287</td> <td>  -10.529</td> <td> 0.000</td> <td>   -3.580</td> <td>   -2.456</td>\n",
       "</tr>\n",
       "<tr>\n",
       "  <th>Occupation[T.SAL]</th>      <td>   -0.2837</td> <td>    0.106</td> <td>   -2.675</td> <td> 0.007</td> <td>   -0.492</td> <td>   -0.076</td>\n",
       "</tr>\n",
       "<tr>\n",
       "  <th>Occupation[T.SELF-EMP]</th> <td>    0.7883</td> <td>    0.104</td> <td>    7.570</td> <td> 0.000</td> <td>    0.584</td> <td>    0.992</td>\n",
       "</tr>\n",
       "<tr>\n",
       "  <th>Occupation[T.SENP]</th>     <td>    0.1692</td> <td>    0.110</td> <td>    1.536</td> <td> 0.125</td> <td>   -0.047</td> <td>    0.385</td>\n",
       "</tr>\n",
       "<tr>\n",
       "  <th>Bal_cap</th>                <td>-1.973e-06</td> <td> 3.17e-07</td> <td>   -6.216</td> <td> 0.000</td> <td> -2.6e-06</td> <td>-1.35e-06</td>\n",
       "</tr>\n",
       "<tr>\n",
       "  <th>No_OF_CR_TXNS</th>          <td>    0.0321</td> <td>    0.003</td> <td>   11.600</td> <td> 0.000</td> <td>    0.027</td> <td>    0.037</td>\n",
       "</tr>\n",
       "<tr>\n",
       "  <th>SCR</th>                    <td>    0.0010</td> <td>    0.000</td> <td>    7.155</td> <td> 0.000</td> <td>    0.001</td> <td>    0.001</td>\n",
       "</tr>\n",
       "<tr>\n",
       "  <th>Holding_Period</th>         <td>   -0.0902</td> <td>    0.005</td> <td>  -18.768</td> <td> 0.000</td> <td>   -0.100</td> <td>   -0.081</td>\n",
       "</tr>\n",
       "<tr>\n",
       "  <th>DV_Age</th>                 <td>    0.0195</td> <td>    0.007</td> <td>    2.776</td> <td> 0.006</td> <td>    0.006</td> <td>    0.033</td>\n",
       "</tr>\n",
       "</table>"
      ],
      "text/latex": [
       "\\begin{center}\n",
       "\\begin{tabular}{lclc}\n",
       "\\toprule\n",
       "\\textbf{Dep. Variable:}         &      Target      & \\textbf{  No. Observations:  } &    10000    \\\\\n",
       "\\textbf{Model:}                 &       GLM        & \\textbf{  Df Residuals:      } &     9991    \\\\\n",
       "\\textbf{Model Family:}          &     Binomial     & \\textbf{  Df Model:          } &        8    \\\\\n",
       "\\textbf{Link Function:}         &      Logit       & \\textbf{  Scale:             } &    1.0000   \\\\\n",
       "\\textbf{Method:}                &       IRLS       & \\textbf{  Log-Likelihood:    } &   -2552.4   \\\\\n",
       "\\textbf{Date:}                  & Thu, 20 Jun 2024 & \\textbf{  Deviance:          } &    5104.9   \\\\\n",
       "\\textbf{Time:}                  &     22:42:10     & \\textbf{  Pearson chi2:      } &  1.01e+04   \\\\\n",
       "\\textbf{No. Iterations:}        &        6         & \\textbf{  Pseudo R-squ. (CS):} &  0.07743    \\\\\n",
       "\\textbf{Covariance Type:}       &    nonrobust     & \\textbf{                     } &             \\\\\n",
       "\\bottomrule\n",
       "\\end{tabular}\n",
       "\\begin{tabular}{lcccccc}\n",
       "                                & \\textbf{coef} & \\textbf{std err} & \\textbf{z} & \\textbf{P$> |$z$|$} & \\textbf{[0.025} & \\textbf{0.975]}  \\\\\n",
       "\\midrule\n",
       "\\textbf{Intercept}              &      -3.0183  &        0.287     &   -10.529  &         0.000        &       -3.580    &       -2.456     \\\\\n",
       "\\textbf{Occupation[T.SAL]}      &      -0.2837  &        0.106     &    -2.675  &         0.007        &       -0.492    &       -0.076     \\\\\n",
       "\\textbf{Occupation[T.SELF-EMP]} &       0.7883  &        0.104     &     7.570  &         0.000        &        0.584    &        0.992     \\\\\n",
       "\\textbf{Occupation[T.SENP]}     &       0.1692  &        0.110     &     1.536  &         0.125        &       -0.047    &        0.385     \\\\\n",
       "\\textbf{Bal\\_cap}               &   -1.973e-06  &     3.17e-07     &    -6.216  &         0.000        &     -2.6e-06    &    -1.35e-06     \\\\\n",
       "\\textbf{No\\_OF\\_CR\\_TXNS}       &       0.0321  &        0.003     &    11.600  &         0.000        &        0.027    &        0.037     \\\\\n",
       "\\textbf{SCR}                    &       0.0010  &        0.000     &     7.155  &         0.000        &        0.001    &        0.001     \\\\\n",
       "\\textbf{Holding\\_Period}        &      -0.0902  &        0.005     &   -18.768  &         0.000        &       -0.100    &       -0.081     \\\\\n",
       "\\textbf{DV\\_Age}                &       0.0195  &        0.007     &     2.776  &         0.006        &        0.006    &        0.033     \\\\\n",
       "\\bottomrule\n",
       "\\end{tabular}\n",
       "%\\caption{Generalized Linear Model Regression Results}\n",
       "\\end{center}"
      ],
      "text/plain": [
       "<class 'statsmodels.iolib.summary.Summary'>\n",
       "\"\"\"\n",
       "                 Generalized Linear Model Regression Results                  \n",
       "==============================================================================\n",
       "Dep. Variable:                 Target   No. Observations:                10000\n",
       "Model:                            GLM   Df Residuals:                     9991\n",
       "Model Family:                Binomial   Df Model:                            8\n",
       "Link Function:                  Logit   Scale:                          1.0000\n",
       "Method:                          IRLS   Log-Likelihood:                -2552.4\n",
       "Date:                Thu, 20 Jun 2024   Deviance:                       5104.9\n",
       "Time:                        22:42:10   Pearson chi2:                 1.01e+04\n",
       "No. Iterations:                     6   Pseudo R-squ. (CS):            0.07743\n",
       "Covariance Type:            nonrobust                                         \n",
       "==========================================================================================\n",
       "                             coef    std err          z      P>|z|      [0.025      0.975]\n",
       "------------------------------------------------------------------------------------------\n",
       "Intercept                 -3.0183      0.287    -10.529      0.000      -3.580      -2.456\n",
       "Occupation[T.SAL]         -0.2837      0.106     -2.675      0.007      -0.492      -0.076\n",
       "Occupation[T.SELF-EMP]     0.7883      0.104      7.570      0.000       0.584       0.992\n",
       "Occupation[T.SENP]         0.1692      0.110      1.536      0.125      -0.047       0.385\n",
       "Bal_cap                -1.973e-06   3.17e-07     -6.216      0.000    -2.6e-06   -1.35e-06\n",
       "No_OF_CR_TXNS              0.0321      0.003     11.600      0.000       0.027       0.037\n",
       "SCR                        0.0010      0.000      7.155      0.000       0.001       0.001\n",
       "Holding_Period            -0.0902      0.005    -18.768      0.000      -0.100      -0.081\n",
       "DV_Age                     0.0195      0.007      2.776      0.006       0.006       0.033\n",
       "==========================================================================================\n",
       "\"\"\""
      ]
     },
     "execution_count": 47,
     "metadata": {},
     "output_type": "execute_result"
    }
   ],
   "source": [
    "## Development Model Summary\n",
    "mylogit.summary()"
   ]
  },
  {
   "cell_type": "code",
   "execution_count": 48,
   "metadata": {},
   "outputs": [
    {
     "data": {
      "text/html": [
       "<div>\n",
       "<style scoped>\n",
       "    .dataframe tbody tr th:only-of-type {\n",
       "        vertical-align: middle;\n",
       "    }\n",
       "\n",
       "    .dataframe tbody tr th {\n",
       "        vertical-align: top;\n",
       "    }\n",
       "\n",
       "    .dataframe thead th {\n",
       "        text-align: right;\n",
       "    }\n",
       "</style>\n",
       "<table border=\"1\" class=\"dataframe\">\n",
       "  <thead>\n",
       "    <tr style=\"text-align: right;\">\n",
       "      <th></th>\n",
       "      <th>Dev_Coeff</th>\n",
       "    </tr>\n",
       "  </thead>\n",
       "  <tbody>\n",
       "    <tr>\n",
       "      <th>Intercept</th>\n",
       "      <td>-3.018308</td>\n",
       "    </tr>\n",
       "    <tr>\n",
       "      <th>Occupation[T.SAL]</th>\n",
       "      <td>-0.283744</td>\n",
       "    </tr>\n",
       "    <tr>\n",
       "      <th>Occupation[T.SELF-EMP]</th>\n",
       "      <td>0.788349</td>\n",
       "    </tr>\n",
       "    <tr>\n",
       "      <th>Occupation[T.SENP]</th>\n",
       "      <td>0.169183</td>\n",
       "    </tr>\n",
       "    <tr>\n",
       "      <th>Bal_cap</th>\n",
       "      <td>-0.000002</td>\n",
       "    </tr>\n",
       "    <tr>\n",
       "      <th>No_OF_CR_TXNS</th>\n",
       "      <td>0.032064</td>\n",
       "    </tr>\n",
       "    <tr>\n",
       "      <th>SCR</th>\n",
       "      <td>0.001039</td>\n",
       "    </tr>\n",
       "    <tr>\n",
       "      <th>Holding_Period</th>\n",
       "      <td>-0.090208</td>\n",
       "    </tr>\n",
       "    <tr>\n",
       "      <th>DV_Age</th>\n",
       "      <td>0.019539</td>\n",
       "    </tr>\n",
       "  </tbody>\n",
       "</table>\n",
       "</div>"
      ],
      "text/plain": [
       "                        Dev_Coeff\n",
       "Intercept               -3.018308\n",
       "Occupation[T.SAL]       -0.283744\n",
       "Occupation[T.SELF-EMP]   0.788349\n",
       "Occupation[T.SENP]       0.169183\n",
       "Bal_cap                 -0.000002\n",
       "No_OF_CR_TXNS            0.032064\n",
       "SCR                      0.001039\n",
       "Holding_Period          -0.090208\n",
       "DV_Age                   0.019539"
      ]
     },
     "execution_count": 48,
     "metadata": {},
     "output_type": "execute_result"
    }
   ],
   "source": [
    "dev_val_ratio = pd.DataFrame(mylogit.params)\n",
    "dev_val_ratio.columns = ['Dev_Coeff']\n",
    "dev_val_ratio"
   ]
  },
  {
   "cell_type": "code",
   "execution_count": 49,
   "metadata": {},
   "outputs": [
    {
     "data": {
      "text/plain": [
       "Intercept                -3.170438\n",
       "Occupation[T.SAL]        -0.237686\n",
       "Occupation[T.SELF-EMP]    0.656676\n",
       "Occupation[T.SENP]        0.229672\n",
       "Bal_cap                  -0.000001\n",
       "No_OF_CR_TXNS             0.028512\n",
       "SCR                       0.000868\n",
       "Holding_Period           -0.092684\n",
       "DV_Age                    0.026099\n",
       "dtype: float64"
      ]
     },
     "execution_count": 49,
     "metadata": {},
     "output_type": "execute_result"
    }
   ],
   "source": [
    "mylogit_val.params"
   ]
  },
  {
   "cell_type": "code",
   "execution_count": 50,
   "metadata": {},
   "outputs": [
    {
     "data": {
      "text/html": [
       "<div>\n",
       "<style scoped>\n",
       "    .dataframe tbody tr th:only-of-type {\n",
       "        vertical-align: middle;\n",
       "    }\n",
       "\n",
       "    .dataframe tbody tr th {\n",
       "        vertical-align: top;\n",
       "    }\n",
       "\n",
       "    .dataframe thead th {\n",
       "        text-align: right;\n",
       "    }\n",
       "</style>\n",
       "<table border=\"1\" class=\"dataframe\">\n",
       "  <thead>\n",
       "    <tr style=\"text-align: right;\">\n",
       "      <th></th>\n",
       "      <th>Dev_Coeff</th>\n",
       "      <th>Val_Coeff</th>\n",
       "      <th>dev_val_ratio</th>\n",
       "    </tr>\n",
       "  </thead>\n",
       "  <tbody>\n",
       "    <tr>\n",
       "      <th>Intercept</th>\n",
       "      <td>-3.018308</td>\n",
       "      <td>-3.170438</td>\n",
       "      <td>0.952016</td>\n",
       "    </tr>\n",
       "    <tr>\n",
       "      <th>Occupation[T.SAL]</th>\n",
       "      <td>-0.283744</td>\n",
       "      <td>-0.237686</td>\n",
       "      <td>1.193778</td>\n",
       "    </tr>\n",
       "    <tr>\n",
       "      <th>Occupation[T.SELF-EMP]</th>\n",
       "      <td>0.788349</td>\n",
       "      <td>0.656676</td>\n",
       "      <td>1.200515</td>\n",
       "    </tr>\n",
       "    <tr>\n",
       "      <th>Occupation[T.SENP]</th>\n",
       "      <td>0.169183</td>\n",
       "      <td>0.229672</td>\n",
       "      <td>0.736631</td>\n",
       "    </tr>\n",
       "    <tr>\n",
       "      <th>Bal_cap</th>\n",
       "      <td>-0.000002</td>\n",
       "      <td>-0.000001</td>\n",
       "      <td>1.924126</td>\n",
       "    </tr>\n",
       "    <tr>\n",
       "      <th>No_OF_CR_TXNS</th>\n",
       "      <td>0.032064</td>\n",
       "      <td>0.028512</td>\n",
       "      <td>1.124568</td>\n",
       "    </tr>\n",
       "    <tr>\n",
       "      <th>SCR</th>\n",
       "      <td>0.001039</td>\n",
       "      <td>0.000868</td>\n",
       "      <td>1.196971</td>\n",
       "    </tr>\n",
       "    <tr>\n",
       "      <th>Holding_Period</th>\n",
       "      <td>-0.090208</td>\n",
       "      <td>-0.092684</td>\n",
       "      <td>0.973280</td>\n",
       "    </tr>\n",
       "    <tr>\n",
       "      <th>DV_Age</th>\n",
       "      <td>0.019539</td>\n",
       "      <td>0.026099</td>\n",
       "      <td>0.748646</td>\n",
       "    </tr>\n",
       "  </tbody>\n",
       "</table>\n",
       "</div>"
      ],
      "text/plain": [
       "                        Dev_Coeff  Val_Coeff  dev_val_ratio\n",
       "Intercept               -3.018308  -3.170438       0.952016\n",
       "Occupation[T.SAL]       -0.283744  -0.237686       1.193778\n",
       "Occupation[T.SELF-EMP]   0.788349   0.656676       1.200515\n",
       "Occupation[T.SENP]       0.169183   0.229672       0.736631\n",
       "Bal_cap                 -0.000002  -0.000001       1.924126\n",
       "No_OF_CR_TXNS            0.032064   0.028512       1.124568\n",
       "SCR                      0.001039   0.000868       1.196971\n",
       "Holding_Period          -0.090208  -0.092684       0.973280\n",
       "DV_Age                   0.019539   0.026099       0.748646"
      ]
     },
     "execution_count": 50,
     "metadata": {},
     "output_type": "execute_result"
    }
   ],
   "source": [
    "dev_val_ratio['Val_Coeff'] = pd.DataFrame(mylogit_val.params)\n",
    "dev_val_ratio['dev_val_ratio'] = dev_val_ratio['Dev_Coeff'] / dev_val_ratio['Val_Coeff']\n",
    "dev_val_ratio"
   ]
  },
  {
   "cell_type": "markdown",
   "metadata": {},
   "source": [
    "# Next Steps:\n",
    "\n",
    "1. Based on the Dev - Val ratio, you have to do the necessary trend fitting for variables, for e.g. Balance Variable\n",
    "2. Rebuild the model of Development Data\n",
    "3. Validate the model on Validation Data\n",
    "4. Finally, you have to check the Model Performance on Hold Out Data"
   ]
  },
  {
   "cell_type": "markdown",
   "metadata": {},
   "source": [
    "### Thank you"
   ]
  }
 ],
 "metadata": {
  "anaconda-cloud": {},
  "kernelspec": {
   "display_name": "Python 3 (ipykernel)",
   "language": "python",
   "name": "python3"
  },
  "language_info": {
   "codemirror_mode": {
    "name": "ipython",
    "version": 3
   },
   "file_extension": ".py",
   "mimetype": "text/x-python",
   "name": "python",
   "nbconvert_exporter": "python",
   "pygments_lexer": "ipython3",
   "version": "3.12.2"
  }
 },
 "nbformat": 4,
 "nbformat_minor": 4
}
