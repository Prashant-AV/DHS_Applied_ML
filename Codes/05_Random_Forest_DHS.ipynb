{
 "cells": [
  {
   "cell_type": "markdown",
   "metadata": {},
   "source": [
    "# Random Forest\n",
    "### Trainer : - Rajesh Jakhotia"
   ]
  },
  {
   "cell_type": "code",
   "execution_count": 1,
   "metadata": {},
   "outputs": [],
   "source": [
    "import pandas as pd\n",
    "import numpy as np\n",
    "# import matplotlib.pyplot as plt\n",
    "from sklearn.model_selection import RandomizedSearchCV\n",
    "from sklearn.ensemble import RandomForestClassifier\n",
    "from sklearn.metrics import roc_auc_score\n"
   ]
  },
  {
   "cell_type": "code",
   "execution_count": 2,
   "metadata": {},
   "outputs": [],
   "source": [
    "#Load the Dataset\n",
    "RFDF_dev = pd.read_csv(\"DEV_SAMPLE.csv\")\n",
    "RFDF_holdout = pd.read_csv(\"HOLDOUT_SAMPLE.csv\")"
   ]
  },
  {
   "cell_type": "code",
   "execution_count": 3,
   "metadata": {},
   "outputs": [
    {
     "name": "stdout",
     "output_type": "stream",
     "text": [
      "(14000, 10) (6000, 10)\n"
     ]
    }
   ],
   "source": [
    "print( RFDF_dev.shape,  RFDF_holdout.shape)"
   ]
  },
  {
   "cell_type": "code",
   "execution_count": 4,
   "metadata": {},
   "outputs": [
    {
     "data": {
      "text/html": [
       "<div>\n",
       "<style scoped>\n",
       "    .dataframe tbody tr th:only-of-type {\n",
       "        vertical-align: middle;\n",
       "    }\n",
       "\n",
       "    .dataframe tbody tr th {\n",
       "        vertical-align: top;\n",
       "    }\n",
       "\n",
       "    .dataframe thead th {\n",
       "        text-align: right;\n",
       "    }\n",
       "</style>\n",
       "<table border=\"1\" class=\"dataframe\">\n",
       "  <thead>\n",
       "    <tr style=\"text-align: right;\">\n",
       "      <th></th>\n",
       "      <th>Cust_ID</th>\n",
       "      <th>Target</th>\n",
       "      <th>Age</th>\n",
       "      <th>Gender</th>\n",
       "      <th>Balance</th>\n",
       "      <th>Occupation</th>\n",
       "      <th>No_OF_CR_TXNS</th>\n",
       "      <th>AGE_BKT</th>\n",
       "      <th>SCR</th>\n",
       "      <th>Holding_Period</th>\n",
       "    </tr>\n",
       "  </thead>\n",
       "  <tbody>\n",
       "    <tr>\n",
       "      <th>0</th>\n",
       "      <td>C16505</td>\n",
       "      <td>0</td>\n",
       "      <td>41</td>\n",
       "      <td>M</td>\n",
       "      <td>91519.92</td>\n",
       "      <td>SELF-EMP</td>\n",
       "      <td>38</td>\n",
       "      <td>41-45</td>\n",
       "      <td>926</td>\n",
       "      <td>15</td>\n",
       "    </tr>\n",
       "    <tr>\n",
       "      <th>1</th>\n",
       "      <td>C17241</td>\n",
       "      <td>0</td>\n",
       "      <td>52</td>\n",
       "      <td>M</td>\n",
       "      <td>117288.96</td>\n",
       "      <td>SAL</td>\n",
       "      <td>17</td>\n",
       "      <td>&gt;50</td>\n",
       "      <td>768</td>\n",
       "      <td>13</td>\n",
       "    </tr>\n",
       "    <tr>\n",
       "      <th>2</th>\n",
       "      <td>C18802</td>\n",
       "      <td>0</td>\n",
       "      <td>31</td>\n",
       "      <td>F</td>\n",
       "      <td>259827.44</td>\n",
       "      <td>SENP</td>\n",
       "      <td>8</td>\n",
       "      <td>31-35</td>\n",
       "      <td>816</td>\n",
       "      <td>5</td>\n",
       "    </tr>\n",
       "    <tr>\n",
       "      <th>3</th>\n",
       "      <td>C19289</td>\n",
       "      <td>0</td>\n",
       "      <td>45</td>\n",
       "      <td>F</td>\n",
       "      <td>26677.55</td>\n",
       "      <td>PROF</td>\n",
       "      <td>14</td>\n",
       "      <td>41-45</td>\n",
       "      <td>353</td>\n",
       "      <td>18</td>\n",
       "    </tr>\n",
       "    <tr>\n",
       "      <th>4</th>\n",
       "      <td>C14028</td>\n",
       "      <td>0</td>\n",
       "      <td>39</td>\n",
       "      <td>F</td>\n",
       "      <td>43440.31</td>\n",
       "      <td>SENP</td>\n",
       "      <td>1</td>\n",
       "      <td>36-40</td>\n",
       "      <td>751</td>\n",
       "      <td>31</td>\n",
       "    </tr>\n",
       "    <tr>\n",
       "      <th>5</th>\n",
       "      <td>C17960</td>\n",
       "      <td>0</td>\n",
       "      <td>45</td>\n",
       "      <td>M</td>\n",
       "      <td>403324.49</td>\n",
       "      <td>SENP</td>\n",
       "      <td>11</td>\n",
       "      <td>41-45</td>\n",
       "      <td>364</td>\n",
       "      <td>2</td>\n",
       "    </tr>\n",
       "    <tr>\n",
       "      <th>6</th>\n",
       "      <td>C10216</td>\n",
       "      <td>1</td>\n",
       "      <td>33</td>\n",
       "      <td>M</td>\n",
       "      <td>245500.00</td>\n",
       "      <td>SAL</td>\n",
       "      <td>24</td>\n",
       "      <td>31-35</td>\n",
       "      <td>166</td>\n",
       "      <td>9</td>\n",
       "    </tr>\n",
       "    <tr>\n",
       "      <th>7</th>\n",
       "      <td>C4575</td>\n",
       "      <td>0</td>\n",
       "      <td>26</td>\n",
       "      <td>F</td>\n",
       "      <td>464931.92</td>\n",
       "      <td>SELF-EMP</td>\n",
       "      <td>18</td>\n",
       "      <td>26-30</td>\n",
       "      <td>448</td>\n",
       "      <td>28</td>\n",
       "    </tr>\n",
       "    <tr>\n",
       "      <th>8</th>\n",
       "      <td>C6171</td>\n",
       "      <td>0</td>\n",
       "      <td>38</td>\n",
       "      <td>M</td>\n",
       "      <td>49257.03</td>\n",
       "      <td>SAL</td>\n",
       "      <td>19</td>\n",
       "      <td>36-40</td>\n",
       "      <td>237</td>\n",
       "      <td>5</td>\n",
       "    </tr>\n",
       "    <tr>\n",
       "      <th>9</th>\n",
       "      <td>C484</td>\n",
       "      <td>1</td>\n",
       "      <td>44</td>\n",
       "      <td>M</td>\n",
       "      <td>10791.71</td>\n",
       "      <td>SELF-EMP</td>\n",
       "      <td>17</td>\n",
       "      <td>41-45</td>\n",
       "      <td>678</td>\n",
       "      <td>3</td>\n",
       "    </tr>\n",
       "  </tbody>\n",
       "</table>\n",
       "</div>"
      ],
      "text/plain": [
       "  Cust_ID  Target  Age Gender    Balance Occupation  No_OF_CR_TXNS AGE_BKT  \\\n",
       "0  C16505       0   41      M   91519.92   SELF-EMP             38   41-45   \n",
       "1  C17241       0   52      M  117288.96        SAL             17     >50   \n",
       "2  C18802       0   31      F  259827.44       SENP              8   31-35   \n",
       "3  C19289       0   45      F   26677.55       PROF             14   41-45   \n",
       "4  C14028       0   39      F   43440.31       SENP              1   36-40   \n",
       "5  C17960       0   45      M  403324.49       SENP             11   41-45   \n",
       "6  C10216       1   33      M  245500.00        SAL             24   31-35   \n",
       "7   C4575       0   26      F  464931.92   SELF-EMP             18   26-30   \n",
       "8   C6171       0   38      M   49257.03        SAL             19   36-40   \n",
       "9    C484       1   44      M   10791.71   SELF-EMP             17   41-45   \n",
       "\n",
       "   SCR  Holding_Period  \n",
       "0  926              15  \n",
       "1  768              13  \n",
       "2  816               5  \n",
       "3  353              18  \n",
       "4  751              31  \n",
       "5  364               2  \n",
       "6  166               9  \n",
       "7  448              28  \n",
       "8  237               5  \n",
       "9  678               3  "
      ]
     },
     "execution_count": 4,
     "metadata": {},
     "output_type": "execute_result"
    }
   ],
   "source": [
    "RFDF_dev.head(10)"
   ]
  },
  {
   "cell_type": "code",
   "execution_count": 5,
   "metadata": {},
   "outputs": [
    {
     "data": {
      "text/html": [
       "<div>\n",
       "<style scoped>\n",
       "    .dataframe tbody tr th:only-of-type {\n",
       "        vertical-align: middle;\n",
       "    }\n",
       "\n",
       "    .dataframe tbody tr th {\n",
       "        vertical-align: top;\n",
       "    }\n",
       "\n",
       "    .dataframe thead th {\n",
       "        text-align: right;\n",
       "    }\n",
       "</style>\n",
       "<table border=\"1\" class=\"dataframe\">\n",
       "  <thead>\n",
       "    <tr style=\"text-align: right;\">\n",
       "      <th>col_0</th>\n",
       "      <th>count</th>\n",
       "      <th>prop</th>\n",
       "    </tr>\n",
       "    <tr>\n",
       "      <th>Target</th>\n",
       "      <th></th>\n",
       "      <th></th>\n",
       "    </tr>\n",
       "  </thead>\n",
       "  <tbody>\n",
       "    <tr>\n",
       "      <th>0</th>\n",
       "      <td>12765</td>\n",
       "      <td>0.911786</td>\n",
       "    </tr>\n",
       "    <tr>\n",
       "      <th>1</th>\n",
       "      <td>1235</td>\n",
       "      <td>0.088214</td>\n",
       "    </tr>\n",
       "  </tbody>\n",
       "</table>\n",
       "</div>"
      ],
      "text/plain": [
       "col_0   count      prop\n",
       "Target                 \n",
       "0       12765  0.911786\n",
       "1        1235  0.088214"
      ]
     },
     "execution_count": 5,
     "metadata": {},
     "output_type": "execute_result"
    }
   ],
   "source": [
    "## Get Frequency of 0 and 1\n",
    "target_freq = pd.crosstab(index=RFDF_dev['Target'], \n",
    "                             columns=\"count\",\n",
    "                             )\n",
    "\n",
    "target_freq['prop'] = target_freq/target_freq.sum()\n",
    "target_freq"
   ]
  },
  {
   "cell_type": "code",
   "execution_count": 6,
   "metadata": {},
   "outputs": [
    {
     "name": "stdout",
     "output_type": "stream",
     "text": [
      "Index(['Age', 'Balance', 'No_OF_CR_TXNS', 'SCR', 'Holding_Period', 'Gender_F',\n",
      "       'Gender_M', 'Gender_O', 'Occupation_PROF', 'Occupation_SAL',\n",
      "       'Occupation_SELF-EMP', 'Occupation_SENP', 'AGE_BKT_26-30',\n",
      "       'AGE_BKT_31-35', 'AGE_BKT_36-40', 'AGE_BKT_41-45', 'AGE_BKT_46-50',\n",
      "       'AGE_BKT_<25', 'AGE_BKT_>50'],\n",
      "      dtype='object')\n",
      "<class 'pandas.core.frame.DataFrame'> <class 'pandas.core.series.Series'>\n"
     ]
    }
   ],
   "source": [
    "#Data Preprocessing\n",
    "#Splitting into features and response variables\n",
    "X =  RFDF_dev[['Age', 'Gender', 'Balance', 'Occupation',\n",
    "               'No_OF_CR_TXNS', 'AGE_BKT', 'SCR', 'Holding_Period']]\n",
    "\n",
    "#Categorical Variable to Numerical Variables\n",
    "X_train = pd.get_dummies(X)\n",
    "print(X_train.columns)\n",
    "\n",
    "\n",
    "y_train = RFDF_dev[\"Target\"]\n",
    "\n",
    "print (type(X_train) , type(y_train))"
   ]
  },
  {
   "cell_type": "code",
   "execution_count": 7,
   "metadata": {},
   "outputs": [
    {
     "data": {
      "text/plain": [
       "Age                          41\n",
       "Balance                91519.92\n",
       "No_OF_CR_TXNS                38\n",
       "SCR                         926\n",
       "Holding_Period               15\n",
       "Gender_F                  False\n",
       "Gender_M                   True\n",
       "Gender_O                  False\n",
       "Occupation_PROF           False\n",
       "Occupation_SAL            False\n",
       "Occupation_SELF-EMP        True\n",
       "Occupation_SENP           False\n",
       "AGE_BKT_26-30             False\n",
       "AGE_BKT_31-35             False\n",
       "AGE_BKT_36-40             False\n",
       "AGE_BKT_41-45              True\n",
       "AGE_BKT_46-50             False\n",
       "AGE_BKT_<25               False\n",
       "AGE_BKT_>50               False\n",
       "Name: 0, dtype: object"
      ]
     },
     "execution_count": 7,
     "metadata": {},
     "output_type": "execute_result"
    }
   ],
   "source": [
    "X_train.iloc[0]"
   ]
  },
  {
   "cell_type": "markdown",
   "metadata": {},
   "source": [
    "### Random Forest Classifier"
   ]
  },
  {
   "cell_type": "code",
   "execution_count": 8,
   "metadata": {},
   "outputs": [
    {
     "data": {
      "text/html": [
       "<style>#sk-container-id-1 {color: black;}#sk-container-id-1 pre{padding: 0;}#sk-container-id-1 div.sk-toggleable {background-color: white;}#sk-container-id-1 label.sk-toggleable__label {cursor: pointer;display: block;width: 100%;margin-bottom: 0;padding: 0.3em;box-sizing: border-box;text-align: center;}#sk-container-id-1 label.sk-toggleable__label-arrow:before {content: \"▸\";float: left;margin-right: 0.25em;color: #696969;}#sk-container-id-1 label.sk-toggleable__label-arrow:hover:before {color: black;}#sk-container-id-1 div.sk-estimator:hover label.sk-toggleable__label-arrow:before {color: black;}#sk-container-id-1 div.sk-toggleable__content {max-height: 0;max-width: 0;overflow: hidden;text-align: left;background-color: #f0f8ff;}#sk-container-id-1 div.sk-toggleable__content pre {margin: 0.2em;color: black;border-radius: 0.25em;background-color: #f0f8ff;}#sk-container-id-1 input.sk-toggleable__control:checked~div.sk-toggleable__content {max-height: 200px;max-width: 100%;overflow: auto;}#sk-container-id-1 input.sk-toggleable__control:checked~label.sk-toggleable__label-arrow:before {content: \"▾\";}#sk-container-id-1 div.sk-estimator input.sk-toggleable__control:checked~label.sk-toggleable__label {background-color: #d4ebff;}#sk-container-id-1 div.sk-label input.sk-toggleable__control:checked~label.sk-toggleable__label {background-color: #d4ebff;}#sk-container-id-1 input.sk-hidden--visually {border: 0;clip: rect(1px 1px 1px 1px);clip: rect(1px, 1px, 1px, 1px);height: 1px;margin: -1px;overflow: hidden;padding: 0;position: absolute;width: 1px;}#sk-container-id-1 div.sk-estimator {font-family: monospace;background-color: #f0f8ff;border: 1px dotted black;border-radius: 0.25em;box-sizing: border-box;margin-bottom: 0.5em;}#sk-container-id-1 div.sk-estimator:hover {background-color: #d4ebff;}#sk-container-id-1 div.sk-parallel-item::after {content: \"\";width: 100%;border-bottom: 1px solid gray;flex-grow: 1;}#sk-container-id-1 div.sk-label:hover label.sk-toggleable__label {background-color: #d4ebff;}#sk-container-id-1 div.sk-serial::before {content: \"\";position: absolute;border-left: 1px solid gray;box-sizing: border-box;top: 0;bottom: 0;left: 50%;z-index: 0;}#sk-container-id-1 div.sk-serial {display: flex;flex-direction: column;align-items: center;background-color: white;padding-right: 0.2em;padding-left: 0.2em;position: relative;}#sk-container-id-1 div.sk-item {position: relative;z-index: 1;}#sk-container-id-1 div.sk-parallel {display: flex;align-items: stretch;justify-content: center;background-color: white;position: relative;}#sk-container-id-1 div.sk-item::before, #sk-container-id-1 div.sk-parallel-item::before {content: \"\";position: absolute;border-left: 1px solid gray;box-sizing: border-box;top: 0;bottom: 0;left: 50%;z-index: -1;}#sk-container-id-1 div.sk-parallel-item {display: flex;flex-direction: column;z-index: 1;position: relative;background-color: white;}#sk-container-id-1 div.sk-parallel-item:first-child::after {align-self: flex-end;width: 50%;}#sk-container-id-1 div.sk-parallel-item:last-child::after {align-self: flex-start;width: 50%;}#sk-container-id-1 div.sk-parallel-item:only-child::after {width: 0;}#sk-container-id-1 div.sk-dashed-wrapped {border: 1px dashed gray;margin: 0 0.4em 0.5em 0.4em;box-sizing: border-box;padding-bottom: 0.4em;background-color: white;}#sk-container-id-1 div.sk-label label {font-family: monospace;font-weight: bold;display: inline-block;line-height: 1.2em;}#sk-container-id-1 div.sk-label-container {text-align: center;}#sk-container-id-1 div.sk-container {/* jupyter's `normalize.less` sets `[hidden] { display: none; }` but bootstrap.min.css set `[hidden] { display: none !important; }` so we also need the `!important` here to be able to override the default hidden behavior on the sphinx rendered scikit-learn.org. See: https://github.com/scikit-learn/scikit-learn/issues/21755 */display: inline-block !important;position: relative;}#sk-container-id-1 div.sk-text-repr-fallback {display: none;}</style><div id=\"sk-container-id-1\" class=\"sk-top-container\"><div class=\"sk-text-repr-fallback\"><pre>RandomForestClassifier(max_depth=10, min_samples_split=100, n_estimators=101,\n",
       "                       random_state=1212)</pre><b>In a Jupyter environment, please rerun this cell to show the HTML representation or trust the notebook. <br />On GitHub, the HTML representation is unable to render, please try loading this page with nbviewer.org.</b></div><div class=\"sk-container\" hidden><div class=\"sk-item\"><div class=\"sk-estimator sk-toggleable\"><input class=\"sk-toggleable__control sk-hidden--visually\" id=\"sk-estimator-id-1\" type=\"checkbox\" checked><label for=\"sk-estimator-id-1\" class=\"sk-toggleable__label sk-toggleable__label-arrow\">RandomForestClassifier</label><div class=\"sk-toggleable__content\"><pre>RandomForestClassifier(max_depth=10, min_samples_split=100, n_estimators=101,\n",
       "                       random_state=1212)</pre></div></div></div></div></div>"
      ],
      "text/plain": [
       "RandomForestClassifier(max_depth=10, min_samples_split=100, n_estimators=101,\n",
       "                       random_state=1212)"
      ]
     },
     "execution_count": 8,
     "metadata": {},
     "output_type": "execute_result"
    }
   ],
   "source": [
    "rf = RandomForestClassifier(max_depth = 10, \n",
    "                                min_samples_split=100, \n",
    "                                n_estimators = 101,\n",
    "                                random_state = 1212)\n",
    "\n",
    "rf.fit(X_train, y_train)"
   ]
  },
  {
   "cell_type": "markdown",
   "metadata": {},
   "source": [
    "### Variable Importance"
   ]
  },
  {
   "cell_type": "code",
   "execution_count": 9,
   "metadata": {},
   "outputs": [],
   "source": [
    "# !pip3 install scikit-plot"
   ]
  },
  {
   "cell_type": "code",
   "execution_count": 10,
   "metadata": {},
   "outputs": [
    {
     "name": "stdout",
     "output_type": "stream",
     "text": [
      "Features sorted by their importance:\n",
      "0.284 Holding_Period\n",
      "0.1671 No_OF_CR_TXNS\n",
      "0.1353 Balance\n",
      "0.1208 SCR\n",
      "0.0721 Occupation_SELF-EMP\n",
      "0.0538 Age\n",
      "0.039 Occupation_SENP\n",
      "0.0354 Occupation_SAL\n",
      "0.0179 Gender_F\n",
      "0.0162 AGE_BKT_41-45\n",
      "0.0152 Occupation_PROF\n",
      "0.0106 Gender_M\n",
      "0.0063 AGE_BKT_36-40\n",
      "0.0059 Gender_O\n",
      "0.0045 AGE_BKT_46-50\n",
      "0.0044 AGE_BKT_<25\n",
      "0.0044 AGE_BKT_26-30\n",
      "0.0037 AGE_BKT_31-35\n",
      "0.0035 AGE_BKT_>50\n"
     ]
    },
    {
     "data": {
      "text/plain": [
       "<Axes: title={'center': 'Feature Importance'}>"
      ]
     },
     "execution_count": 10,
     "metadata": {},
     "output_type": "execute_result"
    },
    {
     "data": {
      "image/png": "[encoded data removed]",
      "text/plain": [
       "<Figure size 640x480 with 1 Axes>"
      ]
     },
     "metadata": {},
     "output_type": "display_data"
    }
   ],
   "source": [
    "## Plot Variable Importance\n",
    "## pip install scikit-plot\n",
    "import scikitplot as skplt\n",
    "names = X_train.columns\n",
    "names \n",
    "\n",
    "feat_imp = sorted(\n",
    "            zip(map(lambda x: round(x, 4), rf.feature_importances_), \n",
    "                names), \n",
    "            reverse=True\n",
    "            )\n",
    "\n",
    "print (\"Features sorted by their importance:\")\n",
    "for s in feat_imp:\n",
    "    print(*s)\n",
    "\n",
    "skplt.estimators.plot_feature_importances(rf,  feature_names = names )\n"
   ]
  },
  {
   "cell_type": "markdown",
   "metadata": {},
   "source": [
    "### Model Performance Measure\n",
    "### Overfitting"
   ]
  },
  {
   "cell_type": "code",
   "execution_count": 11,
   "metadata": {},
   "outputs": [],
   "source": [
    "rf = RandomForestClassifier(max_depth = 4, \n",
    "                                min_samples_split=100, \n",
    "                                n_estimators = 101,\n",
    "                                random_state = 1212)\n",
    "\n",
    "rf.fit(X_train, y_train)\n",
    "\n",
    "## Predict Probability\n",
    "RFDF_dev[\"Predict_score\"] = rf.predict_proba(X_train)[:,1]"
   ]
  },
  {
   "cell_type": "code",
   "execution_count": 12,
   "metadata": {},
   "outputs": [
    {
     "name": "stdout",
     "output_type": "stream",
     "text": [
      "Train AUC:  0.7940650596028171\n"
     ]
    }
   ],
   "source": [
    "\n",
    "auc = roc_auc_score(RFDF_dev[\"Target\"],\n",
    "              RFDF_dev[\"Predict_score\"])\n",
    "\n",
    "print(\"Train AUC: \", auc)\n"
   ]
  },
  {
   "cell_type": "code",
   "execution_count": 13,
   "metadata": {},
   "outputs": [
    {
     "name": "stdout",
     "output_type": "stream",
     "text": [
      "Hold Out AUC:  0.763701479856175\n"
     ]
    }
   ],
   "source": [
    "## AUC for Hold Out dataset\n",
    "\n",
    "X_holdout =  RFDF_holdout[['Age', 'Gender', 'Balance', 'Occupation',\n",
    "               'No_OF_CR_TXNS', 'AGE_BKT', 'SCR', 'Holding_Period']]\n",
    "X_test = pd.get_dummies(X_holdout)\n",
    "RFDF_holdout[\"Predict_score\"] = rf.predict_proba(X_test)[:,1]\n",
    "\n",
    "ho_auc = roc_auc_score(RFDF_holdout[\"Target\"],\n",
    "              RFDF_holdout[\"Predict_score\"])\n",
    "print(\"Hold Out AUC: \", ho_auc)"
   ]
  },
  {
   "cell_type": "markdown",
   "metadata": {},
   "source": [
    "### RandomizedSearchCV"
   ]
  },
  {
   "cell_type": "code",
   "execution_count": 14,
   "metadata": {},
   "outputs": [
    {
     "data": {
      "text/plain": [
       "array([ 50.  ,  68.75,  87.5 , 106.25, 125.  ])"
      ]
     },
     "execution_count": 14,
     "metadata": {},
     "output_type": "execute_result"
    }
   ],
   "source": [
    "np.linspace(start = 50, stop = 125, num = 5)"
   ]
  },
  {
   "cell_type": "code",
   "execution_count": 15,
   "metadata": {},
   "outputs": [
    {
     "name": "stdout",
     "output_type": "stream",
     "text": [
      "{'n_estimators': [50, 68, 87, 106, 125], 'max_features': [2, 3, 4], 'min_samples_split': [100, 200, 300, 400, 500]}\n"
     ]
    }
   ],
   "source": [
    "## Tuning the Random Forest using RandomizedSearchCV\n",
    "\n",
    "# Number of trees in random forest\n",
    "n_estimators = [int(x) for x in np.linspace(start = 50, stop = 125, num = 5)]\n",
    "# Number of features to consider at every split\n",
    "max_features = [2,3,4]\n",
    "# Maximum number of levels in tree\n",
    "# Minimum number of samples required to split a node\n",
    "min_samples_split = [int(x) for x in np.linspace(start = 100, stop = 500, num = 5)]\n",
    "\n",
    "# Create the random grid\n",
    "random_grid = {'n_estimators': n_estimators,\n",
    "               'max_features': max_features,\n",
    "               'min_samples_split': min_samples_split,}\n",
    "print(random_grid)\n"
   ]
  },
  {
   "cell_type": "code",
   "execution_count": 16,
   "metadata": {},
   "outputs": [
    {
     "name": "stdout",
     "output_type": "stream",
     "text": [
      "Fitting 10 folds for each of 10 candidates, totalling 100 fits\n"
     ]
    },
    {
     "data": {
      "text/html": [
       "<style>#sk-container-id-2 {color: black;}#sk-container-id-2 pre{padding: 0;}#sk-container-id-2 div.sk-toggleable {background-color: white;}#sk-container-id-2 label.sk-toggleable__label {cursor: pointer;display: block;width: 100%;margin-bottom: 0;padding: 0.3em;box-sizing: border-box;text-align: center;}#sk-container-id-2 label.sk-toggleable__label-arrow:before {content: \"▸\";float: left;margin-right: 0.25em;color: #696969;}#sk-container-id-2 label.sk-toggleable__label-arrow:hover:before {color: black;}#sk-container-id-2 div.sk-estimator:hover label.sk-toggleable__label-arrow:before {color: black;}#sk-container-id-2 div.sk-toggleable__content {max-height: 0;max-width: 0;overflow: hidden;text-align: left;background-color: #f0f8ff;}#sk-container-id-2 div.sk-toggleable__content pre {margin: 0.2em;color: black;border-radius: 0.25em;background-color: #f0f8ff;}#sk-container-id-2 input.sk-toggleable__control:checked~div.sk-toggleable__content {max-height: 200px;max-width: 100%;overflow: auto;}#sk-container-id-2 input.sk-toggleable__control:checked~label.sk-toggleable__label-arrow:before {content: \"▾\";}#sk-container-id-2 div.sk-estimator input.sk-toggleable__control:checked~label.sk-toggleable__label {background-color: #d4ebff;}#sk-container-id-2 div.sk-label input.sk-toggleable__control:checked~label.sk-toggleable__label {background-color: #d4ebff;}#sk-container-id-2 input.sk-hidden--visually {border: 0;clip: rect(1px 1px 1px 1px);clip: rect(1px, 1px, 1px, 1px);height: 1px;margin: -1px;overflow: hidden;padding: 0;position: absolute;width: 1px;}#sk-container-id-2 div.sk-estimator {font-family: monospace;background-color: #f0f8ff;border: 1px dotted black;border-radius: 0.25em;box-sizing: border-box;margin-bottom: 0.5em;}#sk-container-id-2 div.sk-estimator:hover {background-color: #d4ebff;}#sk-container-id-2 div.sk-parallel-item::after {content: \"\";width: 100%;border-bottom: 1px solid gray;flex-grow: 1;}#sk-container-id-2 div.sk-label:hover label.sk-toggleable__label {background-color: #d4ebff;}#sk-container-id-2 div.sk-serial::before {content: \"\";position: absolute;border-left: 1px solid gray;box-sizing: border-box;top: 0;bottom: 0;left: 50%;z-index: 0;}#sk-container-id-2 div.sk-serial {display: flex;flex-direction: column;align-items: center;background-color: white;padding-right: 0.2em;padding-left: 0.2em;position: relative;}#sk-container-id-2 div.sk-item {position: relative;z-index: 1;}#sk-container-id-2 div.sk-parallel {display: flex;align-items: stretch;justify-content: center;background-color: white;position: relative;}#sk-container-id-2 div.sk-item::before, #sk-container-id-2 div.sk-parallel-item::before {content: \"\";position: absolute;border-left: 1px solid gray;box-sizing: border-box;top: 0;bottom: 0;left: 50%;z-index: -1;}#sk-container-id-2 div.sk-parallel-item {display: flex;flex-direction: column;z-index: 1;position: relative;background-color: white;}#sk-container-id-2 div.sk-parallel-item:first-child::after {align-self: flex-end;width: 50%;}#sk-container-id-2 div.sk-parallel-item:last-child::after {align-self: flex-start;width: 50%;}#sk-container-id-2 div.sk-parallel-item:only-child::after {width: 0;}#sk-container-id-2 div.sk-dashed-wrapped {border: 1px dashed gray;margin: 0 0.4em 0.5em 0.4em;box-sizing: border-box;padding-bottom: 0.4em;background-color: white;}#sk-container-id-2 div.sk-label label {font-family: monospace;font-weight: bold;display: inline-block;line-height: 1.2em;}#sk-container-id-2 div.sk-label-container {text-align: center;}#sk-container-id-2 div.sk-container {/* jupyter's `normalize.less` sets `[hidden] { display: none; }` but bootstrap.min.css set `[hidden] { display: none !important; }` so we also need the `!important` here to be able to override the default hidden behavior on the sphinx rendered scikit-learn.org. See: https://github.com/scikit-learn/scikit-learn/issues/21755 */display: inline-block !important;position: relative;}#sk-container-id-2 div.sk-text-repr-fallback {display: none;}</style><div id=\"sk-container-id-2\" class=\"sk-top-container\"><div class=\"sk-text-repr-fallback\"><pre>RandomizedSearchCV(cv=10, estimator=RandomForestClassifier(warm_start=True),\n",
       "                   n_jobs=-1,\n",
       "                   param_distributions={&#x27;max_features&#x27;: [2, 3, 4],\n",
       "                                        &#x27;min_samples_split&#x27;: [100, 200, 300,\n",
       "                                                              400, 500],\n",
       "                                        &#x27;n_estimators&#x27;: [50, 68, 87, 106, 125]},\n",
       "                   random_state=1212, scoring=&#x27;roc_auc&#x27;, verbose=2)</pre><b>In a Jupyter environment, please rerun this cell to show the HTML representation or trust the notebook. <br />On GitHub, the HTML representation is unable to render, please try loading this page with nbviewer.org.</b></div><div class=\"sk-container\" hidden><div class=\"sk-item sk-dashed-wrapped\"><div class=\"sk-label-container\"><div class=\"sk-label sk-toggleable\"><input class=\"sk-toggleable__control sk-hidden--visually\" id=\"sk-estimator-id-2\" type=\"checkbox\" ><label for=\"sk-estimator-id-2\" class=\"sk-toggleable__label sk-toggleable__label-arrow\">RandomizedSearchCV</label><div class=\"sk-toggleable__content\"><pre>RandomizedSearchCV(cv=10, estimator=RandomForestClassifier(warm_start=True),\n",
       "                   n_jobs=-1,\n",
       "                   param_distributions={&#x27;max_features&#x27;: [2, 3, 4],\n",
       "                                        &#x27;min_samples_split&#x27;: [100, 200, 300,\n",
       "                                                              400, 500],\n",
       "                                        &#x27;n_estimators&#x27;: [50, 68, 87, 106, 125]},\n",
       "                   random_state=1212, scoring=&#x27;roc_auc&#x27;, verbose=2)</pre></div></div></div><div class=\"sk-parallel\"><div class=\"sk-parallel-item\"><div class=\"sk-item\"><div class=\"sk-label-container\"><div class=\"sk-label sk-toggleable\"><input class=\"sk-toggleable__control sk-hidden--visually\" id=\"sk-estimator-id-3\" type=\"checkbox\" ><label for=\"sk-estimator-id-3\" class=\"sk-toggleable__label sk-toggleable__label-arrow\">estimator: RandomForestClassifier</label><div class=\"sk-toggleable__content\"><pre>RandomForestClassifier(warm_start=True)</pre></div></div></div><div class=\"sk-serial\"><div class=\"sk-item\"><div class=\"sk-estimator sk-toggleable\"><input class=\"sk-toggleable__control sk-hidden--visually\" id=\"sk-estimator-id-4\" type=\"checkbox\" ><label for=\"sk-estimator-id-4\" class=\"sk-toggleable__label sk-toggleable__label-arrow\">RandomForestClassifier</label><div class=\"sk-toggleable__content\"><pre>RandomForestClassifier(warm_start=True)</pre></div></div></div></div></div></div></div></div></div></div>"
      ],
      "text/plain": [
       "RandomizedSearchCV(cv=10, estimator=RandomForestClassifier(warm_start=True),\n",
       "                   n_jobs=-1,\n",
       "                   param_distributions={'max_features': [2, 3, 4],\n",
       "                                        'min_samples_split': [100, 200, 300,\n",
       "                                                              400, 500],\n",
       "                                        'n_estimators': [50, 68, 87, 106, 125]},\n",
       "                   random_state=1212, scoring='roc_auc', verbose=2)"
      ]
     },
     "execution_count": 16,
     "metadata": {},
     "output_type": "execute_result"
    }
   ],
   "source": [
    "# Use the random grid to search for best hyperparameters\n",
    "# First create the base model to tune\n",
    "rf = RandomForestClassifier(warm_start = True)\n",
    "# Random search of parameters, using 3 fold cross validation, \n",
    "# search across 100 different combinations, and use all available cores\n",
    "rf_random = RandomizedSearchCV(estimator = rf, \n",
    "                               param_distributions = random_grid, \n",
    "                               n_iter = 10, cv = 10, scoring = 'roc_auc',\n",
    "                               verbose=2, random_state=1212, n_jobs = -1)\n",
    "\n",
    "# Fit the random search model\n",
    "rf_random.fit(X_train, y_train)\n"
   ]
  },
  {
   "cell_type": "code",
   "execution_count": 17,
   "metadata": {},
   "outputs": [
    {
     "data": {
      "text/plain": [
       "{'n_estimators': 87, 'min_samples_split': 100, 'max_features': 4}"
      ]
     },
     "execution_count": 17,
     "metadata": {},
     "output_type": "execute_result"
    }
   ],
   "source": [
    "rf_random.best_params_"
   ]
  },
  {
   "cell_type": "code",
   "execution_count": 18,
   "metadata": {},
   "outputs": [
    {
     "data": {
      "text/plain": [
       "0.7875966182709131"
      ]
     },
     "execution_count": 18,
     "metadata": {},
     "output_type": "execute_result"
    }
   ],
   "source": [
    "rf_random.best_score_"
   ]
  },
  {
   "cell_type": "code",
   "execution_count": 19,
   "metadata": {},
   "outputs": [],
   "source": [
    "best_rf_clf = rf_random.best_estimator_"
   ]
  },
  {
   "cell_type": "code",
   "execution_count": 20,
   "metadata": {},
   "outputs": [
    {
     "data": {
      "text/plain": [
       "0.7774901861170599"
      ]
     },
     "execution_count": 20,
     "metadata": {},
     "output_type": "execute_result"
    }
   ],
   "source": [
    "## Hold out performance\n",
    "X_holdout =  RFDF_holdout[['Age', 'Gender', 'Balance', 'Occupation',\n",
    "               'No_OF_CR_TXNS', 'AGE_BKT', 'SCR', 'Holding_Period']]\n",
    "X_test = pd.get_dummies(X_holdout)\n",
    "RFDF_holdout[\"Predict_score\"] = best_rf_clf.predict_proba(X_test)[:,1]\n",
    "roc_auc_score(RFDF_holdout[\"Target\"],\n",
    "              RFDF_holdout[\"Predict_score\"])"
   ]
  },
  {
   "cell_type": "markdown",
   "metadata": {},
   "source": [
    "### Rank Ordering & KS"
   ]
  },
  {
   "cell_type": "code",
   "execution_count": 21,
   "metadata": {},
   "outputs": [],
   "source": [
    "## decile code\n",
    "def deciles(x):\n",
    "    decile = pd.Series(index=[0,1,2,3,4,5,6,7,8,9])\n",
    "    for i in np.arange(0.1,1.1,0.1):\n",
    "        decile[int(i*10)]=x.quantile(i)\n",
    "    def z(x):\n",
    "        if x<decile[1]:\n",
    "            return(1)\n",
    "        elif x<decile[2]:\n",
    "            return(2)\n",
    "        elif x<decile[3]:\n",
    "            return(3)\n",
    "        elif x<decile[4]:\n",
    "            return(4)\n",
    "        elif x<decile[5]:\n",
    "            return(5)\n",
    "        elif x<decile[6]:\n",
    "            return(6)\n",
    "        elif x<decile[7]:\n",
    "            return(7)\n",
    "        elif x<decile[8]:\n",
    "            return(8)\n",
    "        elif x<decile[9]:\n",
    "            return(9)\n",
    "        elif x<=decile[10]:\n",
    "            return(10)\n",
    "        else:\n",
    "            return(np.NaN)\n",
    "    s=x.map(z)\n",
    "    return(s) "
   ]
  },
  {
   "cell_type": "code",
   "execution_count": 22,
   "metadata": {},
   "outputs": [
    {
     "name": "stdout",
     "output_type": "stream",
     "text": [
      "KS Dev Sample :  0.44 ; KS Holdout Sample :  0.41\n"
     ]
    }
   ],
   "source": [
    "def RO_Table(X,y,Target):\n",
    "    X['decile']=deciles(X[y])\n",
    "    Rank=X.groupby('decile').apply(lambda x: pd.Series([\n",
    "        np.min(x[y]),\n",
    "        np.max(x[y]),\n",
    "        np.mean(x[y]),\n",
    "        np.size(x[y]),\n",
    "        np.sum(x[Target]),\n",
    "        np.size(x[Target][x[Target]==0]),\n",
    "        ],\n",
    "        index=([\"min_resp\",\"max_resp\",\"avg_resp\",\"cnt\",\"cnt_resp\",\"cnt_non_resp\"])\n",
    "        )).reset_index()\n",
    "    Rank = Rank.sort_values(by='decile',ascending=False)\n",
    "    Rank[\"rrate\"] = round(Rank[\"cnt_resp\"]*100/Rank[\"cnt\"],2)\n",
    "    Rank[\"cum_resp\"] = np.cumsum(Rank[\"cnt_resp\"])\n",
    "    Rank[\"cum_non_resp\"] = np.cumsum(Rank[\"cnt_non_resp\"])\n",
    "    Rank[\"cum_resp_pct\"] = round(Rank[\"cum_resp\"]/np.sum(Rank[\"cnt_resp\"]),2)\n",
    "    Rank[\"cum_non_resp_pct\"] = round(Rank[\"cum_non_resp\"]/np.sum(Rank[\"cnt_non_resp\"]),2)\n",
    "    Rank[\"KS\"] = round(Rank[\"cum_resp_pct\"] - Rank[\"cum_non_resp_pct\"],2)\n",
    "    Rank\n",
    "    return(Rank)\n",
    "\n",
    "Rank = RO_Table(RFDF_dev,\"Predict_score\",\"Target\")\n",
    "KS_dev = max(Rank.KS)\n",
    "\n",
    "Rank_holdout = RO_Table(RFDF_holdout,\"Predict_score\",\"Target\")\n",
    "KS_hold = max(Rank_holdout.KS)\n",
    "\n",
    "print(\"KS Dev Sample : \", KS_dev ,\"; KS Holdout Sample : \" , KS_hold)\n"
   ]
  },
  {
   "cell_type": "code",
   "execution_count": 23,
   "metadata": {},
   "outputs": [
    {
     "data": {
      "text/html": [
       "<div>\n",
       "<style scoped>\n",
       "    .dataframe tbody tr th:only-of-type {\n",
       "        vertical-align: middle;\n",
       "    }\n",
       "\n",
       "    .dataframe tbody tr th {\n",
       "        vertical-align: top;\n",
       "    }\n",
       "\n",
       "    .dataframe thead th {\n",
       "        text-align: right;\n",
       "    }\n",
       "</style>\n",
       "<table border=\"1\" class=\"dataframe\">\n",
       "  <thead>\n",
       "    <tr style=\"text-align: right;\">\n",
       "      <th></th>\n",
       "      <th>decile</th>\n",
       "      <th>min_resp</th>\n",
       "      <th>max_resp</th>\n",
       "      <th>avg_resp</th>\n",
       "      <th>cnt</th>\n",
       "      <th>cnt_resp</th>\n",
       "      <th>cnt_non_resp</th>\n",
       "      <th>rrate</th>\n",
       "      <th>cum_resp</th>\n",
       "      <th>cum_non_resp</th>\n",
       "      <th>cum_resp_pct</th>\n",
       "      <th>cum_non_resp_pct</th>\n",
       "      <th>KS</th>\n",
       "    </tr>\n",
       "  </thead>\n",
       "  <tbody>\n",
       "    <tr>\n",
       "      <th>9</th>\n",
       "      <td>10</td>\n",
       "      <td>0.189280</td>\n",
       "      <td>0.536085</td>\n",
       "      <td>0.266231</td>\n",
       "      <td>600.0</td>\n",
       "      <td>188.0</td>\n",
       "      <td>412.0</td>\n",
       "      <td>31.33</td>\n",
       "      <td>188.0</td>\n",
       "      <td>412.0</td>\n",
       "      <td>0.38</td>\n",
       "      <td>0.07</td>\n",
       "      <td>0.31</td>\n",
       "    </tr>\n",
       "    <tr>\n",
       "      <th>8</th>\n",
       "      <td>9</td>\n",
       "      <td>0.134115</td>\n",
       "      <td>0.189273</td>\n",
       "      <td>0.158138</td>\n",
       "      <td>600.0</td>\n",
       "      <td>84.0</td>\n",
       "      <td>516.0</td>\n",
       "      <td>14.00</td>\n",
       "      <td>272.0</td>\n",
       "      <td>928.0</td>\n",
       "      <td>0.55</td>\n",
       "      <td>0.17</td>\n",
       "      <td>0.38</td>\n",
       "    </tr>\n",
       "    <tr>\n",
       "      <th>7</th>\n",
       "      <td>8</td>\n",
       "      <td>0.103648</td>\n",
       "      <td>0.134078</td>\n",
       "      <td>0.118347</td>\n",
       "      <td>600.0</td>\n",
       "      <td>56.0</td>\n",
       "      <td>544.0</td>\n",
       "      <td>9.33</td>\n",
       "      <td>328.0</td>\n",
       "      <td>1472.0</td>\n",
       "      <td>0.66</td>\n",
       "      <td>0.27</td>\n",
       "      <td>0.39</td>\n",
       "    </tr>\n",
       "    <tr>\n",
       "      <th>6</th>\n",
       "      <td>7</td>\n",
       "      <td>0.080147</td>\n",
       "      <td>0.103620</td>\n",
       "      <td>0.090978</td>\n",
       "      <td>600.0</td>\n",
       "      <td>58.0</td>\n",
       "      <td>542.0</td>\n",
       "      <td>9.67</td>\n",
       "      <td>386.0</td>\n",
       "      <td>2014.0</td>\n",
       "      <td>0.78</td>\n",
       "      <td>0.37</td>\n",
       "      <td>0.41</td>\n",
       "    </tr>\n",
       "    <tr>\n",
       "      <th>5</th>\n",
       "      <td>6</td>\n",
       "      <td>0.061666</td>\n",
       "      <td>0.080073</td>\n",
       "      <td>0.070631</td>\n",
       "      <td>600.0</td>\n",
       "      <td>35.0</td>\n",
       "      <td>565.0</td>\n",
       "      <td>5.83</td>\n",
       "      <td>421.0</td>\n",
       "      <td>2579.0</td>\n",
       "      <td>0.85</td>\n",
       "      <td>0.47</td>\n",
       "      <td>0.38</td>\n",
       "    </tr>\n",
       "    <tr>\n",
       "      <th>4</th>\n",
       "      <td>5</td>\n",
       "      <td>0.045393</td>\n",
       "      <td>0.061665</td>\n",
       "      <td>0.053206</td>\n",
       "      <td>600.0</td>\n",
       "      <td>26.0</td>\n",
       "      <td>574.0</td>\n",
       "      <td>4.33</td>\n",
       "      <td>447.0</td>\n",
       "      <td>3153.0</td>\n",
       "      <td>0.90</td>\n",
       "      <td>0.57</td>\n",
       "      <td>0.33</td>\n",
       "    </tr>\n",
       "    <tr>\n",
       "      <th>3</th>\n",
       "      <td>4</td>\n",
       "      <td>0.033745</td>\n",
       "      <td>0.045376</td>\n",
       "      <td>0.039430</td>\n",
       "      <td>600.0</td>\n",
       "      <td>18.0</td>\n",
       "      <td>582.0</td>\n",
       "      <td>3.00</td>\n",
       "      <td>465.0</td>\n",
       "      <td>3735.0</td>\n",
       "      <td>0.93</td>\n",
       "      <td>0.68</td>\n",
       "      <td>0.25</td>\n",
       "    </tr>\n",
       "    <tr>\n",
       "      <th>2</th>\n",
       "      <td>3</td>\n",
       "      <td>0.025646</td>\n",
       "      <td>0.033730</td>\n",
       "      <td>0.029660</td>\n",
       "      <td>600.0</td>\n",
       "      <td>15.0</td>\n",
       "      <td>585.0</td>\n",
       "      <td>2.50</td>\n",
       "      <td>480.0</td>\n",
       "      <td>4320.0</td>\n",
       "      <td>0.96</td>\n",
       "      <td>0.79</td>\n",
       "      <td>0.17</td>\n",
       "    </tr>\n",
       "    <tr>\n",
       "      <th>1</th>\n",
       "      <td>2</td>\n",
       "      <td>0.017571</td>\n",
       "      <td>0.025620</td>\n",
       "      <td>0.021460</td>\n",
       "      <td>600.0</td>\n",
       "      <td>8.0</td>\n",
       "      <td>592.0</td>\n",
       "      <td>1.33</td>\n",
       "      <td>488.0</td>\n",
       "      <td>4912.0</td>\n",
       "      <td>0.98</td>\n",
       "      <td>0.89</td>\n",
       "      <td>0.09</td>\n",
       "    </tr>\n",
       "    <tr>\n",
       "      <th>0</th>\n",
       "      <td>1</td>\n",
       "      <td>0.001931</td>\n",
       "      <td>0.017568</td>\n",
       "      <td>0.012905</td>\n",
       "      <td>600.0</td>\n",
       "      <td>10.0</td>\n",
       "      <td>590.0</td>\n",
       "      <td>1.67</td>\n",
       "      <td>498.0</td>\n",
       "      <td>5502.0</td>\n",
       "      <td>1.00</td>\n",
       "      <td>1.00</td>\n",
       "      <td>0.00</td>\n",
       "    </tr>\n",
       "  </tbody>\n",
       "</table>\n",
       "</div>"
      ],
      "text/plain": [
       "   decile  min_resp  max_resp  avg_resp    cnt  cnt_resp  cnt_non_resp  rrate  \\\n",
       "9      10  0.189280  0.536085  0.266231  600.0     188.0         412.0  31.33   \n",
       "8       9  0.134115  0.189273  0.158138  600.0      84.0         516.0  14.00   \n",
       "7       8  0.103648  0.134078  0.118347  600.0      56.0         544.0   9.33   \n",
       "6       7  0.080147  0.103620  0.090978  600.0      58.0         542.0   9.67   \n",
       "5       6  0.061666  0.080073  0.070631  600.0      35.0         565.0   5.83   \n",
       "4       5  0.045393  0.061665  0.053206  600.0      26.0         574.0   4.33   \n",
       "3       4  0.033745  0.045376  0.039430  600.0      18.0         582.0   3.00   \n",
       "2       3  0.025646  0.033730  0.029660  600.0      15.0         585.0   2.50   \n",
       "1       2  0.017571  0.025620  0.021460  600.0       8.0         592.0   1.33   \n",
       "0       1  0.001931  0.017568  0.012905  600.0      10.0         590.0   1.67   \n",
       "\n",
       "   cum_resp  cum_non_resp  cum_resp_pct  cum_non_resp_pct    KS  \n",
       "9     188.0         412.0          0.38              0.07  0.31  \n",
       "8     272.0         928.0          0.55              0.17  0.38  \n",
       "7     328.0        1472.0          0.66              0.27  0.39  \n",
       "6     386.0        2014.0          0.78              0.37  0.41  \n",
       "5     421.0        2579.0          0.85              0.47  0.38  \n",
       "4     447.0        3153.0          0.90              0.57  0.33  \n",
       "3     465.0        3735.0          0.93              0.68  0.25  \n",
       "2     480.0        4320.0          0.96              0.79  0.17  \n",
       "1     488.0        4912.0          0.98              0.89  0.09  \n",
       "0     498.0        5502.0          1.00              1.00  0.00  "
      ]
     },
     "execution_count": 23,
     "metadata": {},
     "output_type": "execute_result"
    }
   ],
   "source": [
    "Rank_holdout"
   ]
  },
  {
   "cell_type": "markdown",
   "metadata": {},
   "source": [
    "### Thank you"
   ]
  }
 ],
 "metadata": {
  "anaconda-cloud": {},
  "kernelspec": {
   "display_name": "Python 3 (ipykernel)",
   "language": "python",
   "name": "python3"
  },
  "language_info": {
   "codemirror_mode": {
    "name": "ipython",
    "version": 3
   },
   "file_extension": ".py",
   "mimetype": "text/x-python",
   "name": "python",
   "nbconvert_exporter": "python",
   "pygments_lexer": "ipython3",
   "version": "3.12.2"
  }
 },
 "nbformat": 4,
 "nbformat_minor": 4
}
